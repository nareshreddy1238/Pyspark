{
 "cells": [
  {
   "cell_type": "code",
   "execution_count": 4,
   "id": "8694bb1c-133b-4a16-aea3-4b62186e043f",
   "metadata": {},
   "outputs": [
    {
     "name": "stdout",
     "output_type": "stream",
     "text": [
      "+---+--------+\n",
      "| id|    date|\n",
      "+---+--------+\n",
      "|  1|20200828|\n",
      "|  2|20180525|\n",
      "+---+--------+\n",
      "\n",
      "root\n",
      " |-- id: long (nullable = true)\n",
      " |-- date: string (nullable = true)\n",
      "\n",
      "+---+--------+\n",
      "|id |date    |\n",
      "+---+--------+\n",
      "|1  |20200828|\n",
      "|2  |20180525|\n",
      "+---+--------+\n",
      "\n"
     ]
    }
   ],
   "source": [
    "from pyspark.sql import SparkSession\n",
    "from pyspark.sql.functions import substring\n",
    "spark = SparkSession.builder.appName('com').getOrCreate()\n",
    "\n",
    "data = [(1,\"20200828\"),(2,\"20180525\")]\n",
    "columns=[\"id\",\"date\"]\n",
    "df=spark.createDataFrame(data,columns)\n",
    "df.show()"
   ]
  },
  {
   "cell_type": "code",
   "execution_count": 8,
   "id": "771bbba8-4d95-4ee4-ad8f-230308aeb5d7",
   "metadata": {},
   "outputs": [
    {
     "name": "stdout",
     "output_type": "stream",
     "text": [
      "+---+--------+----+-----+---+\n",
      "| id|    date|year|month|day|\n",
      "+---+--------+----+-----+---+\n",
      "|  1|20200828|2020|   08| 28|\n",
      "|  2|20180525|2018|   05| 25|\n",
      "+---+--------+----+-----+---+\n",
      "\n"
     ]
    }
   ],
   "source": [
    "df.withColumn('year', substring('date', 1,4))\\\n",
    "    .withColumn('month', substring('date', 5,2))\\\n",
    "    .withColumn('day', substring('date', 7,2)).show()"
   ]
  },
  {
   "cell_type": "code",
   "execution_count": 6,
   "id": "bfd423ec-f03b-4526-ac9c-bed0f9647d65",
   "metadata": {},
   "outputs": [
    {
     "name": "stdout",
     "output_type": "stream",
     "text": [
      "+--------+----+-----+---+\n",
      "|    date|year|month|day|\n",
      "+--------+----+-----+---+\n",
      "|20200828|2020|   08| 28|\n",
      "|20180525|2018|   05| 25|\n",
      "+--------+----+-----+---+\n",
      "\n"
     ]
    }
   ],
   "source": [
    "df.select('date', substring('date', 1,4).alias('year'), \\\n",
    "                  substring('date', 5,2).alias('month'), \\\n",
    "                  substring('date', 7,2).alias('day')).show()  "
   ]
  },
  {
   "cell_type": "code",
   "execution_count": 10,
   "id": "c44b4b83-a8a7-497e-91cc-29e6578f2ea6",
   "metadata": {},
   "outputs": [
    {
     "name": "stdout",
     "output_type": "stream",
     "text": [
      "+--------+----+-----+---+\n",
      "|    date|year|month|day|\n",
      "+--------+----+-----+---+\n",
      "|20200828|2020|   08| 28|\n",
      "|20180525|2018|   05| 25|\n",
      "+--------+----+-----+---+\n",
      "\n"
     ]
    }
   ],
   "source": [
    "df.selectExpr('date', 'substring(date, 1,4) as year', \\\n",
    "                  'substring(date, 5,2) as month', \\\n",
    "                 'substring(date, 7,2) as day').show()"
   ]
  },
  {
   "cell_type": "code",
   "execution_count": 12,
   "id": "6be2865e-d371-45d9-b8e1-bca1e9ff997d",
   "metadata": {},
   "outputs": [
    {
     "name": "stdout",
     "output_type": "stream",
     "text": [
      "root\n",
      " |-- id: long (nullable = true)\n",
      " |-- date: string (nullable = true)\n",
      " |-- year: string (nullable = true)\n",
      " |-- month: string (nullable = true)\n",
      " |-- day: string (nullable = true)\n",
      "\n",
      "+---+--------+----+-----+---+\n",
      "|id |date    |year|month|day|\n",
      "+---+--------+----+-----+---+\n",
      "|1  |20200828|2020|08   |28 |\n",
      "|2  |20180525|2018|05   |25 |\n",
      "+---+--------+----+-----+---+\n",
      "\n",
      "+---+--------+----+-----+---+\n",
      "| id|    date|year|month|day|\n",
      "+---+--------+----+-----+---+\n",
      "|  1|20200828|2020|   08| 28|\n",
      "|  2|20180525|2018|   05| 25|\n",
      "+---+--------+----+-----+---+\n",
      "\n"
     ]
    }
   ],
   "source": [
    "import pyspark\n",
    "from pyspark.sql import SparkSession \n",
    "from pyspark.sql.functions import col, substring\n",
    "spark=SparkSession.builder.appName(\"string\").getOrCreate()\n",
    "data = [(1,\"20200828\"),(2,\"20180525\")]\n",
    "columns=[\"id\",\"date\"]\n",
    "df=spark.createDataFrame(data,columns)\n",
    "\n",
    "#Using SQL function substring()\n",
    "df0 = df.withColumn('year', substring('date', 1,4))\\\n",
    "    .withColumn('month', substring('date', 5,2))\\\n",
    "    .withColumn('day', substring('date', 7,2))\n",
    "df0.printSchema()\n",
    "df0.show(truncate=False)\n",
    "\n",
    "#Using select    \n",
    "df1=df.select('date', substring('date', 1,4).alias('year'), \\\n",
    "                  substring('date', 5,2).alias('month'), \\\n",
    "                  substring('date', 7,2).alias('day'))\n",
    "    \n",
    "#Using with selectExpr\n",
    "df2=df.selectExpr('date', 'substring(date, 1,4) as year', \\\n",
    "                  'substring(date, 5,2) as month', \\\n",
    "                  'substring(date, 7,2) as day')\n",
    "\n",
    "#Using substr from Column type\n",
    "df3=df.withColumn('year', col('date').substr(1, 4))\\\n",
    "  .withColumn('month',col('date').substr(5, 2))\\\n",
    "  .withColumn('day', col('date').substr(7, 2))\n",
    "df3.show()"
   ]
  },
  {
   "cell_type": "code",
   "execution_count": null,
   "id": "c8992185-54ce-4f4e-97d3-0becbbad025c",
   "metadata": {},
   "outputs": [],
   "source": []
  }
 ],
 "metadata": {
  "kernelspec": {
   "display_name": "Python 3 (ipykernel)",
   "language": "python",
   "name": "python3"
  },
  "language_info": {
   "codemirror_mode": {
    "name": "ipython",
    "version": 3
   },
   "file_extension": ".py",
   "mimetype": "text/x-python",
   "name": "python",
   "nbconvert_exporter": "python",
   "pygments_lexer": "ipython3",
   "version": "3.10.9"
  }
 },
 "nbformat": 4,
 "nbformat_minor": 5
}
