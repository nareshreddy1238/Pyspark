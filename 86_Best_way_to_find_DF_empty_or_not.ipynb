{
 "cells": [
  {
   "cell_type": "code",
   "execution_count": 2,
   "id": "6ff0497f",
   "metadata": {},
   "outputs": [
    {
     "name": "stdout",
     "output_type": "stream",
     "text": [
      "+---------+----------------+----------+-------------+-----------+------------------+\n",
      "|2019_rank|            City|State_Code|2019_estimate|2010_Census|            Change|\n",
      "+---------+----------------+----------+-------------+-----------+------------------+\n",
      "|        1|     New York[d]|        NY|      8336817|    8175133|            0.0198|\n",
      "|        2|     Los Angeles|        CA|      3979576|    3792621|            0.0493|\n",
      "|        3|         Chicago|        IL|      2693976|    2695598|−0.06%            |\n",
      "|        4|      Houston[3]|        TX|      2320268|    2100263|            0.1048|\n",
      "|        5|         Phoenix|        AZ|      1680992|    1445632|            0.1628|\n",
      "|        6|     San Antonio|        TX|      1547253|    1327407|            0.1656|\n",
      "|        7|       San Diego|        CA|      1423851|    1307402|            0.0891|\n",
      "|        8|          Dallas|        TX|      1343573|    1197816|            0.1217|\n",
      "|        9|        San Jose|        CA|      1021795|     945942|            0.0802|\n",
      "|       10|          Austin|        TX|       978908|     790390|            0.2385|\n",
      "|       11|      Fort Worth|        TX|       909585|     741206|            0.2272|\n",
      "|       12|        Columbus|        OH|       898553|     787033|            0.1417|\n",
      "|       13|San Francisco[g]|        CA|       881549|     805235|            0.0948|\n",
      "|       14|       Denver[i]|        CO|       727211|     600158|            0.2117|\n",
      "|       15|         El Paso|        TX|       681728|     649121|            0.0502|\n",
      "|       16|          Tucson|        AZ|       548073|     520116|            0.0538|\n",
      "|       17|          Fresno|        CA|       531576|     494665|            0.0746|\n",
      "|       18|            Mesa|        AZ|       518012|     439041|            0.1799|\n",
      "|       19|      Sacramento|        CA|       513624|     466488|             0.101|\n",
      "|       20|Colorado Springs|        CO|       478221|     416427|            0.1484|\n",
      "+---------+----------------+----------+-------------+-----------+------------------+\n",
      "only showing top 20 rows\n",
      "\n"
     ]
    }
   ],
   "source": [
    "from pyspark.sql import SparkSession\n",
    "\n",
    "spark = SparkSession.builder.appName('app').getOrCreate()\n",
    "df = spark.read.option(\"delimiter\",\"|\").option(\"header\",True).option(\"inferSchema\",True).csv(\"uspopulation.csv\")\n",
    "df.show()"
   ]
  },
  {
   "cell_type": "code",
   "execution_count": 4,
   "id": "c5722099",
   "metadata": {},
   "outputs": [
    {
     "name": "stdout",
     "output_type": "stream",
     "text": [
      "+--------------+----------------+\n",
      "|          City|sum(2010_Census)|\n",
      "+--------------+----------------+\n",
      "|         Tyler|           96900|\n",
      "|      McKinney|          131117|\n",
      "|        Dallas|         1197816|\n",
      "|        Laredo|          236091|\n",
      "|   San Antonio|         1327407|\n",
      "|         Allen|           84246|\n",
      "|       McAllen|          129877|\n",
      "|      Edinburg|           77100|\n",
      "|         Plano|          259841|\n",
      "|   League City|           83560|\n",
      "|        Austin|          790390|\n",
      "|       El Paso|          649121|\n",
      "|      Pasadena|          149043|\n",
      "|       Garland|          226876|\n",
      "|      Mesquite|          139824|\n",
      "|       Lubbock|          229573|\n",
      "|        Irving|          216290|\n",
      "|Corpus Christi|          305215|\n",
      "|      Amarillo|          190695|\n",
      "|    Round Rock|           99887|\n",
      "+--------------+----------------+\n",
      "only showing top 20 rows\n",
      "\n"
     ]
    }
   ],
   "source": [
    "grp_df = df.filter(\"State_Code=='TX'\").groupBy(\"City\").sum(\"2010_Census\")\n",
    "grp_df.show()"
   ]
  },
  {
   "cell_type": "markdown",
   "id": "0b89edf1",
   "metadata": {},
   "source": [
    "## check DataFrame empty or not All the Ways"
   ]
  },
  {
   "cell_type": "markdown",
   "id": "32eb22eb",
   "metadata": {},
   "source": [
    "### Using Count:"
   ]
  },
  {
   "cell_type": "code",
   "execution_count": 5,
   "id": "5d9cb6fd",
   "metadata": {},
   "outputs": [
    {
     "name": "stdout",
     "output_type": "stream",
     "text": [
      "True\n"
     ]
    }
   ],
   "source": [
    "if grp_df.count() > 0:\n",
    "    print(\"True\")\n",
    "else:\n",
    "    print(\"False\")"
   ]
  },
  {
   "cell_type": "markdown",
   "id": "53e8b5ef",
   "metadata": {},
   "source": [
    "### Using First"
   ]
  },
  {
   "cell_type": "code",
   "execution_count": 8,
   "id": "2c92c0cd",
   "metadata": {},
   "outputs": [
    {
     "name": "stdout",
     "output_type": "stream",
     "text": [
      "True\n"
     ]
    }
   ],
   "source": [
    "if grp_df.first():\n",
    "    print(True)\n",
    "else:\n",
    "    print(False)"
   ]
  },
  {
   "cell_type": "markdown",
   "id": "b2d36039",
   "metadata": {},
   "source": [
    "### using Take"
   ]
  },
  {
   "cell_type": "code",
   "execution_count": 10,
   "id": "7c1c37be",
   "metadata": {},
   "outputs": [
    {
     "name": "stdout",
     "output_type": "stream",
     "text": [
      "True\n"
     ]
    }
   ],
   "source": [
    "if grp_df.take(1):\n",
    "    print(True)\n",
    "else:\n",
    "    print(False)"
   ]
  },
  {
   "cell_type": "markdown",
   "id": "e069ac36",
   "metadata": {},
   "source": [
    "### using isEmpty (RDD)"
   ]
  },
  {
   "cell_type": "code",
   "execution_count": 11,
   "id": "a766ed03",
   "metadata": {},
   "outputs": [
    {
     "name": "stdout",
     "output_type": "stream",
     "text": [
      "False\n"
     ]
    }
   ],
   "source": [
    "if grp_df.rdd.isEmpty():\n",
    "    print(True)\n",
    "else:\n",
    "    print(False)"
   ]
  },
  {
   "cell_type": "code",
   "execution_count": null,
   "id": "4981f08c",
   "metadata": {},
   "outputs": [],
   "source": []
  }
 ],
 "metadata": {
  "kernelspec": {
   "display_name": "Python 3 (ipykernel)",
   "language": "python",
   "name": "python3"
  },
  "language_info": {
   "codemirror_mode": {
    "name": "ipython",
    "version": 3
   },
   "file_extension": ".py",
   "mimetype": "text/x-python",
   "name": "python",
   "nbconvert_exporter": "python",
   "pygments_lexer": "ipython3",
   "version": "3.10.9"
  }
 },
 "nbformat": 4,
 "nbformat_minor": 5
}
