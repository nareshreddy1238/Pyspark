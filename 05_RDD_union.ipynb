{
 "cells": [
  {
   "cell_type": "code",
   "execution_count": 8,
   "id": "a14b73dc-d97c-4b2f-9f98-8633b22626a0",
   "metadata": {},
   "outputs": [
    {
     "name": "stdout",
     "output_type": "stream",
     "text": [
      "union: [1, 2, 3, 4, 5, 4, 5, 6, 7, 8]\n",
      "intersection: [4, 5]\n",
      "subtract: [2, 1, 3]\n",
      "cartesian: [(1, 4), (1, 5), (1, 6), (1, 7), (1, 8), (2, 4), (2, 5), (2, 6), (2, 7), (2, 8), (3, 4), (3, 5), (3, 6), (3, 7), (3, 8), (4, 4), (4, 5), (4, 6), (4, 7), (4, 8), (5, 4), (5, 5), (5, 6), (5, 7), (5, 8)]\n"
     ]
    }
   ],
   "source": [
    "from pyspark.sql import SparkSession\n",
    "\n",
    "spark = SparkSession.builder.master(\"local[1]\").appName('app').getOrCreate()\n",
    "sc = spark.sparkContext\n",
    "rdd1 = sc.parallelize([1, 2, 3, 4, 5])\n",
    "rdd2 = sc.parallelize([4, 5, 6, 7, 8])\n",
    "combined_rdd = rdd1.union(rdd2)\n",
    "print(\"union:\", combined_rdd.collect())\n",
    "inter = rdd1.intersection(rdd2)\n",
    "print(\"intersection:\",inter.collect())\n",
    "sub = rdd1.subtract(rdd2)\n",
    "print(\"subtract:\", sub.collect())\n",
    "prod = rdd1.cartesian(rdd2)\n",
    "print(\"cartesian:\", prod.collect())"
   ]
  },
  {
   "cell_type": "code",
   "execution_count": null,
   "id": "72b2cc8f-9651-4a8f-9f07-2d5e089593fe",
   "metadata": {},
   "outputs": [],
   "source": []
  },
  {
   "cell_type": "code",
   "execution_count": null,
   "id": "4de1b92b-3fe1-4c67-a9d0-95bb22be920f",
   "metadata": {},
   "outputs": [],
   "source": []
  }
 ],
 "metadata": {
  "kernelspec": {
   "display_name": "Python 3 (ipykernel)",
   "language": "python",
   "name": "python3"
  },
  "language_info": {
   "codemirror_mode": {
    "name": "ipython",
    "version": 3
   },
   "file_extension": ".py",
   "mimetype": "text/x-python",
   "name": "python",
   "nbconvert_exporter": "python",
   "pygments_lexer": "ipython3",
   "version": "3.10.9"
  }
 },
 "nbformat": 4,
 "nbformat_minor": 5
}
