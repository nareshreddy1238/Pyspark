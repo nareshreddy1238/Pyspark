{
 "cells": [
  {
   "cell_type": "code",
   "execution_count": 1,
   "id": "1169e6b1",
   "metadata": {},
   "outputs": [
    {
     "name": "stdout",
     "output_type": "stream",
     "text": [
      "+------+---+---------+----+\n",
      "|  Name|Age|Education|Year|\n",
      "+------+---+---------+----+\n",
      "|   RAM| 28|       BE|2012|\n",
      "|Rakesh| 53|      MBA|1985|\n",
      "| Madhu| 22|    B.Com|2018|\n",
      "|Rakesh| 53|      MBA|1985|\n",
      "|  Bill| 32|       ME|2007|\n",
      "| Madhu| 22|    B.Com|2018|\n",
      "|Rakesh| 53|      MBA|1985|\n",
      "|   RAM| 25|       MA|2012|\n",
      "+------+---+---------+----+\n",
      "\n"
     ]
    }
   ],
   "source": [
    "from pyspark.sql import SparkSession\n",
    "spark = SparkSession.builder.appName('app').getOrCreate()\n",
    "df = spark.read.csv(\"duplicate.csv\",header=True)\n",
    "df.show()"
   ]
  },
  {
   "cell_type": "markdown",
   "id": "cb9375e6",
   "metadata": {},
   "source": [
    "### groupBy"
   ]
  },
  {
   "cell_type": "code",
   "execution_count": 6,
   "id": "7a264bf7",
   "metadata": {},
   "outputs": [
    {
     "name": "stdout",
     "output_type": "stream",
     "text": [
      "+------+---+---------+----+\n",
      "|  Name|Age|Education|Year|\n",
      "+------+---+---------+----+\n",
      "|Rakesh| 53|      MBA|1985|\n",
      "| Madhu| 22|    B.Com|2018|\n",
      "+------+---+---------+----+\n",
      "\n"
     ]
    }
   ],
   "source": [
    "df.groupBy(\"Name\",\"Age\",\"Education\",\"Year\").count().where(\"count > 1\").drop(\"count\").show()"
   ]
  },
  {
   "cell_type": "markdown",
   "id": "e6710b6f",
   "metadata": {},
   "source": [
    "### window: row_number"
   ]
  },
  {
   "cell_type": "code",
   "execution_count": 18,
   "id": "1f14b29b",
   "metadata": {},
   "outputs": [
    {
     "name": "stdout",
     "output_type": "stream",
     "text": [
      "+------+---+---------+----+\n",
      "|  Name|Age|Education|Year|\n",
      "+------+---+---------+----+\n",
      "| Madhu| 22|    B.Com|2018|\n",
      "|Rakesh| 53|      MBA|1985|\n",
      "+------+---+---------+----+\n",
      "\n"
     ]
    }
   ],
   "source": [
    "from pyspark.sql.window import Window\n",
    "from pyspark.sql.functions import col, row_number\n",
    "win = Window.partitionBy(\"name\",\"Age\",\"Education\",\"year\").orderBy(col(\"year\").desc())\n",
    "df.withColumn(\"row\",row_number().over(win)).filter(\"row > 1\").drop(\"row\").dropDuplicates().show()"
   ]
  },
  {
   "cell_type": "code",
   "execution_count": null,
   "id": "e94cdab9",
   "metadata": {},
   "outputs": [],
   "source": []
  }
 ],
 "metadata": {
  "kernelspec": {
   "display_name": "Python 3 (ipykernel)",
   "language": "python",
   "name": "python3"
  },
  "language_info": {
   "codemirror_mode": {
    "name": "ipython",
    "version": 3
   },
   "file_extension": ".py",
   "mimetype": "text/x-python",
   "name": "python",
   "nbconvert_exporter": "python",
   "pygments_lexer": "ipython3",
   "version": "3.10.9"
  }
 },
 "nbformat": 4,
 "nbformat_minor": 5
}
