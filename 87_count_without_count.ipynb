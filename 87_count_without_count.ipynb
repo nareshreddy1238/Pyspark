{
 "cells": [
  {
   "cell_type": "markdown",
   "id": "fdfe7644",
   "metadata": {},
   "source": [
    "### Group By data with count method"
   ]
  },
  {
   "cell_type": "code",
   "execution_count": 4,
   "id": "ab0d07f6",
   "metadata": {
    "scrolled": true
   },
   "outputs": [
    {
     "name": "stdout",
     "output_type": "stream",
     "text": [
      "+---------+----------------+----------+-------------+-----------+------------------+\n",
      "|2019_rank|            City|State_Code|2019_estimate|2010_Census|            Change|\n",
      "+---------+----------------+----------+-------------+-----------+------------------+\n",
      "|        1|     New York[d]|        NY|      8336817|    8175133|            0.0198|\n",
      "|        2|     Los Angeles|        CA|      3979576|    3792621|            0.0493|\n",
      "|        3|         Chicago|        IL|      2693976|    2695598|−0.06%            |\n",
      "|        4|      Houston[3]|        TX|      2320268|    2100263|            0.1048|\n",
      "|        5|         Phoenix|        AZ|      1680992|    1445632|            0.1628|\n",
      "|        6|     San Antonio|        TX|      1547253|    1327407|            0.1656|\n",
      "|        7|       San Diego|        CA|      1423851|    1307402|            0.0891|\n",
      "|        8|          Dallas|        TX|      1343573|    1197816|            0.1217|\n",
      "|        9|        San Jose|        CA|      1021795|     945942|            0.0802|\n",
      "|       10|          Austin|        TX|       978908|     790390|            0.2385|\n",
      "|       11|      Fort Worth|        TX|       909585|     741206|            0.2272|\n",
      "|       12|        Columbus|        OH|       898553|     787033|            0.1417|\n",
      "|       13|San Francisco[g]|        CA|       881549|     805235|            0.0948|\n",
      "|       14|       Denver[i]|        CO|       727211|     600158|            0.2117|\n",
      "|       15|         El Paso|        TX|       681728|     649121|            0.0502|\n",
      "|       16|          Tucson|        AZ|       548073|     520116|            0.0538|\n",
      "|       17|          Fresno|        CA|       531576|     494665|            0.0746|\n",
      "|       18|            Mesa|        AZ|       518012|     439041|            0.1799|\n",
      "|       19|      Sacramento|        CA|       513624|     466488|             0.101|\n",
      "|       20|Colorado Springs|        CO|       478221|     416427|            0.1484|\n",
      "+---------+----------------+----------+-------------+-----------+------------------+\n",
      "only showing top 20 rows\n",
      "\n"
     ]
    }
   ],
   "source": [
    "from pyspark.sql import SparkSession\n",
    "spark =SparkSession.builder.appName('Name').getOrCreate()\n",
    "Total_data = spark.read.option(\"delimiter\",\"|\").option(\"header\",True).option(\"inferSchema\",True).csv(\"uspopulation.csv\")\n",
    "Total_data.show()"
   ]
  },
  {
   "cell_type": "code",
   "execution_count": 14,
   "id": "f34dd016",
   "metadata": {},
   "outputs": [
    {
     "data": {
      "text/plain": [
       "156"
      ]
     },
     "execution_count": 14,
     "metadata": {},
     "output_type": "execute_result"
    }
   ],
   "source": [
    "Total_data.count()"
   ]
  },
  {
   "cell_type": "code",
   "execution_count": 15,
   "id": "ff241bd9",
   "metadata": {},
   "outputs": [
    {
     "data": {
      "text/plain": [
       "151"
      ]
     },
     "execution_count": 15,
     "metadata": {},
     "output_type": "execute_result"
    }
   ],
   "source": [
    "Filter_data = Total_data.filter(\"state_code<>'NY'\")\n",
    "Filter_data.count()"
   ]
  },
  {
   "cell_type": "code",
   "execution_count": 16,
   "id": "5bd3e802",
   "metadata": {},
   "outputs": [
    {
     "data": {
      "text/plain": [
       "147"
      ]
     },
     "execution_count": 16,
     "metadata": {},
     "output_type": "execute_result"
    }
   ],
   "source": [
    "Group_data = Filter_data.groupBy(\"city\").sum(\"2019_estimate\")\n",
    "Group_data.count()"
   ]
  },
  {
   "cell_type": "markdown",
   "id": "8187e4dc",
   "metadata": {},
   "source": [
    "### Count the values without count method: using Accumulator (Shared Varaibles & counter)"
   ]
  },
  {
   "cell_type": "code",
   "execution_count": 17,
   "id": "8ff2930c",
   "metadata": {},
   "outputs": [],
   "source": [
    "Total_data_counter = spark.sparkContext.accumulator(0)\n",
    "Filter_data_counter = spark.sparkContext.accumulator(0)\n",
    "Group_data_counter = spark.sparkContext.accumulator(0)"
   ]
  },
  {
   "cell_type": "code",
   "execution_count": 18,
   "id": "1c312471",
   "metadata": {},
   "outputs": [],
   "source": [
    "Total_data.foreach(lambda x: Total_data_counter.add(1))\n",
    "Filter_data.foreach(lambda x: Filter_data_counter.add(1))\n",
    "Group_data.foreach(lambda x: Group_data_counter.add(1))"
   ]
  },
  {
   "cell_type": "code",
   "execution_count": 27,
   "id": "ed7ceba4",
   "metadata": {},
   "outputs": [
    {
     "data": {
      "text/plain": [
       "Accumulator<id=2, value=147>"
      ]
     },
     "execution_count": 27,
     "metadata": {},
     "output_type": "execute_result"
    }
   ],
   "source": [
    "Total_data_counter\n",
    "Filter_data_counter\n",
    "Group_data_counter"
   ]
  },
  {
   "cell_type": "code",
   "execution_count": 28,
   "id": "7ddee2bc",
   "metadata": {},
   "outputs": [
    {
     "data": {
      "text/plain": [
       "147"
      ]
     },
     "execution_count": 28,
     "metadata": {},
     "output_type": "execute_result"
    }
   ],
   "source": [
    "Total_data_counter.value\n",
    "Filter_data_counter.value\n",
    "Group_data_counter.value"
   ]
  },
  {
   "cell_type": "code",
   "execution_count": null,
   "id": "14654f4a",
   "metadata": {},
   "outputs": [],
   "source": []
  }
 ],
 "metadata": {
  "kernelspec": {
   "display_name": "Python 3 (ipykernel)",
   "language": "python",
   "name": "python3"
  },
  "language_info": {
   "codemirror_mode": {
    "name": "ipython",
    "version": 3
   },
   "file_extension": ".py",
   "mimetype": "text/x-python",
   "name": "python",
   "nbconvert_exporter": "python",
   "pygments_lexer": "ipython3",
   "version": "3.10.9"
  }
 },
 "nbformat": 4,
 "nbformat_minor": 5
}
