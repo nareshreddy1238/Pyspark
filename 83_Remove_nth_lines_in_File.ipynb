{
 "cells": [
  {
   "cell_type": "code",
   "execution_count": 1,
   "id": "05838a4e",
   "metadata": {},
   "outputs": [
    {
     "data": {
      "text/plain": [
       "[['Site', 'www.learntospark.com'],\n",
       " ['Desccription', '\"Complete guide to learn Spark', 'AI', 'ML\"'],\n",
       " ['Page Views of each blog'],\n",
       " ['20200817-20200817'],\n",
       " [''],\n",
       " ['Total data in page', '12'],\n",
       " [''],\n",
       " ['Page', 'Date', 'Pageviews', 'Unique_Pageviews', 'Sessions'],\n",
       " ['Guide to Install Spark', '2020-08-17', '1140', '986', '800'],\n",
       " ['Spark MAP vs FlatMap', '2020-08-17', '836', '800', '128'],\n",
       " ['Spark Architechture', '2020-08-17', '1569', '1345', '1400'],\n",
       " ['Azure Function for Mp3 to text', '2020-08-17', '350', '245', '234'],\n",
       " ['Scala Vs Python', '2020-08-17', '200', '150', '130'],\n",
       " ['Spark Window Function', '2020-08-17', '789', '546', '560'],\n",
       " ['Natural Language Processing', '2020-08-17', '467', '456', '100'],\n",
       " ['Spark Linear Interpolation - Time Series',\n",
       "  '2020-08-17',\n",
       "  '698',\n",
       "  '345',\n",
       "  '349'],\n",
       " ['Spark case statement', '2020-08-17', '234', '196', '120'],\n",
       " ['Spark Scenario Based Questions', '2020-08-17', '712', '329', '137'],\n",
       " ['Spark v3.0 Delta Lake', '2020-08-17', '333', '198', '39'],\n",
       " ['Screen Recorder App using Python', '2020-08-17', '766', '567', '344'],\n",
       " ['Spark trick with Show()', '2020-08-17', '108', '35', '24'],\n",
       " ['Spark Cache() Vs Persist', '2020-08-17', '587', '432', '300'],\n",
       " ['Image Processing text to audio', '2020-08-17', '384', '123', '84']]"
      ]
     },
     "execution_count": 1,
     "metadata": {},
     "output_type": "execute_result"
    }
   ],
   "source": [
    "from pyspark.sql import SparkSession\n",
    "spark=SparkSession.builder.master(\"local\").appName(\"Remove N lines\").getOrCreate()\n",
    "sc = spark.sparkContext\n",
    "rdd = sc.textFile(\"pageview.csv\",2).map(lambda x: x.split(','))\n",
    "rdd.getNumPartitions()\n",
    "rdd.collect()"
   ]
  },
  {
   "cell_type": "code",
   "execution_count": 3,
   "id": "5f40d836",
   "metadata": {},
   "outputs": [
    {
     "data": {
      "text/plain": [
       "[['Guide to Install Spark', '2020-08-17', '1140', '986', '800'],\n",
       " ['Spark MAP vs FlatMap', '2020-08-17', '836', '800', '128'],\n",
       " ['Spark Architechture', '2020-08-17', '1569', '1345', '1400'],\n",
       " ['Azure Function for Mp3 to text', '2020-08-17', '350', '245', '234'],\n",
       " ['Scala Vs Python', '2020-08-17', '200', '150', '130'],\n",
       " ['Spark Window Function', '2020-08-17', '789', '546', '560'],\n",
       " ['Natural Language Processing', '2020-08-17', '467', '456', '100'],\n",
       " ['Spark Linear Interpolation - Time Series',\n",
       "  '2020-08-17',\n",
       "  '698',\n",
       "  '345',\n",
       "  '349'],\n",
       " ['Spark case statement', '2020-08-17', '234', '196', '120'],\n",
       " ['Spark Scenario Based Questions', '2020-08-17', '712', '329', '137'],\n",
       " ['Spark v3.0 Delta Lake', '2020-08-17', '333', '198', '39'],\n",
       " ['Screen Recorder App using Python', '2020-08-17', '766', '567', '344'],\n",
       " ['Spark trick with Show()', '2020-08-17', '108', '35', '24'],\n",
       " ['Spark Cache() Vs Persist', '2020-08-17', '587', '432', '300'],\n",
       " ['Image Processing text to audio', '2020-08-17', '384', '123', '84']]"
      ]
     },
     "execution_count": 3,
     "metadata": {},
     "output_type": "execute_result"
    }
   ],
   "source": [
    "rdd_drop=rdd.mapPartitionsWithIndex(lambda id_x, iter: list(iter)[8:] if(id_x == 0) else iter)\n",
    "rdd_drop.collect()"
   ]
  },
  {
   "cell_type": "code",
   "execution_count": 4,
   "id": "788c585a",
   "metadata": {},
   "outputs": [
    {
     "name": "stdout",
     "output_type": "stream",
     "text": [
      "+----------------------------------------+----------+---------+------------+-------+\n",
      "|Page                                    |Date      |Pageviews|unique_views|session|\n",
      "+----------------------------------------+----------+---------+------------+-------+\n",
      "|Guide to Install Spark                  |2020-08-17|1140     |986         |800    |\n",
      "|Spark MAP vs FlatMap                    |2020-08-17|836      |800         |128    |\n",
      "|Spark Architechture                     |2020-08-17|1569     |1345        |1400   |\n",
      "|Azure Function for Mp3 to text          |2020-08-17|350      |245         |234    |\n",
      "|Scala Vs Python                         |2020-08-17|200      |150         |130    |\n",
      "|Spark Window Function                   |2020-08-17|789      |546         |560    |\n",
      "|Natural Language Processing             |2020-08-17|467      |456         |100    |\n",
      "|Spark Linear Interpolation - Time Series|2020-08-17|698      |345         |349    |\n",
      "|Spark case statement                    |2020-08-17|234      |196         |120    |\n",
      "|Spark Scenario Based Questions          |2020-08-17|712      |329         |137    |\n",
      "+----------------------------------------+----------+---------+------------+-------+\n",
      "only showing top 10 rows\n",
      "\n"
     ]
    }
   ],
   "source": [
    "schema=['Page','Date','Pageviews','unique_views','session']\n",
    "out_df=spark.createDataFrame(rdd_drop,schema)\n",
    "out_df.show(10,truncate=0)"
   ]
  },
  {
   "cell_type": "code",
   "execution_count": null,
   "id": "7a2cfc7c",
   "metadata": {},
   "outputs": [],
   "source": []
  }
 ],
 "metadata": {
  "kernelspec": {
   "display_name": "Python 3 (ipykernel)",
   "language": "python",
   "name": "python3"
  },
  "language_info": {
   "codemirror_mode": {
    "name": "ipython",
    "version": 3
   },
   "file_extension": ".py",
   "mimetype": "text/x-python",
   "name": "python",
   "nbconvert_exporter": "python",
   "pygments_lexer": "ipython3",
   "version": "3.10.9"
  }
 },
 "nbformat": 4,
 "nbformat_minor": 5
}
