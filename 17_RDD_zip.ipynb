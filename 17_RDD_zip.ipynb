{
 "cells": [
  {
   "cell_type": "code",
   "execution_count": 1,
   "id": "6e2acd45-d744-4d36-a7d3-2973b8a3ac96",
   "metadata": {},
   "outputs": [
    {
     "name": "stdout",
     "output_type": "stream",
     "text": [
      "zip: [(1, 'A'), (2, 'B'), (3, 'C')]\n",
      "zip with index: [('A', 0), ('B', 1), ('C', 2)]\n"
     ]
    }
   ],
   "source": [
    "from pyspark.sql import SparkSession\n",
    "\n",
    "spark = SparkSession.builder.master(\"local[1]\").appName('app').getOrCreate()\n",
    "sc = spark.sparkContext\n",
    "\n",
    "rdd1 = sc.parallelize([1, 2, 3])\n",
    "rdd2 = sc.parallelize(['A', 'B', 'C'])\n",
    "zipped_rdd = rdd1.zip(rdd2)\n",
    "print(\"zip:\",zipped_rdd.collect())\n",
    "indexed_rdd = rdd2.zipWithIndex()\n",
    "print(\"zip with index:\",indexed_rdd.collect())"
   ]
  },
  {
   "cell_type": "code",
   "execution_count": null,
   "id": "54bfbd71-89e8-497e-b8c4-6fad38fea6aa",
   "metadata": {},
   "outputs": [],
   "source": []
  }
 ],
 "metadata": {
  "kernelspec": {
   "display_name": "Python 3 (ipykernel)",
   "language": "python",
   "name": "python3"
  },
  "language_info": {
   "codemirror_mode": {
    "name": "ipython",
    "version": 3
   },
   "file_extension": ".py",
   "mimetype": "text/x-python",
   "name": "python",
   "nbconvert_exporter": "python",
   "pygments_lexer": "ipython3",
   "version": "3.10.9"
  }
 },
 "nbformat": 4,
 "nbformat_minor": 5
}
