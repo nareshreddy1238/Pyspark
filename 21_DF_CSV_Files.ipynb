{
 "cells": [
  {
   "cell_type": "code",
   "execution_count": 11,
   "id": "8a4277c7-4966-4e39-bfa6-3ef9b8b073fc",
   "metadata": {},
   "outputs": [
    {
     "name": "stdout",
     "output_type": "stream",
     "text": [
      "root\n",
      " |-- _c0: string (nullable = true)\n",
      " |-- _c1: string (nullable = true)\n",
      " |-- _c2: string (nullable = true)\n",
      " |-- _c3: string (nullable = true)\n",
      " |-- _c4: string (nullable = true)\n",
      " |-- _c5: string (nullable = true)\n",
      " |-- _c6: string (nullable = true)\n",
      "\n",
      "root\n",
      " |-- Date: string (nullable = true)\n",
      " |-- Open: string (nullable = true)\n",
      " |-- High: string (nullable = true)\n",
      " |-- Low: string (nullable = true)\n",
      " |-- Close: string (nullable = true)\n",
      " |-- Volume: string (nullable = true)\n",
      " |-- Adj Close: string (nullable = true)\n",
      "\n",
      "root\n",
      " |-- Date: string (nullable = true)\n",
      " |-- Open: double (nullable = true)\n",
      " |-- High: double (nullable = true)\n",
      " |-- Low: double (nullable = true)\n",
      " |-- Close: double (nullable = true)\n",
      " |-- Volume: integer (nullable = true)\n",
      " |-- Adj Close: double (nullable = true)\n",
      "\n",
      "root\n",
      " |-- Date: integer (nullable = true)\n",
      " |-- Open_System: double (nullable = true)\n",
      " |-- High: integer (nullable = true)\n",
      " |-- Low: integer (nullable = true)\n",
      " |-- close_System: double (nullable = true)\n",
      " |-- Volume_name: double (nullable = true)\n",
      " |-- Adjest_type: double (nullable = true)\n",
      "\n"
     ]
    }
   ],
   "source": [
    "import pyspark\n",
    "from pyspark.sql import SparkSession\n",
    "from pyspark.sql.types import StructType,StructField, StringType, IntegerType \n",
    "from pyspark.sql.types import ArrayType, DoubleType, BooleanType\n",
    "from pyspark.sql.functions import col,array_contains\n",
    "\n",
    "spark = SparkSession.builder.appName('SparkByExamples.com').getOrCreate()\n",
    "df = spark.read.csv(\"appl_stock.csv\")\n",
    "df.printSchema()\n",
    "\n",
    "\n",
    "df2 = spark.read.option(\"header\",True).csv(\"appl_stock.csv\")\n",
    "df2.printSchema()\n",
    "\n",
    "\n",
    "df3 = spark.read.options(header='True', inferSchema=True, delimiter=',').csv(\"appl_stock.csv\")\n",
    "df3.printSchema()\n",
    "\n",
    "\n",
    "schema = StructType() \\\n",
    "      .add(\"Date\",IntegerType(),True) \\\n",
    "      .add(\"Open_System\",DoubleType(),True) \\\n",
    "      .add(\"High\",IntegerType(),True) \\\n",
    "      .add(\"Low\",IntegerType(),True) \\\n",
    "      .add(\"close_System\",DoubleType(),True) \\\n",
    "      .add(\"Volume_name\",DoubleType(),True) \\\n",
    "      .add(\"Adjest_type\",DoubleType(),True)\n",
    "\n",
    "df_with_schema = spark.read.format(\"csv\") \\\n",
    "      .option(\"header\", True) \\\n",
    "      .schema(schema) \\\n",
    "      .load(\"appl_stock.csv\")\n",
    "df_with_schema.printSchema()\n",
    "\n",
    "df_with_schema.write.option(\"header\",True).csv(\"demo2.csv\")"
   ]
  },
  {
   "cell_type": "code",
   "execution_count": null,
   "id": "6cd8b437-06eb-4806-ba27-b01728df57d2",
   "metadata": {},
   "outputs": [],
   "source": []
  }
 ],
 "metadata": {
  "kernelspec": {
   "display_name": "Python 3 (ipykernel)",
   "language": "python",
   "name": "python3"
  },
  "language_info": {
   "codemirror_mode": {
    "name": "ipython",
    "version": 3
   },
   "file_extension": ".py",
   "mimetype": "text/x-python",
   "name": "python",
   "nbconvert_exporter": "python",
   "pygments_lexer": "ipython3",
   "version": "3.10.9"
  }
 },
 "nbformat": 4,
 "nbformat_minor": 5
}
