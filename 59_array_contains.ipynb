{
 "cells": [
  {
   "cell_type": "code",
   "execution_count": 14,
   "id": "23f33aa3-c093-4299-86c2-64c54a6e5d47",
   "metadata": {},
   "outputs": [
    {
     "name": "stdout",
     "output_type": "stream",
     "text": [
      "root\n",
      " |-- name: string (nullable = true)\n",
      " |-- subjects: array (nullable = true)\n",
      " |    |-- element: string (containsNull = true)\n",
      " |-- previous_state: string (nullable = true)\n",
      " |-- current_state: string (nullable = true)\n",
      "\n",
      "+----------------+-------------------------------+--------------+-------------+\n",
      "|name            |subjects                       |previous_state|current_state|\n",
      "+----------------+-------------------------------+--------------+-------------+\n",
      "|James,,Smith    |[Java, Scala, C++, Spark, Java]|OH            |CA           |\n",
      "|Michael,Rose,   |[Spark, Java, C++, Spark, Java]|NY            |NJ           |\n",
      "|Robert,,Williams|[CSharp, VB, Spark, Python]    |UT            |NV           |\n",
      "+----------------+-------------------------------+--------------+-------------+\n",
      "\n"
     ]
    }
   ],
   "source": [
    "import pyspark\n",
    "from pyspark.sql import SparkSession\n",
    "\n",
    "spark = SparkSession.builder.appName('spark').getOrCreate()\n",
    "\n",
    "Data = [\n",
    " (\"James,,Smith\",[\"Java\",\"Scala\",\"C++\",\"Spark\",\"Java\"],\"OH\",\"CA\"),\n",
    " (\"Michael,Rose,\",[\"Spark\",\"Java\",\"C++\",\"Spark\",\"Java\"],\"NY\",\"NJ\"),\n",
    " (\"Robert,,Williams\",[\"CSharp\",\"VB\",\"Spark\",\"Python\"],\"UT\",\"NV\")\n",
    "]\n",
    "\n",
    "df = spark.createDataFrame(data=Data,schema=['name','subjects','previous_state','current_state'])\n",
    "df.printSchema()\n",
    "df.show(truncate=False)"
   ]
  },
  {
   "cell_type": "code",
   "execution_count": 10,
   "id": "2fd28d85-afb8-492c-9a6a-17e6832b51b3",
   "metadata": {},
   "outputs": [
    {
     "name": "stdout",
     "output_type": "stream",
     "text": [
      "+----------------+--------------+\n",
      "|            name|array_contains|\n",
      "+----------------+--------------+\n",
      "|    James,,Smith|          true|\n",
      "|   Michael,Rose,|          true|\n",
      "|Robert,,Williams|         false|\n",
      "+----------------+--------------+\n",
      "\n"
     ]
    }
   ],
   "source": [
    "\n",
    "from pyspark.sql.functions import array_contains\n",
    "\n",
    "df.select(df.name,array_contains(df.subjects,\"Java\").alias(\"array_contains\")).show()"
   ]
  },
  {
   "cell_type": "code",
   "execution_count": 15,
   "id": "c777e3ab-53f5-4dc0-988b-89b1867ab38d",
   "metadata": {},
   "outputs": [
    {
     "name": "stdout",
     "output_type": "stream",
     "text": [
      "+----------------+--------+\n",
      "|            name|  States|\n",
      "+----------------+--------+\n",
      "|    James,,Smith|[OH, CA]|\n",
      "|   Michael,Rose,|[NY, NJ]|\n",
      "|Robert,,Williams|[UT, NV]|\n",
      "+----------------+--------+\n",
      "\n"
     ]
    }
   ],
   "source": [
    "from pyspark.sql.functions import array\n",
    "df.select(df.name,array(df.previous_state,df.current_state).alias(\"States\")).show()"
   ]
  },
  {
   "cell_type": "code",
   "execution_count": null,
   "id": "4b5d0706-1ce2-4e71-a034-d9226d655a92",
   "metadata": {},
   "outputs": [],
   "source": []
  }
 ],
 "metadata": {
  "kernelspec": {
   "display_name": "Python 3 (ipykernel)",
   "language": "python",
   "name": "python3"
  },
  "language_info": {
   "codemirror_mode": {
    "name": "ipython",
    "version": 3
   },
   "file_extension": ".py",
   "mimetype": "text/x-python",
   "name": "python",
   "nbconvert_exporter": "python",
   "pygments_lexer": "ipython3",
   "version": "3.10.9"
  }
 },
 "nbformat": 4,
 "nbformat_minor": 5
}
