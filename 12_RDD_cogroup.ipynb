{
 "cells": [
  {
   "cell_type": "code",
   "execution_count": 6,
   "id": "3429226c-ce31-406a-b93e-7195f469ca41",
   "metadata": {},
   "outputs": [
    {
     "name": "stdout",
     "output_type": "stream",
     "text": [
      "Key: 2, Values in RDD1: ['Bob'], Values in RDD2: ['New York']\n",
      "Key: 4, Values in RDD1: [], Values in RDD2: ['Los Angeles']\n",
      "Key: 1, Values in RDD1: ['Alice', 'David'], Values in RDD2: ['Chicago']\n",
      "Key: 3, Values in RDD1: ['Charlie'], Values in RDD2: ['San Francisco']\n"
     ]
    }
   ],
   "source": [
    "from pyspark.sql import SparkSession\n",
    "\n",
    "spark = SparkSession.builder.master(\"local[1]\").appName('app1').getOrCreate()\n",
    "sc = spark.sparkContext\n",
    "\n",
    "rdd1 = sc.parallelize([(1, \"Alice\"), (2, \"Bob\"), (3, \"Charlie\"), (1, \"David\")])\n",
    "rdd2 = sc.parallelize([(2, \"New York\"), (3, \"San Francisco\"), (4, \"Los Angeles\"), (1, \"Chicago\")])\n",
    "cogrouped = rdd1.cogroup(rdd2)\n",
    "for key, values in cogrouped.collect():\n",
    "    print(f\"Key: {key}, Values in RDD1: {list(values[0])}, Values in RDD2: {list(values[1])}\")\n"
   ]
  },
  {
   "cell_type": "code",
   "execution_count": null,
   "id": "8294007d-75d7-436b-a479-0bcc662c9dac",
   "metadata": {},
   "outputs": [],
   "source": []
  }
 ],
 "metadata": {
  "kernelspec": {
   "display_name": "Python 3 (ipykernel)",
   "language": "python",
   "name": "python3"
  },
  "language_info": {
   "codemirror_mode": {
    "name": "ipython",
    "version": 3
   },
   "file_extension": ".py",
   "mimetype": "text/x-python",
   "name": "python",
   "nbconvert_exporter": "python",
   "pygments_lexer": "ipython3",
   "version": "3.10.9"
  }
 },
 "nbformat": 4,
 "nbformat_minor": 5
}
