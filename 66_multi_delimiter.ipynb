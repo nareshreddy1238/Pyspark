{
 "cells": [
  {
   "cell_type": "code",
   "execution_count": 3,
   "id": "865ea714-0088-4b92-b8f8-27f68a6558c7",
   "metadata": {},
   "outputs": [
    {
     "name": "stdout",
     "output_type": "stream",
     "text": [
      "+--------------+---+\n",
      "|          Name|Age|\n",
      "+--------------+---+\n",
      "| Naresh, Reddy| 25|\n",
      "|Michal, Clarke| 26|\n",
      "|  Virat, Kohli| 45|\n",
      "|    Demo, Mama| 67|\n",
      "|     Hi, Hello| 89|\n",
      "+--------------+---+\n",
      "\n"
     ]
    }
   ],
   "source": [
    "from pyspark.sql import SparkSession\n",
    "\n",
    "spark = SparkSession.builder.appName('com').getOrCreate()\n",
    "df = spark.read.csv(\"input.csv\",header=True, sep=\"~|\")\n",
    "df.show()"
   ]
  },
  {
   "cell_type": "code",
   "execution_count": 16,
   "id": "cba3aacf-a3c4-42f4-98f6-9bc6b96eccc5",
   "metadata": {},
   "outputs": [
    {
     "name": "stdout",
     "output_type": "stream",
     "text": [
      "+---+------+--------+\n",
      "| id|  name|location|\n",
      "+---+------+--------+\n",
      "|  1|  nani|     hyd|\n",
      "|  2| nikky|     hyd|\n",
      "|  3|jhansi|     hyd|\n",
      "|  4|  demo|     ban|\n",
      "|  5|lokesh|   darsi|\n",
      "|  6| dummy|  podili|\n",
      "+---+------+--------+\n",
      "\n"
     ]
    }
   ],
   "source": [
    "df1 = spark.read.csv(\"emp_input.csv\",header=True,sep=\"||\")\n",
    "df1.show()"
   ]
  },
  {
   "cell_type": "code",
   "execution_count": 19,
   "id": "4c74549b-24a6-423c-9ad2-c55baa10090f",
   "metadata": {},
   "outputs": [
    {
     "name": "stdout",
     "output_type": "stream",
     "text": [
      "+---+---------+--------+-----------------+\n",
      "| id|     name|location|            marks|\n",
      "+---+---------+--------+-----------------+\n",
      "|  1|     nani|   darsi|56|78|89|90|98|67|\n",
      "|  2|    nikky|   darsi|46|78|79|90|99|67|\n",
      "|  3|    jhasi|   darsi|56|78|99|90|98|67|\n",
      "|  4|   komali|   darsi|66|78|99|90|98|69|\n",
      "|  5|kalavathi|  podili|76|78|89|90|98|67|\n",
      "+---+---------+--------+-----------------+\n",
      "\n"
     ]
    }
   ],
   "source": [
    "df1 = spark.read.csv(\"student_input.csv\",header=True)\n",
    "df1.show()"
   ]
  },
  {
   "cell_type": "code",
   "execution_count": 27,
   "id": "c6763ccd-96a3-42dd-ab1b-12b2582664c9",
   "metadata": {},
   "outputs": [
    {
     "name": "stdout",
     "output_type": "stream",
     "text": [
      "+---+---------+--------+----+----+----+----+----+----+\n",
      "|id |name     |location|sub1|sub2|sub3|sub4|sub5|sub6|\n",
      "+---+---------+--------+----+----+----+----+----+----+\n",
      "|1  |nani     |darsi   |56  |78  |89  |90  |98  |67  |\n",
      "|2  |nikky    |darsi   |46  |78  |79  |90  |99  |67  |\n",
      "|3  |jhasi    |darsi   |56  |78  |99  |90  |98  |67  |\n",
      "|4  |komali   |darsi   |66  |78  |99  |90  |98  |69  |\n",
      "|5  |kalavathi|podili  |76  |78  |89  |90  |98  |67  |\n",
      "+---+---------+--------+----+----+----+----+----+----+\n",
      "\n"
     ]
    }
   ],
   "source": [
    "from pyspark.sql.functions import split,col\n",
    "df_m = df1.withColumn(\"marks_split\",split(col('marks'),\"[|]\"))\\\n",
    "        .withColumn(\"sub1\",col(\"marks_split\")[0])\\\n",
    "        .withColumn(\"sub2\",col(\"marks_split\")[1])\\\n",
    "        .withColumn(\"sub3\",col(\"marks_split\")[2])\\\n",
    "        .withColumn(\"sub4\",col(\"marks_split\")[3])\\\n",
    "        .withColumn(\"sub5\",col(\"marks_split\")[4])\\\n",
    "        .withColumn(\"sub6\",col(\"marks_split\")[5]).drop(\"marks\",\"marks_split\")\n",
    "df_m.show(truncate=False)"
   ]
  },
  {
   "cell_type": "code",
   "execution_count": null,
   "id": "08a9962f-9333-418b-b29c-5da9ddb8647f",
   "metadata": {},
   "outputs": [],
   "source": []
  }
 ],
 "metadata": {
  "kernelspec": {
   "display_name": "Python 3 (ipykernel)",
   "language": "python",
   "name": "python3"
  },
  "language_info": {
   "codemirror_mode": {
    "name": "ipython",
    "version": 3
   },
   "file_extension": ".py",
   "mimetype": "text/x-python",
   "name": "python",
   "nbconvert_exporter": "python",
   "pygments_lexer": "ipython3",
   "version": "3.10.9"
  }
 },
 "nbformat": 4,
 "nbformat_minor": 5
}
