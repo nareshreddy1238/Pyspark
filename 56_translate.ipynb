{
 "cells": [
  {
   "cell_type": "code",
   "execution_count": 1,
   "id": "2cc30005-f51a-4641-9533-8b96e7324ebb",
   "metadata": {},
   "outputs": [
    {
     "name": "stdout",
     "output_type": "stream",
     "text": [
      "+---+------------------+-----+\n",
      "| id|           address|state|\n",
      "+---+------------------+-----+\n",
      "|  1|  14851 Jeffrey Rd|   DE|\n",
      "|  2|43421 Margarita St|   NY|\n",
      "|  3|  13111 Siemon Ave|   CA|\n",
      "+---+------------------+-----+\n",
      "\n"
     ]
    }
   ],
   "source": [
    "from pyspark.sql import SparkSession\n",
    "spark = SparkSession.builder.master(\"local[1]\").appName(\"SparkByExamples.com\").getOrCreate()\n",
    "address = [(1,\"14851 Jeffrey Rd\",\"DE\"),\n",
    "    (2,\"43421 Margarita St\",\"NY\"),\n",
    "    (3,\"13111 Siemon Ave\",\"CA\")]\n",
    "df =spark.createDataFrame(address,[\"id\",\"address\",\"state\"])\n",
    "df.show()"
   ]
  },
  {
   "cell_type": "code",
   "execution_count": 2,
   "id": "1972c880-3169-4613-ab35-f402cc630bb8",
   "metadata": {},
   "outputs": [
    {
     "name": "stdout",
     "output_type": "stream",
     "text": [
      "+---+------------------+-----+\n",
      "|id |address           |state|\n",
      "+---+------------------+-----+\n",
      "|1  |14851 Jeffrey Road|DE   |\n",
      "|2  |43421 Margarita St|NY   |\n",
      "|3  |13111 Siemon Ave  |CA   |\n",
      "+---+------------------+-----+\n",
      "\n"
     ]
    }
   ],
   "source": [
    "from pyspark.sql.functions import regexp_replace\n",
    "df.withColumn('address', regexp_replace('address', 'Rd', 'Road')).show(truncate=False)"
   ]
  },
  {
   "cell_type": "code",
   "execution_count": 3,
   "id": "50bcfb3e-99b0-4ac2-af22-317f419aad15",
   "metadata": {},
   "outputs": [
    {
     "name": "stdout",
     "output_type": "stream",
     "text": [
      "+---+----------------------+-----+\n",
      "|id |address               |state|\n",
      "+---+----------------------+-----+\n",
      "|1  |14851 Jeffrey Road    |DE   |\n",
      "|2  |43421 Margarita Street|NY   |\n",
      "|3  |13111 Siemon Avenue   |CA   |\n",
      "+---+----------------------+-----+\n",
      "\n"
     ]
    }
   ],
   "source": [
    "from pyspark.sql.functions import when\n",
    "df.withColumn('address', \n",
    "    when(df.address.endswith('Rd'),regexp_replace(df.address,'Rd','Road')) \\\n",
    "   .when(df.address.endswith('St'),regexp_replace(df.address,'St','Street')) \\\n",
    "   .when(df.address.endswith('Ave'),regexp_replace(df.address,'Ave','Avenue')) \\\n",
    "   .otherwise(df.address)) \\\n",
    "   .show(truncate=False)"
   ]
  },
  {
   "cell_type": "code",
   "execution_count": 4,
   "id": "9b25d1d7-dccc-4495-bd4b-c9320d3fffd0",
   "metadata": {},
   "outputs": [
    {
     "name": "stdout",
     "output_type": "stream",
     "text": [
      "+---+------------------+----------+\n",
      "| id|           address|     state|\n",
      "+---+------------------+----------+\n",
      "|  1|  14851 Jeffrey Rd|  Delaware|\n",
      "|  2|43421 Margarita St|  New York|\n",
      "|  3|  13111 Siemon Ave|California|\n",
      "+---+------------------+----------+\n",
      "\n"
     ]
    }
   ],
   "source": [
    "stateDic={'CA':'California','NY':'New York','DE':'Delaware'}\n",
    "df2=df.rdd.map(lambda x: (x.id,x.address,stateDic[x.state])).toDF([\"id\",\"address\",\"state\"])\n",
    "df2.show()"
   ]
  },
  {
   "cell_type": "code",
   "execution_count": 5,
   "id": "fa6184b4-95ba-4b80-9ea8-9323805ddcae",
   "metadata": {},
   "outputs": [
    {
     "name": "stdout",
     "output_type": "stream",
     "text": [
      "+---+------------------+-----+\n",
      "|id |address           |state|\n",
      "+---+------------------+-----+\n",
      "|1  |A485A Jeffrey Rd  |DE   |\n",
      "|2  |4C4BA Margarita St|NY   |\n",
      "|3  |ACAAA Siemon Ave  |CA   |\n",
      "+---+------------------+-----+\n",
      "\n"
     ]
    }
   ],
   "source": [
    "from pyspark.sql.functions import translate\n",
    "df.withColumn('address', translate('address', '123', 'ABC')).show(truncate=False)"
   ]
  },
  {
   "cell_type": "code",
   "execution_count": 6,
   "id": "3d4ab223-e6c1-4bbf-8bef-0dcf8ba1e102",
   "metadata": {},
   "outputs": [
    {
     "name": "stdout",
     "output_type": "stream",
     "text": [
      "+---------+----+----+----------+\n",
      "|     col1|col2|col3|new_column|\n",
      "+---------+----+----+----------+\n",
      "|ABCDE_XYZ| XYZ| FGH| ABCDE_FGH|\n",
      "+---------+----+----+----------+\n",
      "\n"
     ]
    }
   ],
   "source": [
    "from pyspark.sql.functions import expr\n",
    "df = spark.createDataFrame(\n",
    "   [(\"ABCDE_XYZ\", \"XYZ\",\"FGH\")], \n",
    "    (\"col1\", \"col2\",\"col3\")\n",
    "  )\n",
    "df.withColumn(\"new_column\",expr(\"regexp_replace(col1, col2, col3)\").alias(\"replaced_value\")).show()"
   ]
  },
  {
   "cell_type": "code",
   "execution_count": 7,
   "id": "9811ba67-ed2f-4b97-afda-605545685333",
   "metadata": {},
   "outputs": [
    {
     "name": "stdout",
     "output_type": "stream",
     "text": [
      "+---------+\n",
      "|overlayed|\n",
      "+---------+\n",
      "|ABCDE_FGH|\n",
      "+---------+\n",
      "\n"
     ]
    }
   ],
   "source": [
    "from pyspark.sql.functions import overlay\n",
    "df = spark.createDataFrame([(\"ABCDE_XYZ\", \"FGH\")], (\"col1\", \"col2\"))\n",
    "df.select(overlay(\"col1\", \"col2\", 7).alias(\"overlayed\")).show()"
   ]
  },
  {
   "cell_type": "code",
   "execution_count": null,
   "id": "8c72efb9-3801-42f6-bc02-a8f80bdf4d39",
   "metadata": {},
   "outputs": [],
   "source": []
  }
 ],
 "metadata": {
  "kernelspec": {
   "display_name": "Python 3 (ipykernel)",
   "language": "python",
   "name": "python3"
  },
  "language_info": {
   "codemirror_mode": {
    "name": "ipython",
    "version": 3
   },
   "file_extension": ".py",
   "mimetype": "text/x-python",
   "name": "python",
   "nbconvert_exporter": "python",
   "pygments_lexer": "ipython3",
   "version": "3.10.9"
  }
 },
 "nbformat": 4,
 "nbformat_minor": 5
}
