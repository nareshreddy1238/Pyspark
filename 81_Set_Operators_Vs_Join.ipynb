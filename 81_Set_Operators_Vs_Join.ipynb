{
 "cells": [
  {
   "cell_type": "code",
   "execution_count": 1,
   "id": "b2adb9c1",
   "metadata": {},
   "outputs": [
    {
     "name": "stdout",
     "output_type": "stream",
     "text": [
      "+---+---------+---+\n",
      "| Id|     Name|Age|\n",
      "+---+---------+---+\n",
      "|  1|     Nani| 32|\n",
      "|  2|    Nikky|  2|\n",
      "|  3|   Jhansi| 27|\n",
      "|  4|  JayaRam| 62|\n",
      "|  5|Ramanamma| 58|\n",
      "+---+---------+---+\n",
      "\n",
      "+---+-------+---+\n",
      "| Id|   Name|Age|\n",
      "+---+-------+---+\n",
      "|  1|   Nani| 32|\n",
      "|  2|  Nikky|  2|\n",
      "|  4|JayaRam| 62|\n",
      "+---+-------+---+\n",
      "\n"
     ]
    }
   ],
   "source": [
    "from pyspark.sql import SparkSession\n",
    "\n",
    "spark = SparkSession.builder.appName('Na').getOrCreate()\n",
    "df1 = spark.read.csv('student1.csv',header=True)\n",
    "df2 = spark.read.csv('student2.csv',header=True)\n",
    "df1.show()\n",
    "df2.show()"
   ]
  },
  {
   "cell_type": "markdown",
   "id": "59e45ea7",
   "metadata": {},
   "source": [
    "### common values "
   ]
  },
  {
   "cell_type": "code",
   "execution_count": 4,
   "id": "ac824806",
   "metadata": {},
   "outputs": [
    {
     "name": "stdout",
     "output_type": "stream",
     "text": [
      "+---+-------+---+\n",
      "| Id|   Name|Age|\n",
      "+---+-------+---+\n",
      "|  4|JayaRam| 62|\n",
      "|  1|   Nani| 32|\n",
      "|  2|  Nikky|  2|\n",
      "+---+-------+---+\n",
      "\n",
      "+---+-------+---+\n",
      "| Id|   Name|Age|\n",
      "+---+-------+---+\n",
      "|  4|JayaRam| 62|\n",
      "|  1|   Nani| 32|\n",
      "|  2|  Nikky|  2|\n",
      "+---+-------+---+\n",
      "\n",
      "+---+-------+---+\n",
      "| Id|   Name|Age|\n",
      "+---+-------+---+\n",
      "|  1|   Nani| 32|\n",
      "|  2|  Nikky|  2|\n",
      "|  4|JayaRam| 62|\n",
      "+---+-------+---+\n",
      "\n"
     ]
    }
   ],
   "source": [
    "df1.intersect(df2).show()\n",
    "df1.intersectAll(df2).show()\n",
    "df1.join(df2,on=[\"Id\",\"Name\",\"Age\"],how=\"leftsemi\").show()"
   ]
  },
  {
   "cell_type": "markdown",
   "id": "94910136",
   "metadata": {},
   "source": [
    "### different values"
   ]
  },
  {
   "cell_type": "code",
   "execution_count": 6,
   "id": "70ffeaca",
   "metadata": {},
   "outputs": [
    {
     "name": "stdout",
     "output_type": "stream",
     "text": [
      "+---+---------+---+\n",
      "| Id|     Name|Age|\n",
      "+---+---------+---+\n",
      "|  5|Ramanamma| 58|\n",
      "|  3|   Jhansi| 27|\n",
      "+---+---------+---+\n",
      "\n",
      "+---+---------+---+\n",
      "| Id|     Name|Age|\n",
      "+---+---------+---+\n",
      "|  5|Ramanamma| 58|\n",
      "|  3|   Jhansi| 27|\n",
      "+---+---------+---+\n",
      "\n",
      "+---+---------+---+\n",
      "| Id|     Name|Age|\n",
      "+---+---------+---+\n",
      "|  3|   Jhansi| 27|\n",
      "|  5|Ramanamma| 58|\n",
      "+---+---------+---+\n",
      "\n"
     ]
    }
   ],
   "source": [
    "df1.subtract(df2).show()\n",
    "df1.exceptAll(df2).show()\n",
    "df1.join(df2,on=[\"ID\",\"Name\",\"Age\"],how=\"leftanti\").show()"
   ]
  },
  {
   "cell_type": "code",
   "execution_count": null,
   "id": "1265defd",
   "metadata": {},
   "outputs": [],
   "source": []
  }
 ],
 "metadata": {
  "kernelspec": {
   "display_name": "Python 3 (ipykernel)",
   "language": "python",
   "name": "python3"
  },
  "language_info": {
   "codemirror_mode": {
    "name": "ipython",
    "version": 3
   },
   "file_extension": ".py",
   "mimetype": "text/x-python",
   "name": "python",
   "nbconvert_exporter": "python",
   "pygments_lexer": "ipython3",
   "version": "3.10.9"
  }
 },
 "nbformat": 4,
 "nbformat_minor": 5
}
