{
 "cells": [
  {
   "cell_type": "code",
   "execution_count": 4,
   "id": "502ae9a1",
   "metadata": {},
   "outputs": [
    {
     "name": "stdout",
     "output_type": "stream",
     "text": [
      "3\n"
     ]
    },
    {
     "data": {
      "text/plain": [
       "[['101', 'Naresh', 'IT'],\n",
       " ['102', 'Reddy', 'Product'],\n",
       " ['103', 'Palugulla', 'render']]"
      ]
     },
     "execution_count": 4,
     "metadata": {},
     "output_type": "execute_result"
    }
   ],
   "source": [
    "from pyspark.sql import SparkSession\n",
    "spark = SparkSession.builder.master(\"local[1]\").appName('app').getOrCreate()\n",
    "sc = spark.sparkContext\n",
    "rdd = sc.parallelize(['101,Naresh,IT','102,Reddy,Product','103,Palugulla,render'])\n",
    "rdd.count()\n",
    "rdd1 = rdd.map(lambda x:x.split(','))\n",
    "print(rdd1.count())\n",
    "rdd1.collect()"
   ]
  },
  {
   "cell_type": "code",
   "execution_count": 5,
   "id": "321d09c6",
   "metadata": {},
   "outputs": [
    {
     "name": "stdout",
     "output_type": "stream",
     "text": [
      "9\n"
     ]
    },
    {
     "data": {
      "text/plain": [
       "['101',\n",
       " 'Naresh',\n",
       " 'IT',\n",
       " '102',\n",
       " 'Reddy',\n",
       " 'Product',\n",
       " '103',\n",
       " 'Palugulla',\n",
       " 'render']"
      ]
     },
     "execution_count": 5,
     "metadata": {},
     "output_type": "execute_result"
    }
   ],
   "source": [
    "rdd2 = rdd.flatMap(lambda x:x.split(','))\n",
    "print(rdd2.count())\n",
    "rdd2.collect()"
   ]
  },
  {
   "cell_type": "code",
   "execution_count": null,
   "id": "b75184fc",
   "metadata": {},
   "outputs": [],
   "source": []
  }
 ],
 "metadata": {
  "kernelspec": {
   "display_name": "Python 3 (ipykernel)",
   "language": "python",
   "name": "python3"
  },
  "language_info": {
   "codemirror_mode": {
    "name": "ipython",
    "version": 3
   },
   "file_extension": ".py",
   "mimetype": "text/x-python",
   "name": "python",
   "nbconvert_exporter": "python",
   "pygments_lexer": "ipython3",
   "version": "3.10.9"
  }
 },
 "nbformat": 4,
 "nbformat_minor": 5
}
