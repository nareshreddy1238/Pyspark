{
 "cells": [
  {
   "cell_type": "code",
   "execution_count": 1,
   "id": "dd5bdae9-2286-41dd-a274-e86c01164805",
   "metadata": {},
   "outputs": [
    {
     "name": "stdout",
     "output_type": "stream",
     "text": [
      "Key: 1, Values: ['A', 'C']\n",
      "Key: 2, Values: ['B', 'D']\n",
      "Key: 3, Values: ['E']\n"
     ]
    }
   ],
   "source": [
    "from pyspark import SparkContext\n",
    "\n",
    "sc = SparkContext(\"local\", \"groupByKeyExample\")\n",
    "data = sc.parallelize([(1, 'A'), (2, 'B'), (1, 'C'), (2, 'D'), (3, 'E')])\n",
    "grouped_data = data.groupByKey()\n",
    "for key, values in grouped_data.collect():\n",
    "    print(f\"Key: {key}, Values: {list(values)}\")\n",
    "sc.stop()"
   ]
  },
  {
   "cell_type": "code",
   "execution_count": null,
   "id": "ef22d5db-5ad5-4b9a-bab6-c1e1ca861fb9",
   "metadata": {},
   "outputs": [],
   "source": []
  }
 ],
 "metadata": {
  "kernelspec": {
   "display_name": "Python 3 (ipykernel)",
   "language": "python",
   "name": "python3"
  },
  "language_info": {
   "codemirror_mode": {
    "name": "ipython",
    "version": 3
   },
   "file_extension": ".py",
   "mimetype": "text/x-python",
   "name": "python",
   "nbconvert_exporter": "python",
   "pygments_lexer": "ipython3",
   "version": "3.10.9"
  }
 },
 "nbformat": 4,
 "nbformat_minor": 5
}
