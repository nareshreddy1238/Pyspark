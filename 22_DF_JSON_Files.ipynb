{
 "cells": [
  {
   "cell_type": "code",
   "execution_count": 6,
   "id": "cc4efb57-6194-4b01-9297-428fd4425317",
   "metadata": {},
   "outputs": [
    {
     "name": "stdout",
     "output_type": "stream",
     "text": [
      "root\n",
      " |-- age: long (nullable = true)\n",
      " |-- name: string (nullable = true)\n",
      "\n",
      "+----+-------+\n",
      "| age|   name|\n",
      "+----+-------+\n",
      "|null|Michael|\n",
      "|  30|   Andy|\n",
      "|  19| Justin|\n",
      "+----+-------+\n",
      "\n",
      "root\n",
      " |-- Emp_Age: integer (nullable = true)\n",
      " |-- Emp_Name: string (nullable = true)\n",
      "\n",
      "+-------+--------+\n",
      "|Emp_Age|Emp_Name|\n",
      "+-------+--------+\n",
      "|   null|    null|\n",
      "|   null|    null|\n",
      "|   null|    null|\n",
      "+-------+--------+\n",
      "\n"
     ]
    }
   ],
   "source": [
    "\n",
    "from pyspark.sql import SparkSession\n",
    "from pyspark.sql.types import StructType,StructField, StringType, IntegerType,BooleanType,DoubleType\n",
    "spark = SparkSession.builder.master(\"local[1]\").appName(\"app.com\").getOrCreate()\n",
    "    \n",
    "df = spark.read.json(\"people.json\")\n",
    "df.printSchema()\n",
    "df.show()\n",
    "\n",
    "schema = StructType([\n",
    "      StructField(\"Emp_Age\",IntegerType(),True),\n",
    "      StructField(\"Emp_Name\",StringType(),True),\n",
    "  ])\n",
    "df_with_schema = spark.read.schema(schema) \\\n",
    "        .json(\"people.json\")\n",
    "df_with_schema.printSchema()\n",
    "df_with_schema.show()\n",
    "\n",
    "df_with_schema .write.mode('ignore').json(\"df_with_schema.json\")"
   ]
  },
  {
   "cell_type": "code",
   "execution_count": null,
   "id": "86234373-1a0e-481b-99cf-a39718a4d4c7",
   "metadata": {},
   "outputs": [],
   "source": []
  }
 ],
 "metadata": {
  "kernelspec": {
   "display_name": "Python 3 (ipykernel)",
   "language": "python",
   "name": "python3"
  },
  "language_info": {
   "codemirror_mode": {
    "name": "ipython",
    "version": 3
   },
   "file_extension": ".py",
   "mimetype": "text/x-python",
   "name": "python",
   "nbconvert_exporter": "python",
   "pygments_lexer": "ipython3",
   "version": "3.10.9"
  }
 },
 "nbformat": 4,
 "nbformat_minor": 5
}
