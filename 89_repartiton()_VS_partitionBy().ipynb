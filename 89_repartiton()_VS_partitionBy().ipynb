{
 "cells": [
  {
   "cell_type": "code",
   "execution_count": 1,
   "id": "57957617",
   "metadata": {
    "scrolled": true
   },
   "outputs": [
    {
     "name": "stdout",
     "output_type": "stream",
     "text": [
      "+-----------+-------------+---------+-------------------+----------------+-------+\n",
      "|Customer_No|    Card_type|     Date|           Category|Transaction Type| Amount|\n",
      "+-----------+-------------+---------+-------------------+----------------+-------+\n",
      "|    1000501|Platinum Card| 1/1/2018|           Shopping|           debit|  11.11|\n",
      "|    1000501|     Checking| 1/2/2018|    Mortgage & Rent|           debit|1247.44|\n",
      "|    1000501|  Silver Card| 1/2/2018|        Restaurants|           debit|  24.22|\n",
      "|    1000501|Platinum Card| 1/3/2018|Credit Card Payment|          credit|2298.09|\n",
      "|    1000501|Platinum Card| 1/4/2018|      Movies & DVDs|           debit|  11.76|\n",
      "|    1000501|  Silver Card| 1/5/2018|        Restaurants|           debit|  25.85|\n",
      "|    1000501|  Silver Card| 1/6/2018|   Home Improvement|           debit|  18.45|\n",
      "|    1000501|     Checking| 1/8/2018|          Utilities|           debit|     45|\n",
      "|    1000501|  Silver Card| 1/8/2018|   Home Improvement|           debit|  15.38|\n",
      "|    1000501|Platinum Card| 1/9/2018|              Music|           debit|  10.69|\n",
      "|    1000501|     Checking|1/10/2018|       Mobile Phone|           debit|  89.46|\n",
      "|    1000501|Platinum Card|1/11/2018|         Gas & Fuel|           debit|  34.87|\n",
      "|    1000501|Platinum Card|1/11/2018|          Groceries|           debit|  43.54|\n",
      "|    1000501|     Checking|1/12/2018|           Paycheck|          credit|   2000|\n",
      "|    1000531|Platinum Card|1/13/2018|          Fast Food|           debit|  32.91|\n",
      "|    1000531|Platinum Card|1/13/2018|           Shopping|           debit|  39.05|\n",
      "|    1000531|  Silver Card|1/15/2018|          Groceries|           debit|  44.19|\n",
      "|    1000531|  Silver Card|1/15/2018|        Restaurants|           debit|  64.11|\n",
      "|    1000531|     Checking|1/16/2018|          Utilities|           debit|     35|\n",
      "|    1000531|     Checking|1/16/2018|          Utilities|           debit|     60|\n",
      "+-----------+-------------+---------+-------------------+----------------+-------+\n",
      "only showing top 20 rows\n",
      "\n"
     ]
    }
   ],
   "source": [
    "from pyspark.sql import SparkSession\n",
    "\n",
    "spark = SparkSession.builder.appName('app1').getOrCreate()\n",
    "df = spark.read.csv(\"customer.csv\",header=True)\n",
    "df.show()"
   ]
  },
  {
   "cell_type": "code",
   "execution_count": 2,
   "id": "725dcf7b",
   "metadata": {},
   "outputs": [
    {
     "data": {
      "text/plain": [
       "105"
      ]
     },
     "execution_count": 2,
     "metadata": {},
     "output_type": "execute_result"
    }
   ],
   "source": [
    "df.count()"
   ]
  },
  {
   "cell_type": "code",
   "execution_count": 11,
   "id": "8c8b67be",
   "metadata": {},
   "outputs": [
    {
     "data": {
      "text/plain": [
       "1"
      ]
     },
     "execution_count": 11,
     "metadata": {},
     "output_type": "execute_result"
    }
   ],
   "source": [
    "df.rdd.getNumPartitions()"
   ]
  },
  {
   "cell_type": "code",
   "execution_count": 12,
   "id": "434885b8",
   "metadata": {},
   "outputs": [
    {
     "name": "stdout",
     "output_type": "stream",
     "text": [
      "+-----------+\n",
      "|Customer_No|\n",
      "+-----------+\n",
      "|    1001863|\n",
      "|    1001368|\n",
      "|    1000210|\n",
      "|    1000531|\n",
      "|    1000654|\n",
      "|    1002324|\n",
      "|    1000501|\n",
      "+-----------+\n",
      "\n"
     ]
    }
   ],
   "source": [
    "df.select(\"Customer_No\").distinct().show()"
   ]
  },
  {
   "cell_type": "code",
   "execution_count": 16,
   "id": "72b8f916",
   "metadata": {},
   "outputs": [
    {
     "data": {
      "text/plain": [
       "7"
      ]
     },
     "execution_count": 16,
     "metadata": {},
     "output_type": "execute_result"
    }
   ],
   "source": [
    "df.repartition(7,\"Customer_No\").rdd.getNumPartitions()"
   ]
  },
  {
   "cell_type": "code",
   "execution_count": 26,
   "id": "f3c8ee6a",
   "metadata": {},
   "outputs": [
    {
     "name": "stdout",
     "output_type": "stream",
     "text": [
      "+-----------+-----+\n",
      "|partitionId|count|\n",
      "+-----------+-----+\n",
      "|          2|   31|\n",
      "|          3|   13|\n",
      "|          4|   33|\n",
      "|          6|   28|\n",
      "+-----------+-----+\n",
      "\n"
     ]
    }
   ],
   "source": [
    "from pyspark.sql.functions import spark_partition_id\n",
    "\n",
    "df1 = df.repartition(7,\"Customer_No\").withColumn(\"partitionId\",spark_partition_id()).groupBy(\"partitionId\").count()\n",
    "df1.show()"
   ]
  },
  {
   "cell_type": "code",
   "execution_count": 22,
   "id": "1b01a175",
   "metadata": {},
   "outputs": [
    {
     "name": "stdout",
     "output_type": "stream",
     "text": [
      "Partition 0: 0\n",
      "Partition 1: 0\n",
      "Partition 2: 31\n",
      "Partition 3: 13\n",
      "Partition 4: 33\n",
      "Partition 5: 0\n",
      "Partition 6: 28\n"
     ]
    }
   ],
   "source": [
    "df1 = df.repartition(7, \"Customer_No\")\n",
    "df1 = df1.withColumn(\"partitionId\", spark_partition_id())\n",
    "rdd = df1.rdd\n",
    "rdd = rdd.mapPartitions(lambda iter: [len(list(iter))])\n",
    "\n",
    "partition_counts = rdd.collect()\n",
    "for partition_id, count in enumerate(partition_counts):\n",
    "    print(f\"Partition {partition_id}: {count}\")"
   ]
  },
  {
   "cell_type": "code",
   "execution_count": 23,
   "id": "343659fb",
   "metadata": {},
   "outputs": [
    {
     "data": {
      "text/plain": [
       "<pyspark.sql.readwriter.DataFrameWriter at 0x1b3629945b0>"
      ]
     },
     "execution_count": 23,
     "metadata": {},
     "output_type": "execute_result"
    }
   ],
   "source": [
    "df.write.partitionBy(\"Customer_No\")"
   ]
  },
  {
   "cell_type": "code",
   "execution_count": 24,
   "id": "f9c2878e",
   "metadata": {},
   "outputs": [],
   "source": [
    "df.repartition(\"Customer_No\").write.format('csv').option(\"header\",True).mode(\"overwrite\").save(\"demo_repartition_file_01\")"
   ]
  },
  {
   "cell_type": "code",
   "execution_count": 25,
   "id": "bddd2571",
   "metadata": {},
   "outputs": [],
   "source": [
    "df.write.format('csv').partitionBy(\"Customer_No\").option(\"header\",True).mode(\"overwrite\").save(\"demo_partitionBy_file_01\")"
   ]
  },
  {
   "cell_type": "code",
   "execution_count": null,
   "id": "4124ebda",
   "metadata": {},
   "outputs": [],
   "source": []
  }
 ],
 "metadata": {
  "kernelspec": {
   "display_name": "Python 3 (ipykernel)",
   "language": "python",
   "name": "python3"
  },
  "language_info": {
   "codemirror_mode": {
    "name": "ipython",
    "version": 3
   },
   "file_extension": ".py",
   "mimetype": "text/x-python",
   "name": "python",
   "nbconvert_exporter": "python",
   "pygments_lexer": "ipython3",
   "version": "3.10.9"
  }
 },
 "nbformat": 4,
 "nbformat_minor": 5
}
