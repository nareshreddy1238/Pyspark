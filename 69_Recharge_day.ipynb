{
 "cells": [
  {
   "cell_type": "markdown",
   "id": "a8c373c1",
   "metadata": {},
   "source": [
    "# create DataFrame"
   ]
  },
  {
   "cell_type": "code",
   "execution_count": 19,
   "id": "72e0b081",
   "metadata": {},
   "outputs": [
    {
     "name": "stdout",
     "output_type": "stream",
     "text": [
      "root\n",
      " |-- RechargeID: string (nullable = true)\n",
      " |-- Rechargedate: string (nullable = true)\n",
      " |-- Remaining_days: integer (nullable = true)\n",
      " |-- validity: string (nullable = true)\n",
      "\n",
      "+----------+------------+--------------+--------+\n",
      "|RechargeID|Rechargedate|Remaining_days|validity|\n",
      "+----------+------------+--------------+--------+\n",
      "|   R201623|    20200511|           110|  online|\n",
      "|   R201623|    20200213|             2|  online|\n",
      "|   R201623|    20200119|            30|  online|\n",
      "|   R201623|    20190511|            45|  online|\n",
      "|   R201623|    20200212|           110|  online|\n",
      "+----------+------------+--------------+--------+\n",
      "\n"
     ]
    }
   ],
   "source": [
    "from pyspark.sql import SparkSession\n",
    "from pyspark.sql.types import *\n",
    "\n",
    "spark = SparkSession.builder.appName('recharge').getOrCreate()\n",
    "data = [(\"R201623\",\"20200511\",110,\"online\"),\n",
    "        (\"R201623\",\"20200213\",2,\"online\"),\n",
    "        (\"R201623\",\"20200119\",30,\"online\"),\n",
    "        (\"R201623\",\"20190511\",45,\"online\"),\n",
    "        (\"R201623\",\"20200212\",110,\"online\")]\n",
    "schema = StructType(\n",
    "    [\n",
    "        StructField(\"RechargeID\",StringType(),True),\n",
    "        StructField(\"Rechargedate\",StringType(),True),\n",
    "        StructField(\"Remaining_days\",IntegerType(),True),\n",
    "        StructField(\"validity\",StringType(),True)\n",
    "    ]\n",
    ")\n",
    "df = spark.createDataFrame(data=data, schema = schema)\n",
    "df.printSchema()\n",
    "df.show()"
   ]
  },
  {
   "cell_type": "code",
   "execution_count": 21,
   "id": "34205670",
   "metadata": {
    "scrolled": true
   },
   "outputs": [
    {
     "name": "stdout",
     "output_type": "stream",
     "text": [
      "+----------+------------+--------------+--------+----------+\n",
      "|RechargeID|Rechargedate|Remaining_days|validity|    date_s|\n",
      "+----------+------------+--------------+--------+----------+\n",
      "|   R201623|    20200511|           110|  online|2020-05-11|\n",
      "|   R201623|    20200213|             2|  online|2020-02-13|\n",
      "|   R201623|    20200119|            30|  online|2020-01-19|\n",
      "|   R201623|    20190511|            45|  online|2019-05-11|\n",
      "|   R201623|    20200212|           110|  online|2020-02-12|\n",
      "+----------+------------+--------------+--------+----------+\n",
      "\n",
      "root\n",
      " |-- RechargeID: string (nullable = true)\n",
      " |-- Rechargedate: string (nullable = true)\n",
      " |-- Remaining_days: integer (nullable = true)\n",
      " |-- validity: string (nullable = true)\n",
      " |-- date_s: date (nullable = true)\n",
      "\n"
     ]
    }
   ],
   "source": [
    "from pyspark.sql.functions import date_add,to_date,col,expr \n",
    "\n",
    "#df.select(to_date(col(\"Rechargedate\").cast(\"string\"),\"yyyyMMdd\").alias(\"Rechargedate\")).show()\n",
    "df1 = df.withColumn(\"date_s\", to_date(col(\"Rechargedate\").cast(\"string\"),\"yyyyMMdd\"))\n",
    "df1.show()\n",
    "df1.printSchema()"
   ]
  },
  {
   "cell_type": "code",
   "execution_count": 23,
   "id": "7824f457",
   "metadata": {},
   "outputs": [
    {
     "name": "stdout",
     "output_type": "stream",
     "text": [
      "+----------+------------+--------------+--------+----------+-----------+\n",
      "|RechargeID|Rechargedate|Remaining_days|validity|    date_s|Expiry_Date|\n",
      "+----------+------------+--------------+--------+----------+-----------+\n",
      "|   R201623|    20200511|           110|  online|2020-05-11| 2020-08-29|\n",
      "|   R201623|    20200213|             2|  online|2020-02-13| 2020-02-15|\n",
      "|   R201623|    20200119|            30|  online|2020-01-19| 2020-02-18|\n",
      "|   R201623|    20190511|            45|  online|2019-05-11| 2019-06-25|\n",
      "|   R201623|    20200212|           110|  online|2020-02-12| 2020-06-01|\n",
      "+----------+------------+--------------+--------+----------+-----------+\n",
      "\n"
     ]
    }
   ],
   "source": [
    "df1.select(\"*\",expr(\"date_add(date_s,Remaining_days)\").alias(\"Expiry_Date\")).show()"
   ]
  },
  {
   "cell_type": "code",
   "execution_count": null,
   "id": "0628b446",
   "metadata": {},
   "outputs": [],
   "source": []
  }
 ],
 "metadata": {
  "kernelspec": {
   "display_name": "Python 3 (ipykernel)",
   "language": "python",
   "name": "python3"
  },
  "language_info": {
   "codemirror_mode": {
    "name": "ipython",
    "version": 3
   },
   "file_extension": ".py",
   "mimetype": "text/x-python",
   "name": "python",
   "nbconvert_exporter": "python",
   "pygments_lexer": "ipython3",
   "version": "3.10.9"
  }
 },
 "nbformat": 4,
 "nbformat_minor": 5
}
