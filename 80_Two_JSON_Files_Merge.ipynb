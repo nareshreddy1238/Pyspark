{
 "cells": [
  {
   "cell_type": "code",
   "execution_count": 7,
   "id": "30f27539",
   "metadata": {
    "scrolled": true
   },
   "outputs": [
    {
     "name": "stdout",
     "output_type": "stream",
     "text": [
      "root\n",
      " |-- Education: struct (nullable = true)\n",
      " |    |-- Qualification: string (nullable = true)\n",
      " |    |-- age: long (nullable = true)\n",
      " |    |-- year: long (nullable = true)\n",
      " |-- Name: string (nullable = true)\n",
      "\n",
      "root\n",
      " |-- Education: struct (nullable = true)\n",
      " |    |-- Qualification: string (nullable = true)\n",
      " |    |-- year: long (nullable = true)\n",
      " |-- Name: string (nullable = true)\n",
      "\n"
     ]
    }
   ],
   "source": [
    "from pyspark.sql import SparkSession\n",
    "from pyspark.sql.functions import lit, col\n",
    "\n",
    "spark = SparkSession.builder.appName(\"MergeJSONFiles\").getOrCreate()\n",
    "\n",
    "df1 = spark.read.json(\"file1.json\",multiLine=True)\n",
    "df2 = spark.read.json(\"file2.json\",multiLine=True)\n",
    "df1.printSchema()\n",
    "df2.printSchema()"
   ]
  },
  {
   "cell_type": "code",
   "execution_count": 14,
   "id": "797d0270",
   "metadata": {},
   "outputs": [
    {
     "data": {
      "text/plain": [
       "StructType(List(StructField(Education,StructType(List(StructField(Qualification,StringType,true),StructField(age,LongType,true),StructField(year,LongType,true))),true),StructField(Name,StringType,true)))"
      ]
     },
     "execution_count": 14,
     "metadata": {},
     "output_type": "execute_result"
    }
   ],
   "source": [
    "df1.schema"
   ]
  },
  {
   "cell_type": "code",
   "execution_count": 36,
   "id": "c7ddfa39",
   "metadata": {},
   "outputs": [
    {
     "name": "stdout",
     "output_type": "stream",
     "text": [
      "root\n",
      " |-- Education: struct (nullable = true)\n",
      " |    |-- Qualification: string (nullable = true)\n",
      " |    |-- age: long (nullable = true)\n",
      " |    |-- year: long (nullable = true)\n",
      " |-- Name: string (nullable = true)\n",
      "\n",
      "+-------------------+-----+\n",
      "|          Education| Name|\n",
      "+-------------------+-----+\n",
      "|{Masters, 30, 2020}| John|\n",
      "|{Masters, 30, 2020}| John|\n",
      "|{Masters, 30, 2020}| John|\n",
      "|  {PhD, null, 2019}|Alice|\n",
      "+-------------------+-----+\n",
      "\n"
     ]
    }
   ],
   "source": [
    "df= df1.unionByName(df2,allowMissingColumns=True)\n",
    "df.printSchema()\n",
    "df.show()"
   ]
  },
  {
   "cell_type": "code",
   "execution_count": null,
   "id": "65d94333",
   "metadata": {},
   "outputs": [],
   "source": []
  }
 ],
 "metadata": {
  "kernelspec": {
   "display_name": "Python 3 (ipykernel)",
   "language": "python",
   "name": "python3"
  },
  "language_info": {
   "codemirror_mode": {
    "name": "ipython",
    "version": 3
   },
   "file_extension": ".py",
   "mimetype": "text/x-python",
   "name": "python",
   "nbconvert_exporter": "python",
   "pygments_lexer": "ipython3",
   "version": "3.10.9"
  }
 },
 "nbformat": 4,
 "nbformat_minor": 5
}
