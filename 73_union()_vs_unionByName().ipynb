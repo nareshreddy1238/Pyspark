{
 "cells": [
  {
   "cell_type": "code",
   "execution_count": 13,
   "id": "c6080896",
   "metadata": {},
   "outputs": [
    {
     "name": "stdout",
     "output_type": "stream",
     "text": [
      "+----+------+------+\n",
      "|year|f_name|l_name|\n",
      "+----+------+------+\n",
      "|2020|Naresh| Reddy|\n",
      "+----+------+------+\n",
      "\n",
      "+------+----+------+\n",
      "|f_name|year|l_name|\n",
      "+------+----+------+\n",
      "| Nikky|2021| Reddy|\n",
      "+------+----+------+\n",
      "\n"
     ]
    }
   ],
   "source": [
    "from pyspark.sql import SparkSession\n",
    "\n",
    "spark = SparkSession.builder.appName('union').getOrCreate()\n",
    "\n",
    "l1 = [(\"2020\",\"Naresh\",\"Reddy\")]\n",
    "l2 = [(\"Nikky\",\"2021\",\"Reddy\")]\n",
    "s1 = [\"year\",\"f_name\",\"l_name\"]\n",
    "s2 = [\"f_name\",\"year\",\"l_name\"]\n",
    "df1 = spark.createDataFrame(data=l1,schema =s1)\n",
    "df2 = spark.createDataFrame(data=l2,schema =s2)\n",
    "\n",
    "df1.show()\n",
    "df2.show()"
   ]
  },
  {
   "cell_type": "markdown",
   "id": "227ad542",
   "metadata": {},
   "source": [
    "### union(): Merge the two dataframe with respect Position/ Datatype of the column"
   ]
  },
  {
   "cell_type": "code",
   "execution_count": 7,
   "id": "2da43787",
   "metadata": {},
   "outputs": [
    {
     "name": "stdout",
     "output_type": "stream",
     "text": [
      "+-----+------+---------+\n",
      "| year|f_name|last_name|\n",
      "+-----+------+---------+\n",
      "| 2020|Naresh|    Reddy|\n",
      "|Nikky|  2021|    Reddy|\n",
      "+-----+------+---------+\n",
      "\n"
     ]
    }
   ],
   "source": [
    "df1.union(df2).show()"
   ]
  },
  {
   "cell_type": "code",
   "execution_count": 9,
   "id": "8f284a98",
   "metadata": {},
   "outputs": [
    {
     "name": "stdout",
     "output_type": "stream",
     "text": [
      "+----+------+---------+\n",
      "|year|f_name|last_name|\n",
      "+----+------+---------+\n",
      "|2020|Naresh|    Reddy|\n",
      "|2021| Nikky|    Reddy|\n",
      "+----+------+---------+\n",
      "\n"
     ]
    }
   ],
   "source": [
    "df_u = df2.select('year','f_name','l_name')\n",
    "df1.union(df_u).show()"
   ]
  },
  {
   "cell_type": "markdown",
   "id": "534c55ad",
   "metadata": {},
   "source": [
    "### unionByName(): Merge the two dataframes with respect to Name of the column"
   ]
  },
  {
   "cell_type": "code",
   "execution_count": 14,
   "id": "d26205fc",
   "metadata": {},
   "outputs": [
    {
     "name": "stdout",
     "output_type": "stream",
     "text": [
      "+----+------+------+\n",
      "|year|f_name|l_name|\n",
      "+----+------+------+\n",
      "|2020|Naresh| Reddy|\n",
      "|2021| Nikky| Reddy|\n",
      "+----+------+------+\n",
      "\n"
     ]
    }
   ],
   "source": [
    "df1.unionByName(df2).show()"
   ]
  },
  {
   "cell_type": "markdown",
   "id": "b4b1f624",
   "metadata": {},
   "source": [
    "### unionByName(): different columns count"
   ]
  },
  {
   "cell_type": "code",
   "execution_count": 15,
   "id": "5e015139",
   "metadata": {},
   "outputs": [
    {
     "name": "stdout",
     "output_type": "stream",
     "text": [
      "+----+------+------+\n",
      "|year|f_name|l_name|\n",
      "+----+------+------+\n",
      "|2020|Naresh| Reddy|\n",
      "+----+------+------+\n",
      "\n",
      "+------+----+------+----------+\n",
      "|f_name|year|l_name|    status|\n",
      "+------+----+------+----------+\n",
      "| Nikky|2021| Reddy|successful|\n",
      "+------+----+------+----------+\n",
      "\n"
     ]
    }
   ],
   "source": [
    "l1 = [(\"2020\",\"Naresh\",\"Reddy\")]\n",
    "l2 = [(\"Nikky\",\"2021\",\"Reddy\",\"successful\")]\n",
    "s1 = [\"year\",\"f_name\",\"l_name\"]\n",
    "s2 = [\"f_name\",\"year\",\"l_name\",\"status\"]\n",
    "df6 = spark.createDataFrame(data=l1,schema =s1)\n",
    "df7 = spark.createDataFrame(data=l2,schema =s2)\n",
    "\n",
    "df6.show()\n",
    "df7.show()"
   ]
  },
  {
   "cell_type": "code",
   "execution_count": 19,
   "id": "ce2c0311",
   "metadata": {},
   "outputs": [
    {
     "name": "stdout",
     "output_type": "stream",
     "text": [
      "+----+------+------+----------+\n",
      "|year|f_name|l_name|    status|\n",
      "+----+------+------+----------+\n",
      "|2020|Naresh| Reddy|      null|\n",
      "|2021| Nikky| Reddy|successful|\n",
      "+----+------+------+----------+\n",
      "\n"
     ]
    }
   ],
   "source": [
    "df6.unionByName(df7,allowMissingColumns=True).show()"
   ]
  },
  {
   "cell_type": "code",
   "execution_count": null,
   "id": "af473a96",
   "metadata": {},
   "outputs": [],
   "source": []
  }
 ],
 "metadata": {
  "kernelspec": {
   "display_name": "Python 3 (ipykernel)",
   "language": "python",
   "name": "python3"
  },
  "language_info": {
   "codemirror_mode": {
    "name": "ipython",
    "version": 3
   },
   "file_extension": ".py",
   "mimetype": "text/x-python",
   "name": "python",
   "nbconvert_exporter": "python",
   "pygments_lexer": "ipython3",
   "version": "3.10.9"
  }
 },
 "nbformat": 4,
 "nbformat_minor": 5
}
