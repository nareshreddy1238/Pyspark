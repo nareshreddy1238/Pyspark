{
 "cells": [
  {
   "cell_type": "code",
   "execution_count": 2,
   "id": "31f9eb7e-25fe-416b-a1e0-b241369779ad",
   "metadata": {},
   "outputs": [
    {
     "name": "stdout",
     "output_type": "stream",
     "text": [
      "mapValues: [(1, 3), (2, 4), (3, 5)]\n",
      "flatMapValues: [(1, 'Hello'), (1, 'World'), (2, 'Spark'), (2, 'is'), (2, 'great'), (3, 'PySpark')]\n"
     ]
    }
   ],
   "source": [
    "from pyspark.sql import SparkSession\n",
    "\n",
    "spark = SparkSession.builder.master(\"local[1]\").appName('app').getOrCreate()\n",
    "sc = spark.sparkContext\n",
    "rdd = sc.parallelize([(1, 2), (2, 3), (3, 4)])\n",
    "result = rdd.mapValues(lambda x: x + 1)\n",
    "print(\"mapValues:\",result.collect())\n",
    "rdd1 = sc.parallelize([(1, \"Hello World\"), (2, \"Spark is great\"), (3, \"PySpark\")])\n",
    "result = rdd1.flatMapValues(lambda x: x.split(\" \"))\n",
    "print(\"flatMapValues:\",result.collect())"
   ]
  },
  {
   "cell_type": "code",
   "execution_count": null,
   "id": "8e8cf76e-50da-4cc8-b611-c3b3d443a28d",
   "metadata": {},
   "outputs": [],
   "source": []
  }
 ],
 "metadata": {
  "kernelspec": {
   "display_name": "Python 3 (ipykernel)",
   "language": "python",
   "name": "python3"
  },
  "language_info": {
   "codemirror_mode": {
    "name": "ipython",
    "version": 3
   },
   "file_extension": ".py",
   "mimetype": "text/x-python",
   "name": "python",
   "nbconvert_exporter": "python",
   "pygments_lexer": "ipython3",
   "version": "3.10.9"
  }
 },
 "nbformat": 4,
 "nbformat_minor": 5
}
