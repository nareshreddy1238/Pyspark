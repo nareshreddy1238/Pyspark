{
 "cells": [
  {
   "cell_type": "code",
   "execution_count": 1,
   "id": "253d08db-3ef0-44d8-b563-ebf0534d9e65",
   "metadata": {},
   "outputs": [
    {
     "name": "stdout",
     "output_type": "stream",
     "text": [
      "[(1, 10), (2, 13), (3, 2)]\n"
     ]
    }
   ],
   "source": [
    "from pyspark import SparkContext\n",
    "\n",
    "sc = SparkContext(\"local\", \"aggregateByKeyExample\")\n",
    "data = sc.parallelize([(1, 3), (2, 5), (1, 7), (2, 8), (3, 2)])\n",
    "zero_value = 0  \n",
    "def seq_op(accumulator, value):\n",
    "    return accumulator + value\n",
    "def comb_op(accumulator1, accumulator2):\n",
    "    return accumulator1 + accumulator2\n",
    "sums = data.aggregateByKey(zero_value, seq_op, comb_op)\n",
    "print(sums.collect())\n",
    "sc.stop()"
   ]
  },
  {
   "cell_type": "code",
   "execution_count": null,
   "id": "a9e6424b-bba2-42bb-ac20-78187d03f6ae",
   "metadata": {},
   "outputs": [],
   "source": []
  }
 ],
 "metadata": {
  "kernelspec": {
   "display_name": "Python 3 (ipykernel)",
   "language": "python",
   "name": "python3"
  },
  "language_info": {
   "codemirror_mode": {
    "name": "ipython",
    "version": 3
   },
   "file_extension": ".py",
   "mimetype": "text/x-python",
   "name": "python",
   "nbconvert_exporter": "python",
   "pygments_lexer": "ipython3",
   "version": "3.10.9"
  }
 },
 "nbformat": 4,
 "nbformat_minor": 5
}
