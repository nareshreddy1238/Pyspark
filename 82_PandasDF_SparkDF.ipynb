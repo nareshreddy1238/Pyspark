{
 "cells": [
  {
   "cell_type": "markdown",
   "id": "7b3aec7e",
   "metadata": {},
   "source": [
    "## create Pandas DataFrame"
   ]
  },
  {
   "cell_type": "code",
   "execution_count": 5,
   "id": "641c0de5",
   "metadata": {},
   "outputs": [
    {
     "data": {
      "text/html": [
       "<div>\n",
       "<style scoped>\n",
       "    .dataframe tbody tr th:only-of-type {\n",
       "        vertical-align: middle;\n",
       "    }\n",
       "\n",
       "    .dataframe tbody tr th {\n",
       "        vertical-align: top;\n",
       "    }\n",
       "\n",
       "    .dataframe thead th {\n",
       "        text-align: right;\n",
       "    }\n",
       "</style>\n",
       "<table border=\"1\" class=\"dataframe\">\n",
       "  <thead>\n",
       "    <tr style=\"text-align: right;\">\n",
       "      <th></th>\n",
       "      <th>CustomerId</th>\n",
       "      <th>CustomerId.1</th>\n",
       "      <th>CustomerName</th>\n",
       "      <th>dateTime</th>\n",
       "    </tr>\n",
       "  </thead>\n",
       "  <tbody>\n",
       "    <tr>\n",
       "      <th>0</th>\n",
       "      <td>1001</td>\n",
       "      <td>101</td>\n",
       "      <td>Arun</td>\n",
       "      <td>2020-07-15 01:01:53</td>\n",
       "    </tr>\n",
       "    <tr>\n",
       "      <th>1</th>\n",
       "      <td>1005</td>\n",
       "      <td>102</td>\n",
       "      <td>Barath</td>\n",
       "      <td>2020-07-13 12:15:33</td>\n",
       "    </tr>\n",
       "    <tr>\n",
       "      <th>2</th>\n",
       "      <td>1003</td>\n",
       "      <td>103</td>\n",
       "      <td>Charle</td>\n",
       "      <td>2020-07-18 20:10:45</td>\n",
       "    </tr>\n",
       "    <tr>\n",
       "      <th>3</th>\n",
       "      <td>1004</td>\n",
       "      <td>104</td>\n",
       "      <td>Gokul</td>\n",
       "      <td>2020-07-15 11:11:36</td>\n",
       "    </tr>\n",
       "    <tr>\n",
       "      <th>4</th>\n",
       "      <td>1005</td>\n",
       "      <td>105</td>\n",
       "      <td>Messy</td>\n",
       "      <td>2020-07-18 15:11:43</td>\n",
       "    </tr>\n",
       "  </tbody>\n",
       "</table>\n",
       "</div>"
      ],
      "text/plain": [
       "   CustomerId  CustomerId.1 CustomerName             dateTime\n",
       "0        1001           101         Arun  2020-07-15 01:01:53\n",
       "1        1005           102       Barath  2020-07-13 12:15:33\n",
       "2        1003           103       Charle  2020-07-18 20:10:45\n",
       "3        1004           104        Gokul  2020-07-15 11:11:36\n",
       "4        1005           105        Messy  2020-07-18 15:11:43"
      ]
     },
     "execution_count": 5,
     "metadata": {},
     "output_type": "execute_result"
    }
   ],
   "source": [
    "import pandas as pd\n",
    "import datetime\n",
    "\n",
    "pd1 = pd.read_csv(\"trans.csv\")\n",
    "pd1.head()"
   ]
  },
  {
   "cell_type": "code",
   "execution_count": 16,
   "id": "3894f220",
   "metadata": {},
   "outputs": [
    {
     "data": {
      "text/plain": [
       "pandas.core.frame.DataFrame"
      ]
     },
     "execution_count": 16,
     "metadata": {},
     "output_type": "execute_result"
    }
   ],
   "source": [
    "type(pd1)"
   ]
  },
  {
   "cell_type": "code",
   "execution_count": 6,
   "id": "9d8e0529",
   "metadata": {},
   "outputs": [
    {
     "data": {
      "text/plain": [
       "CustomerId       int64\n",
       "CustomerId.1     int64\n",
       "CustomerName    object\n",
       "dateTime        object\n",
       "dtype: object"
      ]
     },
     "execution_count": 6,
     "metadata": {},
     "output_type": "execute_result"
    }
   ],
   "source": [
    "pd1.dtypes"
   ]
  },
  {
   "cell_type": "markdown",
   "id": "4e2d4716",
   "metadata": {},
   "source": [
    "## convert Pandas Dataframe to PySpark DataFrame"
   ]
  },
  {
   "cell_type": "code",
   "execution_count": 9,
   "id": "5d603139",
   "metadata": {},
   "outputs": [
    {
     "name": "stdout",
     "output_type": "stream",
     "text": [
      "+----------+------------+------------+-------------------+\n",
      "|CustomerId|CustomerId.1|CustomerName|           dateTime|\n",
      "+----------+------------+------------+-------------------+\n",
      "|      1001|         101|        Arun|2020-07-15 01:01:53|\n",
      "|      1005|         102|      Barath|2020-07-13 12:15:33|\n",
      "|      1003|         103|      Charle|2020-07-18 20:10:45|\n",
      "|      1004|         104|       Gokul|2020-07-15 11:11:36|\n",
      "|      1005|         105|       Messy|2020-07-18 15:11:43|\n",
      "|      1006|         106|      Gerold|2020-07-08 14:16:53|\n",
      "+----------+------------+------------+-------------------+\n",
      "\n",
      "root\n",
      " |-- CustomerId: long (nullable = true)\n",
      " |-- CustomerId.1: long (nullable = true)\n",
      " |-- CustomerName: string (nullable = true)\n",
      " |-- dateTime: string (nullable = true)\n",
      "\n"
     ]
    }
   ],
   "source": [
    "from pyspark.sql import SparkSession\n",
    "spark = SparkSession.builder.appName('app').getOrCreate()\n",
    "df = spark.createDataFrame(pd1)\n",
    "df.show()\n",
    "df.printSchema()"
   ]
  },
  {
   "cell_type": "code",
   "execution_count": 15,
   "id": "5da39220",
   "metadata": {},
   "outputs": [
    {
     "data": {
      "text/plain": [
       "pyspark.sql.dataframe.DataFrame"
      ]
     },
     "execution_count": 15,
     "metadata": {},
     "output_type": "execute_result"
    }
   ],
   "source": [
    "type(df)"
   ]
  },
  {
   "cell_type": "markdown",
   "id": "f272e303",
   "metadata": {},
   "source": [
    "## Convert Spark DataFrame to Pandas DataFrame"
   ]
  },
  {
   "cell_type": "code",
   "execution_count": 10,
   "id": "1f645645",
   "metadata": {},
   "outputs": [],
   "source": [
    "pd2 = df.toPandas()"
   ]
  },
  {
   "cell_type": "code",
   "execution_count": 12,
   "id": "48248973",
   "metadata": {},
   "outputs": [
    {
     "data": {
      "text/plain": [
       "pandas.core.frame.DataFrame"
      ]
     },
     "execution_count": 12,
     "metadata": {},
     "output_type": "execute_result"
    }
   ],
   "source": [
    "type(pd2)"
   ]
  },
  {
   "cell_type": "code",
   "execution_count": 13,
   "id": "9a2fe05c",
   "metadata": {},
   "outputs": [
    {
     "data": {
      "text/html": [
       "<div>\n",
       "<style scoped>\n",
       "    .dataframe tbody tr th:only-of-type {\n",
       "        vertical-align: middle;\n",
       "    }\n",
       "\n",
       "    .dataframe tbody tr th {\n",
       "        vertical-align: top;\n",
       "    }\n",
       "\n",
       "    .dataframe thead th {\n",
       "        text-align: right;\n",
       "    }\n",
       "</style>\n",
       "<table border=\"1\" class=\"dataframe\">\n",
       "  <thead>\n",
       "    <tr style=\"text-align: right;\">\n",
       "      <th></th>\n",
       "      <th>CustomerId</th>\n",
       "      <th>CustomerId.1</th>\n",
       "      <th>CustomerName</th>\n",
       "      <th>dateTime</th>\n",
       "    </tr>\n",
       "  </thead>\n",
       "  <tbody>\n",
       "    <tr>\n",
       "      <th>0</th>\n",
       "      <td>1001</td>\n",
       "      <td>101</td>\n",
       "      <td>Arun</td>\n",
       "      <td>2020-07-15 01:01:53</td>\n",
       "    </tr>\n",
       "    <tr>\n",
       "      <th>1</th>\n",
       "      <td>1005</td>\n",
       "      <td>102</td>\n",
       "      <td>Barath</td>\n",
       "      <td>2020-07-13 12:15:33</td>\n",
       "    </tr>\n",
       "    <tr>\n",
       "      <th>2</th>\n",
       "      <td>1003</td>\n",
       "      <td>103</td>\n",
       "      <td>Charle</td>\n",
       "      <td>2020-07-18 20:10:45</td>\n",
       "    </tr>\n",
       "    <tr>\n",
       "      <th>3</th>\n",
       "      <td>1004</td>\n",
       "      <td>104</td>\n",
       "      <td>Gokul</td>\n",
       "      <td>2020-07-15 11:11:36</td>\n",
       "    </tr>\n",
       "    <tr>\n",
       "      <th>4</th>\n",
       "      <td>1005</td>\n",
       "      <td>105</td>\n",
       "      <td>Messy</td>\n",
       "      <td>2020-07-18 15:11:43</td>\n",
       "    </tr>\n",
       "  </tbody>\n",
       "</table>\n",
       "</div>"
      ],
      "text/plain": [
       "   CustomerId  CustomerId.1 CustomerName             dateTime\n",
       "0        1001           101         Arun  2020-07-15 01:01:53\n",
       "1        1005           102       Barath  2020-07-13 12:15:33\n",
       "2        1003           103       Charle  2020-07-18 20:10:45\n",
       "3        1004           104        Gokul  2020-07-15 11:11:36\n",
       "4        1005           105        Messy  2020-07-18 15:11:43"
      ]
     },
     "execution_count": 13,
     "metadata": {},
     "output_type": "execute_result"
    }
   ],
   "source": [
    "pd2.head()"
   ]
  },
  {
   "cell_type": "code",
   "execution_count": 14,
   "id": "951e6bb0",
   "metadata": {},
   "outputs": [
    {
     "data": {
      "text/plain": [
       "CustomerId       int64\n",
       "CustomerId.1     int64\n",
       "CustomerName    object\n",
       "dateTime        object\n",
       "dtype: object"
      ]
     },
     "execution_count": 14,
     "metadata": {},
     "output_type": "execute_result"
    }
   ],
   "source": [
    "pd2.dtypes"
   ]
  },
  {
   "cell_type": "code",
   "execution_count": null,
   "id": "3a70c6dc",
   "metadata": {},
   "outputs": [],
   "source": []
  }
 ],
 "metadata": {
  "kernelspec": {
   "display_name": "Python 3 (ipykernel)",
   "language": "python",
   "name": "python3"
  },
  "language_info": {
   "codemirror_mode": {
    "name": "ipython",
    "version": 3
   },
   "file_extension": ".py",
   "mimetype": "text/x-python",
   "name": "python",
   "nbconvert_exporter": "python",
   "pygments_lexer": "ipython3",
   "version": "3.10.9"
  }
 },
 "nbformat": 4,
 "nbformat_minor": 5
}
