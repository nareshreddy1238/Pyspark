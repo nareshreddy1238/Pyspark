{
 "cells": [
  {
   "cell_type": "code",
   "execution_count": 1,
   "id": "92aadef8-1306-4285-80e9-c581033cb8f9",
   "metadata": {},
   "outputs": [
    {
     "name": "stdout",
     "output_type": "stream",
     "text": [
      "+-----+------------+\n",
      "|Seqno|Name        |\n",
      "+-----+------------+\n",
      "|1    |john jones  |\n",
      "|2    |tracey smith|\n",
      "|3    |amy sanders |\n",
      "+-----+------------+\n",
      "\n"
     ]
    }
   ],
   "source": [
    "from pyspark.sql import SparkSession\n",
    "\n",
    "spark = SparkSession.builder.appName('SparkByExamples.com').getOrCreate()\n",
    "columns = [\"Seqno\",\"Name\"]\n",
    "data = [(\"1\", \"john jones\"),\n",
    "    (\"2\", \"tracey smith\"),\n",
    "    (\"3\", \"amy sanders\")]\n",
    "\n",
    "df = spark.createDataFrame(data=data,schema=columns)\n",
    "df.show(truncate=False)"
   ]
  },
  {
   "cell_type": "code",
   "execution_count": 4,
   "id": "6c1a7507-12ad-497e-ba91-4f6c73569ffd",
   "metadata": {},
   "outputs": [],
   "source": [
    "def convertCase(str):\n",
    "    w=\"\"\n",
    "    for x in str.split(\" \"):\n",
    "       w = w + x[0:1].upper() + x[1:len(x)] + \" \"\n",
    "    return w"
   ]
  },
  {
   "cell_type": "code",
   "execution_count": 7,
   "id": "62fb20d6-c275-43e5-ac70-a486d6060e23",
   "metadata": {},
   "outputs": [
    {
     "name": "stdout",
     "output_type": "stream",
     "text": [
      "+-----+-------------+\n",
      "|Seqno|Name         |\n",
      "+-----+-------------+\n",
      "|1    |John Jones   |\n",
      "|2    |Tracey Smith |\n",
      "|3    |Amy Sanders  |\n",
      "+-----+-------------+\n",
      "\n"
     ]
    }
   ],
   "source": [
    "from pyspark.sql.functions import col, udf\n",
    "from pyspark.sql.types import StringType\n",
    "\n",
    "# Converting function to UDF \n",
    "c_udf = udf(lambda z: convertCase(z),StringType())\n",
    "\n",
    "df.select(col(\"Seqno\"),c_udf(col(\"Name\")).alias(\"Name\")).show(truncate=False)"
   ]
  },
  {
   "cell_type": "code",
   "execution_count": 8,
   "id": "ec03c669-791e-469f-9c49-88639531f878",
   "metadata": {},
   "outputs": [
    {
     "name": "stdout",
     "output_type": "stream",
     "text": [
      "+-----+-------------+\n",
      "|Seqno|Name         |\n",
      "+-----+-------------+\n",
      "|1    |John Jones   |\n",
      "|2    |Tracey Smith |\n",
      "|3    |Amy Sanders  |\n",
      "+-----+-------------+\n",
      "\n"
     ]
    }
   ],
   "source": [
    "df.select(col(\"Seqno\"),convertUDF(col(\"Name\")).alias(\"Name\")).show(truncate=False)"
   ]
  },
  {
   "cell_type": "code",
   "execution_count": 9,
   "id": "3582da38-c958-4fda-b5b0-dbd58ef43538",
   "metadata": {},
   "outputs": [
    {
     "name": "stdout",
     "output_type": "stream",
     "text": [
      "+-----+------------+-------------+\n",
      "|Seqno|        Name|Cureated Name|\n",
      "+-----+------------+-------------+\n",
      "|    1|  john jones|   JOHN JONES|\n",
      "|    2|tracey smith| TRACEY SMITH|\n",
      "|    3| amy sanders|  AMY SANDERS|\n",
      "+-----+------------+-------------+\n",
      "\n"
     ]
    }
   ],
   "source": [
    "def upperCase(str):\n",
    "    return str.upper()\n",
    "\n",
    "uc = udf(lambda z:upperCase(z),StringType())   \n",
    "df.withColumn(\"Cureated Name\", uc(col(\"Name\"))).show()"
   ]
  },
  {
   "cell_type": "code",
   "execution_count": 10,
   "id": "76231b4f-4017-4e26-8861-abf6adbd10a7",
   "metadata": {},
   "outputs": [
    {
     "name": "stdout",
     "output_type": "stream",
     "text": [
      "+-----+------------+\n",
      "|Seqno|Name        |\n",
      "+-----+------------+\n",
      "|1    |JOHN JONES  |\n",
      "|2    |TRACEY SMITH|\n",
      "|3    |AMY SANDERS |\n",
      "+-----+------------+\n",
      "\n"
     ]
    }
   ],
   "source": [
    "spark.udf.register(\"uc\", upperCase,StringType())\n",
    "df.createOrReplaceTempView(\"NAME_TABLE\")\n",
    "spark.sql(\"select Seqno, uc(Name) as Name from NAME_TABLE\").show(truncate=False)"
   ]
  },
  {
   "cell_type": "code",
   "execution_count": 11,
   "id": "c37634fd-95b4-43d0-b7f8-4d75fb2a737b",
   "metadata": {},
   "outputs": [
    {
     "name": "stdout",
     "output_type": "stream",
     "text": [
      "+-----+------------+\n",
      "|Seqno|        NAME|\n",
      "+-----+------------+\n",
      "|    1|  JOHN JONES|\n",
      "|    2|TRACEY SMITH|\n",
      "|    3| AMY SANDERS|\n",
      "+-----+------------+\n",
      "\n"
     ]
    }
   ],
   "source": [
    "@udf(returnType=StringType()) \n",
    "def upperCase(str):\n",
    "    return str.upper()\n",
    "\n",
    "df.withColumn(\"NAME\", upperCase(col(\"Name\"))).show()"
   ]
  },
  {
   "cell_type": "code",
   "execution_count": 20,
   "id": "cb39f20f-b6bd-4971-91b8-3d721d5bd732",
   "metadata": {},
   "outputs": [
    {
     "name": "stdout",
     "output_type": "stream",
     "text": [
      "+-----+------------+\n",
      "|Seqno|Name        |\n",
      "+-----+------------+\n",
      "|1    |john jones  |\n",
      "|2    |tracey smith|\n",
      "|3    |amy sanders |\n",
      "|4    |null        |\n",
      "+-----+------------+\n",
      "\n",
      "+-----+-------------+\n",
      "|Seqno|NAME         |\n",
      "+-----+-------------+\n",
      "|1    |John Jones   |\n",
      "|2    |Tracey Smith |\n",
      "|3    |Amy Sanders  |\n",
      "|4    |             |\n",
      "+-----+-------------+\n",
      "\n"
     ]
    }
   ],
   "source": [
    "columns = [\"Seqno\",\"Name\"]\n",
    "data = [(\"1\", \"john jones\"),\n",
    "    (\"2\", \"tracey smith\"),\n",
    "    (\"3\", \"amy sanders\"),\n",
    "    ('4',None)]\n",
    "\n",
    "df2=spark.createDataFrame(data=data,schema=columns)\n",
    "df2.show(truncate=False)\n",
    "df2.createOrReplaceTempView(\"NAME_TABLE2\")\n",
    "\n",
    "#spark.sql(\"select Seqno, uc(Name) as Name from NAME_TABLE2\").show(truncate=False)\n",
    "def convertC(str):\n",
    "    w=\"\"\n",
    "    for x in str.split(\" \"):\n",
    "       w = w + x[0:1].upper() + x[1:len(x)] + \" \"\n",
    "    return w\n",
    "spark.udf.register(\"nullUDF\", lambda str: convertC(str) if not str is None else \"\" , StringType())\n",
    "spark.sql(\"select Seqno, nullUDF(Name) NAME from NAME_TABLE2\").show(truncate=False)  "
   ]
  },
  {
   "cell_type": "code",
   "execution_count": null,
   "id": "6bcaca72-c1c6-4a84-a94f-46289031552d",
   "metadata": {},
   "outputs": [],
   "source": []
  }
 ],
 "metadata": {
  "kernelspec": {
   "display_name": "Python 3 (ipykernel)",
   "language": "python",
   "name": "python3"
  },
  "language_info": {
   "codemirror_mode": {
    "name": "ipython",
    "version": 3
   },
   "file_extension": ".py",
   "mimetype": "text/x-python",
   "name": "python",
   "nbconvert_exporter": "python",
   "pygments_lexer": "ipython3",
   "version": "3.10.9"
  }
 },
 "nbformat": 4,
 "nbformat_minor": 5
}
