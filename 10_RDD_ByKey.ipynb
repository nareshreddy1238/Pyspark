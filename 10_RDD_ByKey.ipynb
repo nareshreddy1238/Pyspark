{
 "cells": [
  {
   "cell_type": "code",
   "execution_count": 14,
   "id": "1533e2e6-ece7-4c30-81f5-f5e2cb46cec7",
   "metadata": {},
   "outputs": [
    {
     "name": "stdout",
     "output_type": "stream",
     "text": [
      "reducedByKey: [(1, 10), (2, 13), (3, 2)]\n",
      "groupByKey\n",
      "Key: 1, Values: [3, 7]\n",
      "Key: 2, Values: [5, 8]\n",
      "Key: 3, Values: [2]\n",
      "aggregateByKey: [(1, 10), (2, 13), (3, 2)]\n",
      "combineByKey: [(1, 5.0), (2, 6.5), (3, 2.0)]\n"
     ]
    }
   ],
   "source": [
    "from pyspark.sql import SparkSession\n",
    "\n",
    "spark = SparkSession.builder.master(\"local[1]\").appName('app').getOrCreate()\n",
    "sc = spark.sparkContext\n",
    "data = sc.parallelize([(1, 3), (2, 5), (1, 7), (2, 8), (3, 2)])\n",
    "sums = data.reduceByKey(lambda a, b: a + b)\n",
    "print(\"reducedByKey:\", sums.collect())\n",
    "\n",
    "#groupByKey\n",
    "group = data.groupByKey()\n",
    "print(\"groupByKey\")\n",
    "for k,v in group.collect():\n",
    "    print(f\"Key: {k}, Values: {list(v)}\")\n",
    "    \n",
    "#aggregateByKey\n",
    "zero_value = 0  \n",
    "def seq_op(accumulator, value):\n",
    "    return accumulator + value\n",
    "def comb_op(accumulator1, accumulator2):\n",
    "    return accumulator1 + accumulator2\n",
    "sums = data.aggregateByKey(zero_value, seq_op, comb_op)\n",
    "print(\"aggregateByKey:\",sums.collect())\n",
    "\n",
    "#combineBytKey\n",
    "def create_combiner(value):\n",
    "    return (value, 1)\n",
    "def merge_value(accumulator, value):\n",
    "    total, count = accumulator\n",
    "    return (total + value, count + 1)\n",
    "def merge_combiners(accumulator1, accumulator2):\n",
    "    total1, count1 = accumulator1\n",
    "    total2, count2 = accumulator2\n",
    "    return (total1 + total2, count1 + count2)\n",
    "averages = data.combineByKey(create_combiner, merge_value, merge_combiners)\n",
    "result = averages.mapValues(lambda accumulator: accumulator[0] / accumulator[1])\n",
    "print(\"combineByKey:\", result.collect())"
   ]
  },
  {
   "cell_type": "code",
   "execution_count": null,
   "id": "6aaccf7a-5dd8-446a-baf4-72149cda07c8",
   "metadata": {},
   "outputs": [],
   "source": []
  }
 ],
 "metadata": {
  "kernelspec": {
   "display_name": "Python 3 (ipykernel)",
   "language": "python",
   "name": "python3"
  },
  "language_info": {
   "codemirror_mode": {
    "name": "ipython",
    "version": 3
   },
   "file_extension": ".py",
   "mimetype": "text/x-python",
   "name": "python",
   "nbconvert_exporter": "python",
   "pygments_lexer": "ipython3",
   "version": "3.10.9"
  }
 },
 "nbformat": 4,
 "nbformat_minor": 5
}
