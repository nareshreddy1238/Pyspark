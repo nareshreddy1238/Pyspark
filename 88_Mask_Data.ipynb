{
 "cells": [
  {
   "cell_type": "code",
   "execution_count": 1,
   "id": "5bb0c770",
   "metadata": {},
   "outputs": [
    {
     "name": "stdout",
     "output_type": "stream",
     "text": [
      "+---------------+-------------+------------+-------------------+----------+\n",
      "|Customer_number|Customer_name|customer_age|              email|    mobile|\n",
      "+---------------+-------------+------------+-------------------+----------+\n",
      "|         301053|    Azarudeen|          28|     azar@gmail.com|9842356173|\n",
      "|         305123|       Sakthi|          29|sakthi.m2@gmail.com|9764510298|\n",
      "+---------------+-------------+------------+-------------------+----------+\n",
      "\n"
     ]
    }
   ],
   "source": [
    "from pyspark.sql import SparkSession\n",
    "spark = SparkSession.builder.appName('app').getOrCreate()\n",
    "df = spark.read.csv(\"mask_data.csv\",header=True)\n",
    "df.show()"
   ]
  },
  {
   "cell_type": "markdown",
   "id": "1f4f4032",
   "metadata": {},
   "source": [
    "### Email Mask UDF:"
   ]
  },
  {
   "cell_type": "code",
   "execution_count": 8,
   "id": "68ea4de9",
   "metadata": {},
   "outputs": [],
   "source": [
    "def mail_fun(Value):\n",
    "    mail_usr = Value.split(\"@\")[0]\n",
    "    n = len(mail_usr)\n",
    "    ls = list(mail_usr)\n",
    "    ls[1:int(n)-1] = \"*\"*int(n-2)\n",
    "    out = \"\".join(ls)+\"@\"+Value.split(\"@\")[1]\n",
    "    return out"
   ]
  },
  {
   "cell_type": "code",
   "execution_count": 9,
   "id": "4686ab33",
   "metadata": {},
   "outputs": [
    {
     "data": {
      "text/plain": [
       "'n*********y@gmail.com'"
      ]
     },
     "execution_count": 9,
     "metadata": {},
     "output_type": "execute_result"
    }
   ],
   "source": [
    "mail_fun(\"nareshreddy@gmail.com\")"
   ]
  },
  {
   "cell_type": "markdown",
   "id": "5ccc6249",
   "metadata": {},
   "source": [
    "### Mobile Mask UDF "
   ]
  },
  {
   "cell_type": "code",
   "execution_count": 23,
   "id": "f091222e",
   "metadata": {},
   "outputs": [],
   "source": [
    "def mob_fun(val):\n",
    "    n = len(val)\n",
    "    ls = list(val)\n",
    "    ls[2:int(n)-2] = \"x\"*int(n-4)\n",
    "    return \"\".join(ls)"
   ]
  },
  {
   "cell_type": "code",
   "execution_count": 24,
   "id": "82ba7f06",
   "metadata": {},
   "outputs": [
    {
     "data": {
      "text/plain": [
       "'99xxxxxx46'"
      ]
     },
     "execution_count": 24,
     "metadata": {},
     "output_type": "execute_result"
    }
   ],
   "source": [
    "mob_fun(\"9980528846\")"
   ]
  },
  {
   "cell_type": "markdown",
   "id": "78733978",
   "metadata": {},
   "source": [
    "### Register UDF"
   ]
  },
  {
   "cell_type": "code",
   "execution_count": 25,
   "id": "e6abb2cf",
   "metadata": {},
   "outputs": [],
   "source": [
    "from pyspark.sql.functions import udf\n",
    "from pyspark.sql.types import *\n",
    "\n",
    "mask_gmail = udf(mail_fun, StringType())\n",
    "mask_mobile = udf(mob_fun, StringType())"
   ]
  },
  {
   "cell_type": "code",
   "execution_count": 26,
   "id": "b1dd79d1",
   "metadata": {},
   "outputs": [],
   "source": [
    "df_mask = df.withColumn(\"Email_masked\",mask_gmail(df[\"email\"])) \\\n",
    "            .withColumn(\"Mobile_masked\",mask_mobile(df[\"mobile\"])) \\\n",
    "            .drop(\"email\",\"mobile\")"
   ]
  },
  {
   "cell_type": "code",
   "execution_count": 27,
   "id": "78239c28",
   "metadata": {},
   "outputs": [
    {
     "name": "stdout",
     "output_type": "stream",
     "text": [
      "+---------------+-------------+------------+-------------------+-------------+\n",
      "|Customer_number|Customer_name|customer_age|       Email_masked|Mobile_masked|\n",
      "+---------------+-------------+------------+-------------------+-------------+\n",
      "|         301053|    Azarudeen|          28|     a**r@gmail.com|   98xxxxxx73|\n",
      "|         305123|       Sakthi|          29|s*******2@gmail.com|   97xxxxxx98|\n",
      "+---------------+-------------+------------+-------------------+-------------+\n",
      "\n"
     ]
    }
   ],
   "source": [
    "df_mask.show()"
   ]
  },
  {
   "cell_type": "code",
   "execution_count": null,
   "id": "f968bce4",
   "metadata": {},
   "outputs": [],
   "source": []
  }
 ],
 "metadata": {
  "kernelspec": {
   "display_name": "Python 3 (ipykernel)",
   "language": "python",
   "name": "python3"
  },
  "language_info": {
   "codemirror_mode": {
    "name": "ipython",
    "version": 3
   },
   "file_extension": ".py",
   "mimetype": "text/x-python",
   "name": "python",
   "nbconvert_exporter": "python",
   "pygments_lexer": "ipython3",
   "version": "3.10.9"
  }
 },
 "nbformat": 4,
 "nbformat_minor": 5
}
