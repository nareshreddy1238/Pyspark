{
 "cells": [
  {
   "cell_type": "code",
   "execution_count": 2,
   "id": "38daf2ef",
   "metadata": {},
   "outputs": [],
   "source": [
    "from pyspark.sql import SparkSession,types\n",
    "\n",
    "spark = SparkSession.builder.master(\"local\").appName('RDDtoDF').getOrCreate()\n",
    "sc = spark.sparkContext"
   ]
  },
  {
   "cell_type": "code",
   "execution_count": 17,
   "id": "86a04ad0",
   "metadata": {},
   "outputs": [
    {
     "name": "stdout",
     "output_type": "stream",
     "text": [
      "<class 'pyspark.rdd.RDD'>\n"
     ]
    },
    {
     "data": {
      "text/plain": [
       "[[1, 'Naresh'], [2, 'Reddy'], [3, 'Palugulla']]"
      ]
     },
     "execution_count": 17,
     "metadata": {},
     "output_type": "execute_result"
    }
   ],
   "source": [
    "ls = [[1,\"Naresh\"],[2,\"Reddy\"],[3,\"Palugulla\"]]\n",
    "rdd = sc.parallelize(ls)\n",
    "print(type(rdd))\n",
    "rdd.collect()"
   ]
  },
  {
   "cell_type": "markdown",
   "id": "43a886ee",
   "metadata": {},
   "source": [
    "## Convert RDD to DF"
   ]
  },
  {
   "cell_type": "code",
   "execution_count": 9,
   "id": "f3eca8e4",
   "metadata": {
    "scrolled": true
   },
   "outputs": [
    {
     "name": "stdout",
     "output_type": "stream",
     "text": [
      "<class 'pyspark.sql.dataframe.DataFrame'>\n",
      "+------+---------+\n",
      "|Emp_id|     Name|\n",
      "+------+---------+\n",
      "|     1|   Naresh|\n",
      "|     2|    Reddy|\n",
      "|     3|Palugulla|\n",
      "+------+---------+\n",
      "\n"
     ]
    }
   ],
   "source": [
    "df = rdd1.toDF([\"Emp_id\",\"Name\"])\n",
    "print(type(df))\n",
    "df.show()"
   ]
  },
  {
   "cell_type": "markdown",
   "id": "104b0765",
   "metadata": {},
   "source": [
    "## Convert RDD to DF: Another Method"
   ]
  },
  {
   "cell_type": "code",
   "execution_count": 11,
   "id": "81219a4a",
   "metadata": {},
   "outputs": [
    {
     "name": "stdout",
     "output_type": "stream",
     "text": [
      "<class 'pyspark.sql.dataframe.DataFrame'>\n",
      "+------+---------+\n",
      "|Emp_id|     Name|\n",
      "+------+---------+\n",
      "|     1|   Naresh|\n",
      "|     2|    Reddy|\n",
      "|     3|Palugulla|\n",
      "+------+---------+\n",
      "\n"
     ]
    }
   ],
   "source": [
    "df1 = spark.createDataFrame(rdd1,[\"Emp_id\",\"Name\"])\n",
    "print(type(df1))\n",
    "df1.show()"
   ]
  },
  {
   "cell_type": "markdown",
   "id": "371e4887",
   "metadata": {},
   "source": [
    "## Convert DF to RDD"
   ]
  },
  {
   "cell_type": "code",
   "execution_count": 14,
   "id": "64e80ec3",
   "metadata": {},
   "outputs": [
    {
     "name": "stdout",
     "output_type": "stream",
     "text": [
      "<class 'pyspark.rdd.RDD'>\n"
     ]
    },
    {
     "data": {
      "text/plain": [
       "[Row(Emp_id=1, Name='Naresh'),\n",
       " Row(Emp_id=2, Name='Reddy'),\n",
       " Row(Emp_id=3, Name='Palugulla')]"
      ]
     },
     "execution_count": 14,
     "metadata": {},
     "output_type": "execute_result"
    }
   ],
   "source": [
    "rdd2 = df1.rdd\n",
    "print(type(rdd2))\n",
    "rdd2.collect()"
   ]
  },
  {
   "cell_type": "code",
   "execution_count": null,
   "id": "df3b3409",
   "metadata": {},
   "outputs": [],
   "source": []
  }
 ],
 "metadata": {
  "kernelspec": {
   "display_name": "Python 3 (ipykernel)",
   "language": "python",
   "name": "python3"
  },
  "language_info": {
   "codemirror_mode": {
    "name": "ipython",
    "version": 3
   },
   "file_extension": ".py",
   "mimetype": "text/x-python",
   "name": "python",
   "nbconvert_exporter": "python",
   "pygments_lexer": "ipython3",
   "version": "3.10.9"
  }
 },
 "nbformat": 4,
 "nbformat_minor": 5
}
