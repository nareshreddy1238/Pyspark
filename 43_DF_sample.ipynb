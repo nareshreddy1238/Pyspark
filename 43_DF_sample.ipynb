{
 "cells": [
  {
   "cell_type": "code",
   "execution_count": 1,
   "id": "401e3884-1f15-4dc8-bc09-79fadf35dd6c",
   "metadata": {},
   "outputs": [
    {
     "name": "stdout",
     "output_type": "stream",
     "text": [
      "[Row(id=12), Row(id=28), Row(id=59), Row(id=66), Row(id=68), Row(id=84), Row(id=89)]\n"
     ]
    }
   ],
   "source": [
    "from pyspark.sql import SparkSession\n",
    "spark = SparkSession.builder.master(\"local[1]\").appName(\"com\").getOrCreate()\n",
    "\n",
    "df=spark.range(100)\n",
    "print(df.sample(0.06).collect())"
   ]
  },
  {
   "cell_type": "code",
   "execution_count": 3,
   "id": "f624745b-0393-4105-9527-81d413f54061",
   "metadata": {},
   "outputs": [
    {
     "name": "stdout",
     "output_type": "stream",
     "text": [
      "[Row(id=36), Row(id=37), Row(id=41), Row(id=43), Row(id=56), Row(id=66), Row(id=69), Row(id=75), Row(id=83)]\n",
      "[Row(id=36), Row(id=37), Row(id=41), Row(id=43), Row(id=56), Row(id=66), Row(id=69), Row(id=75), Row(id=83)]\n",
      "[Row(id=19), Row(id=21), Row(id=42), Row(id=48), Row(id=49), Row(id=50), Row(id=75), Row(id=80)]\n"
     ]
    }
   ],
   "source": [
    "print(df.sample(0.1,123).collect())\n",
    "print(df.sample(0.1,123).collect())\n",
    "print(df.sample(0.1,456).collect())"
   ]
  },
  {
   "cell_type": "code",
   "execution_count": 5,
   "id": "ff8957cf-a890-40d9-ab90-558ef301f506",
   "metadata": {},
   "outputs": [
    {
     "name": "stdout",
     "output_type": "stream",
     "text": [
      "[Row(id=6), Row(id=13), Row(id=17), Row(id=19), Row(id=78)]\n",
      "[Row(id=36), Row(id=37), Row(id=41), Row(id=43), Row(id=56), Row(id=66), Row(id=69), Row(id=75), Row(id=83)]\n"
     ]
    }
   ],
   "source": [
    "print(df.sample(True,0.1,123).collect()) \n",
    "print(df.sample(0.1,123).collect())"
   ]
  },
  {
   "cell_type": "code",
   "execution_count": 8,
   "id": "65d25062-5662-4e8f-900e-ffa53247b758",
   "metadata": {},
   "outputs": [
    {
     "name": "stdout",
     "output_type": "stream",
     "text": [
      "[Row(key=2), Row(key=1), Row(key=2), Row(key=2), Row(key=2), Row(key=1), Row(key=1), Row(key=1), Row(key=2), Row(key=2)]\n"
     ]
    }
   ],
   "source": [
    "df2=df.select((df.id % 3).alias(\"key\"))\n",
    "print(df2.sampleBy(\"key\", {1: 0.1, 2: 0.2},0).collect())"
   ]
  },
  {
   "cell_type": "code",
   "execution_count": 11,
   "id": "8ecb5698-1a51-4081-a67d-c1f8df6bd9d7",
   "metadata": {},
   "outputs": [
    {
     "name": "stdout",
     "output_type": "stream",
     "text": [
      "[24, 29, 41, 64, 86]\n",
      "[0, 11, 13, 14, 16, 18, 21, 23, 27, 31, 32, 32, 48, 49, 49, 53, 54, 72, 74, 77, 77, 83, 88, 91, 93, 98, 99]\n",
      "[58, 1, 96, 74, 29, 24, 32, 37, 94, 91]\n",
      "[43, 65, 39, 18, 84, 86, 25, 13, 40, 21, 79, 63, 7, 32, 26, 71, 23, 61, 83, 60, 22, 35, 84, 22, 0, 88, 16, 40, 65, 84]\n"
     ]
    }
   ],
   "source": [
    "rdd = spark.sparkContext.range(0,100)\n",
    "print(rdd.sample(False,0.1,0).collect())\n",
    "print(rdd.sample(True,0.3,123).collect())\n",
    "print(rdd.takeSample(False,10,0))\n",
    "print(rdd.takeSample(True,30,123))"
   ]
  },
  {
   "cell_type": "code",
   "execution_count": null,
   "id": "70d62d49-a838-47ad-85b3-ee51561345f0",
   "metadata": {},
   "outputs": [],
   "source": []
  }
 ],
 "metadata": {
  "kernelspec": {
   "display_name": "Python 3 (ipykernel)",
   "language": "python",
   "name": "python3"
  },
  "language_info": {
   "codemirror_mode": {
    "name": "ipython",
    "version": 3
   },
   "file_extension": ".py",
   "mimetype": "text/x-python",
   "name": "python",
   "nbconvert_exporter": "python",
   "pygments_lexer": "ipython3",
   "version": "3.10.9"
  }
 },
 "nbformat": 4,
 "nbformat_minor": 5
}
