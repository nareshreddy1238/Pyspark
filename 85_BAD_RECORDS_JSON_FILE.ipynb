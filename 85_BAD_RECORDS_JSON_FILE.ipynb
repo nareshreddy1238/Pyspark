{
 "cells": [
  {
   "cell_type": "code",
   "execution_count": 3,
   "id": "9f5ed431",
   "metadata": {},
   "outputs": [
    {
     "name": "stdout",
     "output_type": "stream",
     "text": [
      "+-------------+------------+\n",
      "|model_make_id|  model_name|\n",
      "+-------------+------------+\n",
      "|         ford|       021 C|\n",
      "|         ford|        12 M|\n",
      "|         ford|          17|\n",
      "|         ford|         17M|\n",
      "|         ford|        2000|\n",
      "|         ford|        24.7|\n",
      "|         ford|         427|\n",
      "|         ford|          49|\n",
      "|         ford|    Aerostar|\n",
      "|         ford|      Anglia|\n",
      "|         ford|       Artic|\n",
      "|         ford|      Aspire|\n",
      "|         ford|      Bantam|\n",
      "|         ford|      Bronco|\n",
      "|         ford|   Bronco II|\n",
      "|         ford|       C 100|\n",
      "|         ford|C-Max Energi|\n",
      "|         ford|C-Max Hybrid|\n",
      "|         ford|       Capri|\n",
      "|         ford|        Coin|\n",
      "+-------------+------------+\n",
      "only showing top 20 rows\n",
      "\n"
     ]
    }
   ],
   "source": [
    "from pyspark.sql import SparkSession\n",
    "spark = SparkSession.builder.appName('my').getOrCreate()\n",
    "df = spark.read.option(\"mode\",\"dropMalFormed\").json(\"ford_json.json\")\n",
    "df.show()"
   ]
  },
  {
   "cell_type": "code",
   "execution_count": null,
   "id": "c583c0bc",
   "metadata": {},
   "outputs": [],
   "source": []
  }
 ],
 "metadata": {
  "kernelspec": {
   "display_name": "Python 3 (ipykernel)",
   "language": "python",
   "name": "python3"
  },
  "language_info": {
   "codemirror_mode": {
    "name": "ipython",
    "version": 3
   },
   "file_extension": ".py",
   "mimetype": "text/x-python",
   "name": "python",
   "nbconvert_exporter": "python",
   "pygments_lexer": "ipython3",
   "version": "3.10.9"
  }
 },
 "nbformat": 4,
 "nbformat_minor": 5
}
