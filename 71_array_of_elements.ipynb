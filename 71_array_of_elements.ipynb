{
 "cells": [
  {
   "cell_type": "markdown",
   "id": "2fbb29f8",
   "metadata": {},
   "source": [
    "#### 7.\tconsider a file with a column named Education, which has array of elements as shown below. Convert element in the array to record using spark dataframe.\n",
    "inputFile:\n",
    "Name|Age|Education\n",
    "Naresh|24|B.Tech,Inter,SSC\n",
    "Hari|32\n",
    "Nani|31|M.Tech,B.Tech,Inter,SSC\n",
    "Kumar|27|P.H.D,M.B.A,Degree,Inter,SSC"
   ]
  },
  {
   "cell_type": "code",
   "execution_count": 10,
   "id": "b90df528",
   "metadata": {
    "scrolled": true
   },
   "outputs": [
    {
     "name": "stdout",
     "output_type": "stream",
     "text": [
      "+------+---+----------------------------+\n",
      "|Name  |Age|Education,                  |\n",
      "+------+---+----------------------------+\n",
      "|Naresh|24 |B.Tech,Inter,SSC,           |\n",
      "|Hari  |32 |null                        |\n",
      "|Nani  |31 |M.Tech,B.Tech,Inter,SSC,    |\n",
      "|Kumar |27 |P.H.D,M.B.A,Degree,Inter,SSC|\n",
      "+------+---+----------------------------+\n",
      "\n"
     ]
    }
   ],
   "source": [
    "from pyspark.sql import SparkSession\n",
    "\n",
    "spark = SparkSession.builder.appName('education').getOrCreate()\n",
    "df = spark.read.option(\"delimiter\",\"|\").csv(\"education.csv\",header=True)\n",
    "df.show(truncate=False)"
   ]
  },
  {
   "cell_type": "markdown",
   "id": "a28adeec",
   "metadata": {},
   "source": [
    "## explode: from multiple column values into single values: Null values not covered"
   ]
  },
  {
   "cell_type": "code",
   "execution_count": 25,
   "id": "36082c6d",
   "metadata": {},
   "outputs": [
    {
     "name": "stdout",
     "output_type": "stream",
     "text": [
      "+------+---+-------------+\n",
      "|  Name|Age|Qualification|\n",
      "+------+---+-------------+\n",
      "|Naresh| 24|       B.Tech|\n",
      "|Naresh| 24|        Inter|\n",
      "|Naresh| 24|          SSC|\n",
      "|Naresh| 24|             |\n",
      "|  Nani| 31|       M.Tech|\n",
      "|  Nani| 31|       B.Tech|\n",
      "|  Nani| 31|        Inter|\n",
      "|  Nani| 31|          SSC|\n",
      "|  Nani| 31|             |\n",
      "| Kumar| 27|        P.H.D|\n",
      "| Kumar| 27|        M.B.A|\n",
      "| Kumar| 27|       Degree|\n",
      "| Kumar| 27|        Inter|\n",
      "| Kumar| 27|          SSC|\n",
      "+------+---+-------------+\n",
      "\n"
     ]
    }
   ],
   "source": [
    "from pyspark.sql.functions import explode, split\n",
    "\n",
    "df.withColumn(\"Qualification\",explode(split(\"Education,\",\",\"))).drop(\"Education,\").show()"
   ]
  },
  {
   "cell_type": "markdown",
   "id": "7ad1e13a",
   "metadata": {},
   "source": [
    "## explode_outer with Null values covered "
   ]
  },
  {
   "cell_type": "code",
   "execution_count": 26,
   "id": "992427b0",
   "metadata": {},
   "outputs": [
    {
     "name": "stdout",
     "output_type": "stream",
     "text": [
      "+------+---+-------------+\n",
      "|  Name|Age|Qualification|\n",
      "+------+---+-------------+\n",
      "|Naresh| 24|       B.Tech|\n",
      "|Naresh| 24|        Inter|\n",
      "|Naresh| 24|          SSC|\n",
      "|Naresh| 24|             |\n",
      "|  Hari| 32|         null|\n",
      "|  Nani| 31|       M.Tech|\n",
      "|  Nani| 31|       B.Tech|\n",
      "|  Nani| 31|        Inter|\n",
      "|  Nani| 31|          SSC|\n",
      "|  Nani| 31|             |\n",
      "| Kumar| 27|        P.H.D|\n",
      "| Kumar| 27|        M.B.A|\n",
      "| Kumar| 27|       Degree|\n",
      "| Kumar| 27|        Inter|\n",
      "| Kumar| 27|          SSC|\n",
      "+------+---+-------------+\n",
      "\n"
     ]
    }
   ],
   "source": [
    "from pyspark.sql.functions import explode_outer, split\n",
    "\n",
    "df.withColumn(\"Qualification\",explode_outer(split(\"Education,\",\",\"))).drop(\"Education,\").show()"
   ]
  },
  {
   "cell_type": "markdown",
   "id": "bfe05cec",
   "metadata": {},
   "source": [
    "## position with values posexplode_outer"
   ]
  },
  {
   "cell_type": "code",
   "execution_count": 33,
   "id": "04485781",
   "metadata": {},
   "outputs": [
    {
     "name": "stdout",
     "output_type": "stream",
     "text": [
      "+------+---+-----+-------------+\n",
      "|  Name|Age|Index|Qualification|\n",
      "+------+---+-----+-------------+\n",
      "|Naresh| 24|    0|       B.Tech|\n",
      "|Naresh| 24|    1|        Inter|\n",
      "|Naresh| 24|    2|          SSC|\n",
      "|Naresh| 24|    3|             |\n",
      "|  Hari| 32| null|         null|\n",
      "|  Nani| 31|    0|       M.Tech|\n",
      "|  Nani| 31|    1|       B.Tech|\n",
      "|  Nani| 31|    2|        Inter|\n",
      "|  Nani| 31|    3|          SSC|\n",
      "|  Nani| 31|    4|             |\n",
      "| Kumar| 27|    0|        P.H.D|\n",
      "| Kumar| 27|    1|        M.B.A|\n",
      "| Kumar| 27|    2|       Degree|\n",
      "| Kumar| 27|    3|        Inter|\n",
      "| Kumar| 27|    4|          SSC|\n",
      "+------+---+-----+-------------+\n",
      "\n"
     ]
    }
   ],
   "source": [
    "from pyspark.sql.functions import posexplode_outer, split\n",
    "\n",
    "df.select(\"*\", posexplode_outer(split(\"Education,\",\",\"))).withColumnRenamed(\"col\",\"Qualification\").withColumnRenamed(\"pos\",\"Index\").drop(\"Education,\").show()"
   ]
  },
  {
   "cell_type": "code",
   "execution_count": null,
   "id": "965c7404",
   "metadata": {},
   "outputs": [],
   "source": []
  }
 ],
 "metadata": {
  "kernelspec": {
   "display_name": "Python 3 (ipykernel)",
   "language": "python",
   "name": "python3"
  },
  "language_info": {
   "codemirror_mode": {
    "name": "ipython",
    "version": 3
   },
   "file_extension": ".py",
   "mimetype": "text/x-python",
   "name": "python",
   "nbconvert_exporter": "python",
   "pygments_lexer": "ipython3",
   "version": "3.10.9"
  }
 },
 "nbformat": 4,
 "nbformat_minor": 5
}
