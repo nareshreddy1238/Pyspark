{
 "cells": [
  {
   "cell_type": "code",
   "execution_count": 1,
   "id": "dbe1c43f",
   "metadata": {},
   "outputs": [],
   "source": [
    "from pyspark.sql import SparkSession\n",
    "\n",
    "spark=SparkSession.builder.appName(\"Multi file\").getOrCreate()"
   ]
  },
  {
   "cell_type": "code",
   "execution_count": 2,
   "id": "a35c5504",
   "metadata": {},
   "outputs": [
    {
     "name": "stdout",
     "output_type": "stream",
     "text": [
      "+----------------+----+---------+----+\n",
      "|            Name| age|education|Year|\n",
      "+----------------+----+---------+----+\n",
      "|          Dravid|  44|     MBBS|2005|\n",
      "|         Ganguly|  45|      BDS|2008|\n",
      "|           Gayle|  40|      BBA|2003|\n",
      "|           Rahul|  24|     B.Sc|2012|\n",
      "|           Dhoni|  38|      MBA|2005|\n",
      "|           Rinku|  26|     B.Ed|2016|\n",
      "|           Rohit|  32|       MS|2010|\n",
      "|          Pollar|  36|     M.Sc|2010|\n",
      "|           Kolhi|  29|       ME|2017|\n",
      "|          Hussey|  43|     Ph.d|2013|\n",
      "|          Parker|  23|       BE|2019|\n",
      "|           Peter|  29|       ME|2013|\n",
      "|            Mike|  28|       BE|2014|\n",
      "|            Jack|  43|      MBA|2000|\n",
      "|         age:Int|null|     null|null|\n",
      "|education:String|null|     null|null|\n",
      "|        Year:Int|null|     null|null|\n",
      "+----------------+----+---------+----+\n",
      "\n"
     ]
    }
   ],
   "source": [
    "df = spark.read.option(\"header\",True).csv(\"Data*/file*.csv\")\n",
    "df.show()"
   ]
  },
  {
   "cell_type": "markdown",
   "id": "249e7646",
   "metadata": {},
   "source": [
    "### Method 1: List of Input Path"
   ]
  },
  {
   "cell_type": "code",
   "execution_count": 3,
   "id": "46756d76",
   "metadata": {},
   "outputs": [
    {
     "name": "stdout",
     "output_type": "stream",
     "text": [
      "+-------+---+---------+----+\n",
      "|   Name|age|education|Year|\n",
      "+-------+---+---------+----+\n",
      "| Dravid| 44|     MBBS|2005|\n",
      "|Ganguly| 45|      BDS|2008|\n",
      "|  Gayle| 40|      BBA|2003|\n",
      "|  Rahul| 24|     B.Sc|2012|\n",
      "|  Dhoni| 38|      MBA|2005|\n",
      "|  Rinku| 26|     B.Ed|2016|\n",
      "|  Rohit| 32|       MS|2010|\n",
      "| Pollar| 36|     M.Sc|2010|\n",
      "|  Kolhi| 29|       ME|2017|\n",
      "| Hussey| 43|     Ph.d|2013|\n",
      "| Parker| 23|       BE|2019|\n",
      "|  Peter| 29|       ME|2013|\n",
      "|   Mike| 28|       BE|2014|\n",
      "|   Jack| 43|      MBA|2000|\n",
      "+-------+---+---------+----+\n",
      "\n"
     ]
    }
   ],
   "source": [
    "df1 = spark.read.option(\"header\",True).csv([\"Data1/*.csv\",\"Data2/*.csv\",\"Data3/*.csv\",\"Data4/*.csv\"])\n",
    "df1.show()"
   ]
  },
  {
   "cell_type": "markdown",
   "id": "586febd9",
   "metadata": {},
   "source": [
    "### Method 2: Using Regex Pattern"
   ]
  },
  {
   "cell_type": "code",
   "execution_count": 4,
   "id": "72d9c06e",
   "metadata": {},
   "outputs": [
    {
     "name": "stdout",
     "output_type": "stream",
     "text": [
      "+-------+---+---------+----+\n",
      "|   Name|age|education|Year|\n",
      "+-------+---+---------+----+\n",
      "| Dravid| 44|     MBBS|2005|\n",
      "|Ganguly| 45|      BDS|2008|\n",
      "|  Gayle| 40|      BBA|2003|\n",
      "|  Rahul| 24|     B.Sc|2012|\n",
      "|  Dhoni| 38|      MBA|2005|\n",
      "|  Rinku| 26|     B.Ed|2016|\n",
      "|  Rohit| 32|       MS|2010|\n",
      "| Pollar| 36|     M.Sc|2010|\n",
      "|  Kolhi| 29|       ME|2017|\n",
      "| Hussey| 43|     Ph.d|2013|\n",
      "| Parker| 23|       BE|2019|\n",
      "|  Peter| 29|       ME|2013|\n",
      "|   Mike| 28|       BE|2014|\n",
      "|   Jack| 43|      MBA|2000|\n",
      "+-------+---+---------+----+\n",
      "\n"
     ]
    }
   ],
   "source": [
    "df2 = spark.read.option(\"header\",True).csv(\"Data[1-4]*/*.csv\")\n",
    "df2.show()"
   ]
  },
  {
   "cell_type": "markdown",
   "id": "29f87d9f",
   "metadata": {},
   "source": [
    "### Method 3: using curly braces"
   ]
  },
  {
   "cell_type": "code",
   "execution_count": 5,
   "id": "eca370b5",
   "metadata": {},
   "outputs": [
    {
     "name": "stdout",
     "output_type": "stream",
     "text": [
      "+-------+---+---------+----+\n",
      "|   Name|age|education|Year|\n",
      "+-------+---+---------+----+\n",
      "| Dravid| 44|     MBBS|2005|\n",
      "|Ganguly| 45|      BDS|2008|\n",
      "|  Gayle| 40|      BBA|2003|\n",
      "|  Rahul| 24|     B.Sc|2012|\n",
      "|  Dhoni| 38|      MBA|2005|\n",
      "|  Rinku| 26|     B.Ed|2016|\n",
      "|  Rohit| 32|       MS|2010|\n",
      "| Pollar| 36|     M.Sc|2010|\n",
      "|  Kolhi| 29|       ME|2017|\n",
      "| Hussey| 43|     Ph.d|2013|\n",
      "| Parker| 23|       BE|2019|\n",
      "|  Peter| 29|       ME|2013|\n",
      "|   Mike| 28|       BE|2014|\n",
      "|   Jack| 43|      MBA|2000|\n",
      "+-------+---+---------+----+\n",
      "\n"
     ]
    }
   ],
   "source": [
    "df3 = spark.read.option(\"header\",True).csv(\"Data{1,2,3,4}*/*.csv\")\n",
    "df3.show()"
   ]
  },
  {
   "cell_type": "code",
   "execution_count": null,
   "id": "2e7c61f8",
   "metadata": {},
   "outputs": [],
   "source": []
  }
 ],
 "metadata": {
  "kernelspec": {
   "display_name": "Python 3 (ipykernel)",
   "language": "python",
   "name": "python3"
  },
  "language_info": {
   "codemirror_mode": {
    "name": "ipython",
    "version": 3
   },
   "file_extension": ".py",
   "mimetype": "text/x-python",
   "name": "python",
   "nbconvert_exporter": "python",
   "pygments_lexer": "ipython3",
   "version": "3.10.9"
  }
 },
 "nbformat": 4,
 "nbformat_minor": 5
}
