{
 "cells": [
  {
   "cell_type": "code",
   "execution_count": 7,
   "id": "c89fb114-ca0e-4187-a756-06a0ce0308b0",
   "metadata": {},
   "outputs": [
    {
     "name": "stdout",
     "output_type": "stream",
     "text": [
      "root\n",
      " |-- Date: string (nullable = true)\n",
      " |-- Open: double (nullable = true)\n",
      " |-- High: double (nullable = true)\n",
      " |-- Low: double (nullable = true)\n",
      " |-- Close: double (nullable = true)\n",
      " |-- Volume: integer (nullable = true)\n",
      " |-- Adj Close: double (nullable = true)\n",
      "\n",
      "-RECORD 0-----------------------\n",
      " Date      | 2010-01-04         \n",
      " Open      | 213.429998         \n",
      " High      | 214.499996         \n",
      " Low       | 212.38000099999996 \n",
      " Close     | 214.009998         \n",
      " Volume    | 123432400          \n",
      " Adj Close | 27.727039          \n",
      "-RECORD 1-----------------------\n",
      " Date      | 2010-01-05         \n",
      " Open      | 214.599998         \n",
      " High      | 215.589994         \n",
      " Low       | 213.249994         \n",
      " Close     | 214.379993         \n",
      " Volume    | 150476200          \n",
      " Adj Close | 27.774976000000002 \n",
      "-RECORD 2-----------------------\n",
      " Date      | 2010-01-06         \n",
      " Open      | 214.379993         \n",
      " High      | 215.23             \n",
      " Low       | 210.750004         \n",
      " Close     | 210.969995         \n",
      " Volume    | 138040000          \n",
      " Adj Close | 27.333178000000004 \n",
      "only showing top 3 rows\n",
      "\n"
     ]
    }
   ],
   "source": [
    "from pyspark.sql import SparkSession\n",
    "spark = SparkSession.builder.appName('SparkByExamples.com').getOrCreate()\n",
    "df = spark.read.options(header='True', inferSchema=True, delimiter=',').csv(\"appl_stock.csv\")\n",
    "df.printSchema()\n",
    "df.show(n=3, truncate=25, vertical=True)"
   ]
  },
  {
   "cell_type": "code",
   "execution_count": 8,
   "id": "32dc52e5-bb26-4590-9aca-14851eab8186",
   "metadata": {},
   "outputs": [
    {
     "name": "stdout",
     "output_type": "stream",
     "text": [
      "+-----+--------------------+\n",
      "|Seqno|               Quote|\n",
      "+-----+--------------------+\n",
      "|    1|Be the change tha...|\n",
      "|    2|Everyone thinks o...|\n",
      "|    3|The purpose of ou...|\n",
      "|    4|            Be cool.|\n",
      "+-----+--------------------+\n",
      "\n"
     ]
    }
   ],
   "source": [
    "from pyspark.sql import SparkSession\n",
    "spark = SparkSession.builder.appName('SparkByExamples.com').getOrCreate()\n",
    "columns = [\"Seqno\",\"Quote\"]\n",
    "data = [(\"1\", \"Be the change that you wish to see in the world\"),\n",
    "    (\"2\", \"Everyone thinks of changing the world, but no one thinks of changing himself.\"),\n",
    "    (\"3\", \"The purpose of our lives is to be happy.\"),\n",
    "    (\"4\", \"Be cool.\")]\n",
    "df = spark.createDataFrame(data,columns)\n",
    "df.show()"
   ]
  },
  {
   "cell_type": "code",
   "execution_count": 9,
   "id": "40491a26-641b-4d54-9630-a3e63fa4f2ee",
   "metadata": {},
   "outputs": [
    {
     "name": "stdout",
     "output_type": "stream",
     "text": [
      "+-----+-----------------------------------------------------------------------------+\n",
      "|Seqno|Quote                                                                        |\n",
      "+-----+-----------------------------------------------------------------------------+\n",
      "|1    |Be the change that you wish to see in the world                              |\n",
      "|2    |Everyone thinks of changing the world, but no one thinks of changing himself.|\n",
      "|3    |The purpose of our lives is to be happy.                                     |\n",
      "|4    |Be cool.                                                                     |\n",
      "+-----+-----------------------------------------------------------------------------+\n",
      "\n"
     ]
    }
   ],
   "source": [
    "df.show(truncate=False)"
   ]
  },
  {
   "cell_type": "code",
   "execution_count": 10,
   "id": "6da3fdc3-42cc-4267-9967-7dd44cd6ff00",
   "metadata": {},
   "outputs": [
    {
     "name": "stdout",
     "output_type": "stream",
     "text": [
      "+-----+-----------------------------------------------------------------------------+\n",
      "|Seqno|Quote                                                                        |\n",
      "+-----+-----------------------------------------------------------------------------+\n",
      "|1    |Be the change that you wish to see in the world                              |\n",
      "|2    |Everyone thinks of changing the world, but no one thinks of changing himself.|\n",
      "+-----+-----------------------------------------------------------------------------+\n",
      "only showing top 2 rows\n",
      "\n"
     ]
    }
   ],
   "source": [
    "df.show(2,truncate=False) "
   ]
  },
  {
   "cell_type": "code",
   "execution_count": 11,
   "id": "6f294d09-32f8-4518-ad44-34f9ad22eb81",
   "metadata": {},
   "outputs": [
    {
     "name": "stdout",
     "output_type": "stream",
     "text": [
      "+-----+-------------------------+\n",
      "|Seqno|                    Quote|\n",
      "+-----+-------------------------+\n",
      "|    1|Be the change that you...|\n",
      "|    2|Everyone thinks of cha...|\n",
      "+-----+-------------------------+\n",
      "only showing top 2 rows\n",
      "\n"
     ]
    }
   ],
   "source": [
    "df.show(2,truncate=25) "
   ]
  },
  {
   "cell_type": "code",
   "execution_count": 12,
   "id": "175cd17a-6bfa-4b33-80b8-f87243fb02b7",
   "metadata": {},
   "outputs": [
    {
     "name": "stdout",
     "output_type": "stream",
     "text": [
      "-RECORD 0--------------------------\n",
      " Seqno | 1                         \n",
      " Quote | Be the change that you... \n",
      "-RECORD 1--------------------------\n",
      " Seqno | 2                         \n",
      " Quote | Everyone thinks of cha... \n",
      "-RECORD 2--------------------------\n",
      " Seqno | 3                         \n",
      " Quote | The purpose of our liv... \n",
      "only showing top 3 rows\n",
      "\n"
     ]
    }
   ],
   "source": [
    "df.show(n=3,truncate=25,vertical=True)"
   ]
  },
  {
   "cell_type": "code",
   "execution_count": null,
   "id": "b5664bce-6b61-448f-acc6-7afda1447dcc",
   "metadata": {},
   "outputs": [],
   "source": []
  }
 ],
 "metadata": {
  "kernelspec": {
   "display_name": "Python 3 (ipykernel)",
   "language": "python",
   "name": "python3"
  },
  "language_info": {
   "codemirror_mode": {
    "name": "ipython",
    "version": 3
   },
   "file_extension": ".py",
   "mimetype": "text/x-python",
   "name": "python",
   "nbconvert_exporter": "python",
   "pygments_lexer": "ipython3",
   "version": "3.10.9"
  }
 },
 "nbformat": 4,
 "nbformat_minor": 5
}
