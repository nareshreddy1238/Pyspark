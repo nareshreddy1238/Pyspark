{
 "cells": [
  {
   "cell_type": "markdown",
   "id": "f6cecc4e",
   "metadata": {},
   "source": [
    "## Load Files HardCode all the recursive path available to read "
   ]
  },
  {
   "cell_type": "code",
   "execution_count": 1,
   "id": "92fcd166",
   "metadata": {},
   "outputs": [
    {
     "name": "stdout",
     "output_type": "stream",
     "text": [
      "+-------+---+---------+----+\n",
      "|   Name|age|education|Year|\n",
      "+-------+---+---------+----+\n",
      "| Dravid| 44|     MBBS|2005|\n",
      "|Ganguly| 45|      BDS|2008|\n",
      "|  Gayle| 40|      BBA|2003|\n",
      "|  Rahul| 24|     B.Sc|2012|\n",
      "|  Dhoni| 38|      MBA|2005|\n",
      "|  Rinku| 26|     B.Ed|2016|\n",
      "|  Rohit| 32|       MS|2010|\n",
      "| Pollar| 36|     M.Sc|2010|\n",
      "|  Kolhi| 29|       ME|2017|\n",
      "| Hussey| 43|     Ph.d|2013|\n",
      "| Parker| 23|       BE|2019|\n",
      "|  Peter| 29|       ME|2013|\n",
      "|   Mike| 28|       BE|2014|\n",
      "|   Jack| 43|      MBA|2000|\n",
      "+-------+---+---------+----+\n",
      "\n"
     ]
    }
   ],
   "source": [
    "from pyspark.sql import SparkSession\n",
    "\n",
    "in_path = [\"Root/\",\n",
    "           \"Root/Data1/\",\n",
    "           \"Root/Data2/\",\n",
    "           \"Root/Data3/\",\n",
    "           \"Root/Data4/subfolder/\"]\n",
    "\n",
    "spark = SparkSession.builder.appName('app1').getOrCreate()\n",
    "df = spark.read.format(\"csv\").option(\"header\",True).load(in_path)\n",
    "df.show()"
   ]
  },
  {
   "cell_type": "markdown",
   "id": "ea01b471",
   "metadata": {},
   "source": [
    "### Which Record belongs to which file and it's complete path"
   ]
  },
  {
   "cell_type": "code",
   "execution_count": 4,
   "id": "14053dae",
   "metadata": {},
   "outputs": [
    {
     "name": "stdout",
     "output_type": "stream",
     "text": [
      "+-------+---+---------+----+----------------------------------------------------------------------+\n",
      "|Name   |age|education|Year|FileName                                                              |\n",
      "+-------+---+---------+----+----------------------------------------------------------------------+\n",
      "|Dravid |44 |MBBS     |2005|file:///C:/Users/nares/PySpark_Examples/Root/Data4/subfolder/file1.csv|\n",
      "|Ganguly|45 |BDS      |2008|file:///C:/Users/nares/PySpark_Examples/Root/Data4/subfolder/file1.csv|\n",
      "|Gayle  |40 |BBA      |2003|file:///C:/Users/nares/PySpark_Examples/Root/Data2/file1.csv          |\n",
      "|Rahul  |24 |B.Sc     |2012|file:///C:/Users/nares/PySpark_Examples/Root/Data2/file1.csv          |\n",
      "|Dhoni  |38 |MBA      |2005|file:///C:/Users/nares/PySpark_Examples/Root/Data2/file2.csv          |\n",
      "|Rinku  |26 |B.Ed     |2016|file:///C:/Users/nares/PySpark_Examples/Root/Data2/file2.csv          |\n",
      "|Rohit  |32 |MS       |2010|file:///C:/Users/nares/PySpark_Examples/Root/Data3/file1.csv          |\n",
      "|Pollar |36 |M.Sc     |2010|file:///C:/Users/nares/PySpark_Examples/Root/Data3/file1.csv          |\n",
      "|Kolhi  |29 |ME       |2017|file:///C:/Users/nares/PySpark_Examples/Root/Data3/file2.csv          |\n",
      "|Hussey |43 |Ph.d     |2013|file:///C:/Users/nares/PySpark_Examples/Root/Data3/file2.csv          |\n",
      "|Parker |23 |BE       |2019|file:///C:/Users/nares/PySpark_Examples/Root/Data1/file2.csv          |\n",
      "|Peter  |29 |ME       |2013|file:///C:/Users/nares/PySpark_Examples/Root/Data1/file2.csv          |\n",
      "|Mike   |28 |BE       |2014|file:///C:/Users/nares/PySpark_Examples/Root/Data1/file1.csv          |\n",
      "|Jack   |43 |MBA      |2000|file:///C:/Users/nares/PySpark_Examples/Root/Data1/file1.csv          |\n",
      "+-------+---+---------+----+----------------------------------------------------------------------+\n",
      "\n"
     ]
    }
   ],
   "source": [
    "from pyspark.sql.functions import input_file_name\n",
    "\n",
    "df = spark.read.format(\"csv\").option(\"header\",True).load(in_path).withColumn(\"FileName\",input_file_name())\n",
    "df.show(truncate=False)"
   ]
  },
  {
   "cell_type": "markdown",
   "id": "9d8c38e7",
   "metadata": {},
   "source": [
    "### Method 2: Use Recursive option to read all at once"
   ]
  },
  {
   "cell_type": "code",
   "execution_count": 6,
   "id": "c6f3aca2",
   "metadata": {},
   "outputs": [
    {
     "name": "stdout",
     "output_type": "stream",
     "text": [
      "+-------+---+---------+----+\n",
      "|   Name|age|education|Year|\n",
      "+-------+---+---------+----+\n",
      "| Dravid| 44|     MBBS|2005|\n",
      "|Ganguly| 45|      BDS|2008|\n",
      "|  Gayle| 40|      BBA|2003|\n",
      "|  Rahul| 24|     B.Sc|2012|\n",
      "|  Dhoni| 38|      MBA|2005|\n",
      "|  Rinku| 26|     B.Ed|2016|\n",
      "|  Rohit| 32|       MS|2010|\n",
      "| Pollar| 36|     M.Sc|2010|\n",
      "|  Kolhi| 29|       ME|2017|\n",
      "| Hussey| 43|     Ph.d|2013|\n",
      "| Parker| 23|       BE|2019|\n",
      "|  Peter| 29|       ME|2013|\n",
      "|   Mike| 28|       BE|2014|\n",
      "|   Jack| 43|      MBA|2000|\n",
      "+-------+---+---------+----+\n",
      "\n"
     ]
    }
   ],
   "source": [
    "df = spark.read.format(\"csv\").option(\"recursiveFileLookup\",True).option(\"header\",True).load(\"Root/\")\n",
    "df.show()\n",
    "##note: partition specific file not loading apart from it's working fine."
   ]
  },
  {
   "cell_type": "code",
   "execution_count": null,
   "id": "d940d538",
   "metadata": {},
   "outputs": [],
   "source": []
  }
 ],
 "metadata": {
  "kernelspec": {
   "display_name": "Python 3 (ipykernel)",
   "language": "python",
   "name": "python3"
  },
  "language_info": {
   "codemirror_mode": {
    "name": "ipython",
    "version": 3
   },
   "file_extension": ".py",
   "mimetype": "text/x-python",
   "name": "python",
   "nbconvert_exporter": "python",
   "pygments_lexer": "ipython3",
   "version": "3.10.9"
  }
 },
 "nbformat": 4,
 "nbformat_minor": 5
}
