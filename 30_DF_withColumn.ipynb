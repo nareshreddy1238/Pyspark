{
 "cells": [
  {
   "cell_type": "code",
   "execution_count": 54,
   "id": "9b59c13a-6d7e-4201-a4c0-e6fdcf420086",
   "metadata": {},
   "outputs": [
    {
     "name": "stdout",
     "output_type": "stream",
     "text": [
      "+---------+----------+--------+----------+------+------+\n",
      "|firstname|middlename|lastname|dob       |gender|salary|\n",
      "+---------+----------+--------+----------+------+------+\n",
      "|James    |          |Smith   |1991-04-01|M     |3000  |\n",
      "|Michael  |Rose      |        |2000-05-19|M     |4000  |\n",
      "|Robert   |          |Williams|1978-09-05|M     |4000  |\n",
      "|Maria    |Anne      |Jones   |1967-12-01|F     |4000  |\n",
      "|Jen      |Mary      |Brown   |1980-02-17|F     |-1    |\n",
      "+---------+----------+--------+----------+------+------+\n",
      "\n"
     ]
    }
   ],
   "source": [
    "from pyspark.sql import SparkSession\n",
    "spark = SparkSession.builder.appName('App').getOrCreate()\n",
    "\n",
    "data = [('James','','Smith','1991-04-01','M',3000),\n",
    "  ('Michael','Rose','','2000-05-19','M',4000),\n",
    "  ('Robert','','Williams','1978-09-05','M',4000),\n",
    "  ('Maria','Anne','Jones','1967-12-01','F',4000),\n",
    "  ('Jen','Mary','Brown','1980-02-17','F',-1)\n",
    "]\n",
    "\n",
    "columns = [\"firstname\",\"middlename\",\"lastname\",\"dob\",\"gender\",\"salary\"]\n",
    "\n",
    "df = spark.createDataFrame(data=data, schema = columns)\n",
    "df.show(truncate=False)"
   ]
  },
  {
   "cell_type": "code",
   "execution_count": 4,
   "id": "1663fe9a-bb8c-4926-91c0-38627cb07a84",
   "metadata": {},
   "outputs": [
    {
     "name": "stdout",
     "output_type": "stream",
     "text": [
      "root\n",
      " |-- firstname: string (nullable = true)\n",
      " |-- middlename: string (nullable = true)\n",
      " |-- lastname: string (nullable = true)\n",
      " |-- dob: date (nullable = true)\n",
      " |-- gender: boolean (nullable = true)\n",
      " |-- salary: integer (nullable = true)\n",
      "\n"
     ]
    }
   ],
   "source": [
    "from pyspark.sql.types import IntegerType,BooleanType,DateType\n",
    "from pyspark.sql.functions import col\n",
    "\n",
    "df = df.withColumn(\"salary\", df[\"salary\"].cast(IntegerType()))\n",
    "df = df.withColumn(\"dob\",df.dob.cast(DateType()))\n",
    "df = df.withColumn(\"gender\",df.gender.cast(BooleanType()))\n",
    "\n",
    "df.printSchema()"
   ]
  },
  {
   "cell_type": "code",
   "execution_count": 5,
   "id": "2802677d-764a-4c37-aa28-cfb56f487afa",
   "metadata": {},
   "outputs": [
    {
     "name": "stdout",
     "output_type": "stream",
     "text": [
      "+---------+----------+--------+----------+------+------+\n",
      "|firstname|middlename|lastname|       dob|gender|salary|\n",
      "+---------+----------+--------+----------+------+------+\n",
      "|    James|          |   Smith|1991-04-01|  null|300000|\n",
      "|  Michael|      Rose|        |2000-05-19|  null|400000|\n",
      "|   Robert|          |Williams|1978-09-05|  null|400000|\n",
      "|    Maria|      Anne|   Jones|1967-12-01| false|400000|\n",
      "|      Jen|      Mary|   Brown|1980-02-17| false|  -100|\n",
      "+---------+----------+--------+----------+------+------+\n",
      "\n",
      "+---------+----------+--------+----------+------+------+\n",
      "|firstname|middlename|lastname|       dob|gender|salary|\n",
      "+---------+----------+--------+----------+------+------+\n",
      "|    James|          |   Smith|1991-04-01|  null|  3000|\n",
      "|  Michael|      Rose|        |2000-05-19|  null|  4000|\n",
      "|   Robert|          |Williams|1978-09-05|  null|  4000|\n",
      "|    Maria|      Anne|   Jones|1967-12-01| false|  4000|\n",
      "|      Jen|      Mary|   Brown|1980-02-17| false|    -1|\n",
      "+---------+----------+--------+----------+------+------+\n",
      "\n"
     ]
    }
   ],
   "source": [
    "df.withColumn(\"salary\",col(\"salary\")*100).show()\n",
    "df.show()"
   ]
  },
  {
   "cell_type": "code",
   "execution_count": 11,
   "id": "ec371167-e66b-4f79-9657-c1ce37b7ef72",
   "metadata": {},
   "outputs": [
    {
     "name": "stdout",
     "output_type": "stream",
     "text": [
      "+---------+----------+--------+----------+------+------+\n",
      "|firstname|middlename|lastname|       dob|gender|salary|\n",
      "+---------+----------+--------+----------+------+------+\n",
      "|    James|          |   Smith|1991-04-01|  null|  3000|\n",
      "|  Michael|      Rose|        |2000-05-19|  null|  4000|\n",
      "|   Robert|          |Williams|1978-09-05|  null|  4000|\n",
      "|    Maria|      Anne|   Jones|1967-12-01| false|  4000|\n",
      "|      Jen|      Mary|   Brown|1980-02-17| false|  1000|\n",
      "+---------+----------+--------+----------+------+------+\n",
      "\n"
     ]
    }
   ],
   "source": [
    "from pyspark.sql.functions import when, col\n",
    "\n",
    "df = df.withColumn(\"salary\", when((col(\"firstname\") == \"Jen\"), 1000).otherwise(col(\"salary\")))\n",
    "df.show()"
   ]
  },
  {
   "cell_type": "code",
   "execution_count": 13,
   "id": "c7f84183-1425-4ca6-ab2f-308db6381770",
   "metadata": {},
   "outputs": [
    {
     "name": "stdout",
     "output_type": "stream",
     "text": [
      "+---------+----------+--------+----------+------+------+---------+\n",
      "|firstname|middlename|lastname|       dob|gender|salary|salary_10|\n",
      "+---------+----------+--------+----------+------+------+---------+\n",
      "|    James|          |   Smith|1991-04-01|  null|  3000|     4000|\n",
      "|  Michael|      Rose|        |2000-05-19|  null|  4000|     5000|\n",
      "|   Robert|          |Williams|1978-09-05|  null|  4000|     5000|\n",
      "|    Maria|      Anne|   Jones|1967-12-01| false|  4000|     5000|\n",
      "|      Jen|      Mary|   Brown|1980-02-17| false|  1000|     2000|\n",
      "+---------+----------+--------+----------+------+------+---------+\n",
      "\n"
     ]
    }
   ],
   "source": [
    "df = df.withColumn(\"salary_10\", col(\"salary\") + 1000)\n",
    "df.show()"
   ]
  },
  {
   "cell_type": "code",
   "execution_count": 30,
   "id": "e164af9c-ddd9-4457-8c83-a5e40030eb31",
   "metadata": {},
   "outputs": [
    {
     "name": "stdout",
     "output_type": "stream",
     "text": [
      "+---------+----------+--------+----------+------+------+---------+---+\n",
      "|firstname|middlename|lastname|       dob|gender|salary|salary_10| ID|\n",
      "+---------+----------+--------+----------+------+------+---------+---+\n",
      "|    James|          |   Smith|1991-04-01|  null|  3000|     4000|  5|\n",
      "|  Michael|      Rose|        |2000-05-19|  null|  4000|     5000|  5|\n",
      "|   Robert|          |Williams|1978-09-05|  null|  4000|     5000|  5|\n",
      "|    Maria|      Anne|   Jones|1967-12-01| false|  4000|     5000|  5|\n",
      "|      Jen|      Mary|   Brown|1980-02-17| false|  1000|     2000|  5|\n",
      "+---------+----------+--------+----------+------+------+---------+---+\n",
      "\n"
     ]
    }
   ],
   "source": [
    "from pyspark.sql.functions import lit\n",
    "\n",
    "df.withColumn(\"ID\", lit(3))\n",
    "df.show()"
   ]
  },
  {
   "cell_type": "code",
   "execution_count": 34,
   "id": "3cfdbb5e-233c-4048-b662-74aec4c14be8",
   "metadata": {},
   "outputs": [
    {
     "name": "stdout",
     "output_type": "stream",
     "text": [
      "+---------+----------+--------+----------+------+------+---------+---+\n",
      "|firstname|middlename|lastname|       dob|gender|salary|salary_10| ID|\n",
      "+---------+----------+--------+----------+------+------+---------+---+\n",
      "|    James|          |   Smith|1991-04-01|  null|  3000|     4000|  5|\n",
      "|  Michael|      Rose|        |2000-05-19|  null|  4000|     5000|  5|\n",
      "|   Robert|          |Williams|1978-09-05|  null|  4000|     5000|  5|\n",
      "|    Maria|      Anne|   Jones|1967-12-01| false|  4000|     5000|  5|\n",
      "|      Jen|      Mary|   Brown|1980-02-17| false|  1000|     2000|  5|\n",
      "+---------+----------+--------+----------+------+------+---------+---+\n",
      "\n"
     ]
    }
   ],
   "source": [
    "from pyspark.sql.functions import col, lit\n",
    "\n",
    "df = df.withColumn(\"ID\", lit(0))  \n",
    "for i in range(1, 6):\n",
    "    df = df.withColumn(\"ID\", (col(\"ID\") + lit(1)))\n",
    "df1.show()"
   ]
  },
  {
   "cell_type": "code",
   "execution_count": 36,
   "id": "6e4f21e3-071a-4a33-83e2-1e322a676e8e",
   "metadata": {},
   "outputs": [
    {
     "name": "stdout",
     "output_type": "stream",
     "text": [
      "+---------+----------+--------+----------+------+------+-----------+---+\n",
      "|firstname|middlename|lastname|       dob|gender|salary|hike_Salary| ID|\n",
      "+---------+----------+--------+----------+------+------+-----------+---+\n",
      "|    James|          |   Smith|1991-04-01|  null|  3000|       4000|  5|\n",
      "|  Michael|      Rose|        |2000-05-19|  null|  4000|       5000|  5|\n",
      "|   Robert|          |Williams|1978-09-05|  null|  4000|       5000|  5|\n",
      "|    Maria|      Anne|   Jones|1967-12-01| false|  4000|       5000|  5|\n",
      "|      Jen|      Mary|   Brown|1980-02-17| false|  1000|       2000|  5|\n",
      "+---------+----------+--------+----------+------+------+-----------+---+\n",
      "\n"
     ]
    }
   ],
   "source": [
    "df = df.withColumnRenamed(\"salary_10\",\"hike_Salary\")\n",
    "df.show()"
   ]
  },
  {
   "cell_type": "code",
   "execution_count": 37,
   "id": "a8002507-c4cc-497c-b1d1-ad1705155d68",
   "metadata": {},
   "outputs": [
    {
     "name": "stdout",
     "output_type": "stream",
     "text": [
      "+---------+----------+--------+----------+------+------+---+\n",
      "|firstname|middlename|lastname|       dob|gender|salary| ID|\n",
      "+---------+----------+--------+----------+------+------+---+\n",
      "|    James|          |   Smith|1991-04-01|  null|  3000|  5|\n",
      "|  Michael|      Rose|        |2000-05-19|  null|  4000|  5|\n",
      "|   Robert|          |Williams|1978-09-05|  null|  4000|  5|\n",
      "|    Maria|      Anne|   Jones|1967-12-01| false|  4000|  5|\n",
      "|      Jen|      Mary|   Brown|1980-02-17| false|  1000|  5|\n",
      "+---------+----------+--------+----------+------+------+---+\n",
      "\n"
     ]
    }
   ],
   "source": [
    "df.drop(\"hike_salary\").show() "
   ]
  },
  {
   "cell_type": "code",
   "execution_count": 55,
   "id": "933ba3ed-8a25-4d31-9ddc-74d34ebe29c9",
   "metadata": {},
   "outputs": [
    {
     "name": "stdout",
     "output_type": "stream",
     "text": [
      "+-------+-----+--------+----------+------+------+\n",
      "|  fname|mname|   lname|       dob|gender|salary|\n",
      "+-------+-----+--------+----------+------+------+\n",
      "|  James|     |   Smith|1991-04-01|     M|  3000|\n",
      "|Michael| Rose|        |2000-05-19|     M|  4000|\n",
      "| Robert|     |Williams|1978-09-05|     M|  4000|\n",
      "|  Maria| Anne|   Jones|1967-12-01|     F|  4000|\n",
      "|    Jen| Mary|   Brown|1980-02-17|     F|    -1|\n",
      "+-------+-----+--------+----------+------+------+\n",
      "\n"
     ]
    }
   ],
   "source": [
    "df.select(col(\"firstname\").alias(\"fname\"), \\\n",
    "  col(\"middlename\").alias(\"mname\"), \\\n",
    "  col(\"lastname\").alias(\"lname\"), \\\n",
    "  col(\"dob\"),col(\"gender\"),col(\"salary\")) \\\n",
    "  .show()"
   ]
  },
  {
   "cell_type": "code",
   "execution_count": 60,
   "id": "e129fa74-9a44-469f-9fec-9ffc48a5913d",
   "metadata": {},
   "outputs": [
    {
     "ename": "SyntaxError",
     "evalue": "invalid syntax (3057354751.py, line 2)",
     "output_type": "error",
     "traceback": [
      "\u001b[1;36m  Cell \u001b[1;32mIn[60], line 2\u001b[1;36m\u001b[0m\n\u001b[1;33m    .withColumn(\"mname\",col(\"name.middlename\"), \\\u001b[0m\n\u001b[1;37m    ^\u001b[0m\n\u001b[1;31mSyntaxError\u001b[0m\u001b[1;31m:\u001b[0m invalid syntax\n"
     ]
    }
   ],
   "source": [
    "df4 = df.withColumn(\"fname\",col(\"name.firstname\"),\\\n",
    "      .withColumn(\"mname\",col(\"name.middlename\"), \\\n",
    "      .withColumn(\"lname\",col(\"name.lastname\"))\n",
    "df4.show()"
   ]
  },
  {
   "cell_type": "code",
   "execution_count": null,
   "id": "db348f81-02e6-4351-a539-c254cd0d029c",
   "metadata": {},
   "outputs": [],
   "source": []
  }
 ],
 "metadata": {
  "kernelspec": {
   "display_name": "Python 3 (ipykernel)",
   "language": "python",
   "name": "python3"
  },
  "language_info": {
   "codemirror_mode": {
    "name": "ipython",
    "version": 3
   },
   "file_extension": ".py",
   "mimetype": "text/x-python",
   "name": "python",
   "nbconvert_exporter": "python",
   "pygments_lexer": "ipython3",
   "version": "3.10.9"
  }
 },
 "nbformat": 4,
 "nbformat_minor": 5
}
