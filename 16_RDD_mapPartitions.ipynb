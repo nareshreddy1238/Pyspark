{
 "cells": [
  {
   "cell_type": "code",
   "execution_count": 3,
   "id": "2ba0e0fb-8dfa-44c2-8bf2-76ba95f04a09",
   "metadata": {},
   "outputs": [
    {
     "name": "stdout",
     "output_type": "stream",
     "text": [
      "mapPartitions: [3, 7, 11]\n",
      "mapPartitionsWithIndex: [(0, 3), (1, 7), (2, 11)]\n"
     ]
    }
   ],
   "source": [
    "from pyspark.sql import SparkSession\n",
    "\n",
    "spark = SparkSession.builder.master(\"local[1]\").appName('app').getOrCreate()\n",
    "sc = spark.sparkContext\n",
    "rdd = sc.parallelize([1, 2, 3, 4, 5, 6], 3) \n",
    "def compute_sum(iterator):\n",
    "    yield sum(iterator)\n",
    "result_rdd = rdd.mapPartitions(compute_sum)\n",
    "print(\"mapPartitions:\",result_rdd.collect())\n",
    "def compute_sum_with_index(partition_index, iterator):\n",
    "    yield (partition_index, sum(iterator))\n",
    "result_rdd1 = rdd.mapPartitionsWithIndex(compute_sum_with_index)\n",
    "print(\"mapPartitionsWithIndex:\",result_rdd1.collect())"
   ]
  },
  {
   "cell_type": "code",
   "execution_count": null,
   "id": "2c4bf21e-a0bc-4eea-96de-35f3c1623684",
   "metadata": {},
   "outputs": [],
   "source": []
  }
 ],
 "metadata": {
  "kernelspec": {
   "display_name": "Python 3 (ipykernel)",
   "language": "python",
   "name": "python3"
  },
  "language_info": {
   "codemirror_mode": {
    "name": "ipython",
    "version": 3
   },
   "file_extension": ".py",
   "mimetype": "text/x-python",
   "name": "python",
   "nbconvert_exporter": "python",
   "pygments_lexer": "ipython3",
   "version": "3.10.9"
  }
 },
 "nbformat": 4,
 "nbformat_minor": 5
}
