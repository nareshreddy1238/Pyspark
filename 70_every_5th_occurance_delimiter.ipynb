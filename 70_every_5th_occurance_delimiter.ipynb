{
 "cells": [
  {
   "cell_type": "markdown",
   "id": "b1ecda9b",
   "metadata": {},
   "source": [
    "#### consider an input text file, holding single row with pipe delimited as shown below. How will you \"apply line break to every 5th occurrence of pipe delimiter\" and display as shown below ?\n",
    "input text:\n",
    "Name|Branch|Per|Tech|phone|Naresh|B.Tech|65%|Bigdata,Devops|9980528846|Nikky|M.Tech|95%|FullStackDev|+890916|Milky|BE|75%|.net|98909543|Miraj|Degree|55%|RDO|989091689|Madhu|NTech|45%|FrontendDev|99990916|"
   ]
  },
  {
   "cell_type": "code",
   "execution_count": 32,
   "id": "40448405",
   "metadata": {},
   "outputs": [
    {
     "name": "stdout",
     "output_type": "stream",
     "text": [
      "root\n",
      " |-- _c0: string (nullable = true)\n",
      "\n",
      "+--------------------------------------------------------------------------------------------------------------------------------------------------------------------------------+\n",
      "|_c0                                                                                                                                                                             |\n",
      "+--------------------------------------------------------------------------------------------------------------------------------------------------------------------------------+\n",
      "|Naresh|B.Tech|65%|Bigdata,Devops|9980528846|Nikky|M.Tech|95%|FullStackDev|+890916|Milky|BE|75%|.net|98909543|Miraj|Degree|55%|RDO|989091689|Madhu|NTech|45%|FrontendDev|99990916|\n",
      "+--------------------------------------------------------------------------------------------------------------------------------------------------------------------------------+\n",
      "\n"
     ]
    }
   ],
   "source": [
    "from pyspark.sql import SparkSession\n",
    "\n",
    "spark = SparkSession.builder.appName('demo').getOrCreate()\n",
    "df = spark.read.csv(\"branch.csv\")\n",
    "df.printSchema()\n",
    "df.show(truncate=False)"
   ]
  },
  {
   "cell_type": "code",
   "execution_count": 33,
   "id": "ab745875",
   "metadata": {},
   "outputs": [
    {
     "name": "stdout",
     "output_type": "stream",
     "text": [
      "+------------------------------------------------------------------------------------------------------------------------------------------------------------------------------------+\n",
      "|col                                                                                                                                                                                 |\n",
      "+------------------------------------------------------------------------------------------------------------------------------------------------------------------------------------+\n",
      "|Naresh|B.Tech|65%|Bigdata,Devops|9980528846|=Nikky|M.Tech|95%|FullStackDev|+890916|=Milky|BE|75%|.net|98909543|=Miraj|Degree|55%|RDO|989091689|=Madhu|NTech|45%|FrontendDev|99990916|\n",
      "+------------------------------------------------------------------------------------------------------------------------------------------------------------------------------------+\n",
      "\n"
     ]
    }
   ],
   "source": [
    "from pyspark.sql.functions import regexp_replace\n",
    "\n",
    "df1 = df.withColumn(\"col\",regexp_replace(\"_c0\",\"(.*?\\\\|){5}\",\"$0=\"))\n",
    "df1.select(\"col\").show(truncate=False)"
   ]
  },
  {
   "cell_type": "code",
   "execution_count": 34,
   "id": "831943c3",
   "metadata": {},
   "outputs": [
    {
     "name": "stdout",
     "output_type": "stream",
     "text": [
      "+-------------------------------------------+\n",
      "|col_explode                                |\n",
      "+-------------------------------------------+\n",
      "|Naresh|B.Tech|65%|Bigdata,Devops|9980528846|\n",
      "|Nikky|M.Tech|95%|FullStackDev|+890916      |\n",
      "|Milky|BE|75%|.net|98909543                 |\n",
      "|Miraj|Degree|55%|RDO|989091689             |\n",
      "|Madhu|NTech|45%|FrontendDev|99990916       |\n",
      "+-------------------------------------------+\n",
      "\n"
     ]
    }
   ],
   "source": [
    "from pyspark.sql.functions import split, explode\n",
    "\n",
    "df2 = df1.withColumn('col_explode',explode(split('col','\\|='))).select('col_explode')\n",
    "df2.show(truncate=False)"
   ]
  },
  {
   "cell_type": "code",
   "execution_count": 35,
   "id": "68444168",
   "metadata": {},
   "outputs": [
    {
     "name": "stdout",
     "output_type": "stream",
     "text": [
      "+------+------+---+--------------+----------+\n",
      "|  Name|Branch|Per|          Tech|     phone|\n",
      "+------+------+---+--------------+----------+\n",
      "|Naresh|B.Tech|65%|Bigdata,Devops|9980528846|\n",
      "| Nikky|M.Tech|95%|  FullStackDev|   +890916|\n",
      "| Milky|    BE|75%|          .net|  98909543|\n",
      "| Miraj|Degree|55%|           RDO| 989091689|\n",
      "| Madhu| NTech|45%|   FrontendDev|  99990916|\n",
      "+------+------+---+--------------+----------+\n",
      "\n"
     ]
    }
   ],
   "source": [
    "rdd_df = df2.select('col_explode').rdd.map(lambda x:x[0].split(\"|\"))\n",
    "rdd_df.toDF([\"Name\",\"Branch\",\"Per\",\"Tech\",\"phone\"]).show()"
   ]
  },
  {
   "cell_type": "code",
   "execution_count": null,
   "id": "d9ad55fa",
   "metadata": {},
   "outputs": [],
   "source": []
  }
 ],
 "metadata": {
  "kernelspec": {
   "display_name": "Python 3 (ipykernel)",
   "language": "python",
   "name": "python3"
  },
  "language_info": {
   "codemirror_mode": {
    "name": "ipython",
    "version": 3
   },
   "file_extension": ".py",
   "mimetype": "text/x-python",
   "name": "python",
   "nbconvert_exporter": "python",
   "pygments_lexer": "ipython3",
   "version": "3.10.9"
  }
 },
 "nbformat": 4,
 "nbformat_minor": 5
}
