{
 "cells": [
  {
   "cell_type": "code",
   "execution_count": 2,
   "id": "5d394416-a716-44ed-a2bc-34fd8605c833",
   "metadata": {},
   "outputs": [
    {
     "name": "stdout",
     "output_type": "stream",
     "text": [
      "join: [(2, ('Bob', 'New York')), (3, ('Charlie', 'San Francisco'))]\n",
      "left outer join: [(2, ('Bob', 'New York')), (1, ('Alice', None)), (3, ('Charlie', 'San Francisco'))]\n",
      "left outer join: [(2, ('Bob', 'New York')), (4, (None, 'Los Angeles')), (3, ('Charlie', 'San Francisco'))]\n",
      "full outer join: [(2, ('Bob', 'New York')), (4, (None, 'Los Angeles')), (1, ('Alice', None)), (3, ('Charlie', 'San Francisco'))]\n"
     ]
    }
   ],
   "source": [
    "from pyspark.sql import SparkSession\n",
    "\n",
    "spark = SparkSession.builder.master(\"local[1]\").appName('app').getOrCreate()\n",
    "sc = spark.sparkContext\n",
    "rdd1 = sc.parallelize([(1, \"Alice\"), (2, \"Bob\"), (3, \"Charlie\")])\n",
    "rdd2 = sc.parallelize([(2, \"New York\"), (3, \"San Francisco\"), (4, \"Los Angeles\")])\n",
    "join = rdd1.join(rdd2)\n",
    "print(\"join:\", join.collect())\n",
    "left_join = rdd1.leftOuterJoin(rdd2)\n",
    "print(\"left outer join:\", left_join.collect())\n",
    "right_join = rdd1.rightOuterJoin(rdd2)\n",
    "print(\"left outer join:\", right_join.collect())\n",
    "full_outer_join = rdd1.fullOuterJoin(rdd2)\n",
    "print(\"full outer join:\", full_outer_join.collect())\n"
   ]
  },
  {
   "cell_type": "code",
   "execution_count": null,
   "id": "f125c030-1eb4-4fc9-9e30-7f34d9a1d06f",
   "metadata": {},
   "outputs": [],
   "source": []
  }
 ],
 "metadata": {
  "kernelspec": {
   "display_name": "Python 3 (ipykernel)",
   "language": "python",
   "name": "python3"
  },
  "language_info": {
   "codemirror_mode": {
    "name": "ipython",
    "version": 3
   },
   "file_extension": ".py",
   "mimetype": "text/x-python",
   "name": "python",
   "nbconvert_exporter": "python",
   "pygments_lexer": "ipython3",
   "version": "3.10.9"
  }
 },
 "nbformat": 4,
 "nbformat_minor": 5
}
