{
 "cells": [
  {
   "cell_type": "markdown",
   "id": "d6585d4e",
   "metadata": {},
   "source": [
    "# coding assignment: \n",
    "1. Read the input text file (pipe delimited) provided as df\n",
    "2. Calculate Final_price: Final_Price = (Size * Price_SQ_FT)\n",
    "3. save the final rdd into csv file with header as pipe delimited \n",
    "    property_id|location|Final_Price"
   ]
  },
  {
   "cell_type": "code",
   "execution_count": 12,
   "id": "b0b8fe37",
   "metadata": {
    "scrolled": true
   },
   "outputs": [
    {
     "name": "stdout",
     "output_type": "stream",
     "text": [
      "root\n",
      " |-- Property_ID: integer (nullable = true)\n",
      " |-- Location: string (nullable = true)\n",
      " |-- Price: integer (nullable = true)\n",
      " |-- Bedrooms: integer (nullable = true)\n",
      " |-- Bathrooms: integer (nullable = true)\n",
      " |-- Size: integer (nullable = true)\n",
      " |-- Price_SQ_FT: double (nullable = true)\n",
      " |-- Status: string (nullable = true)\n",
      "\n",
      "+-----------+--------------+------+--------+---------+----+-----------+----------+\n",
      "|Property_ID|      Location| Price|Bedrooms|Bathrooms|Size|Price_SQ_FT|    Status|\n",
      "+-----------+--------------+------+--------+---------+----+-----------+----------+\n",
      "|    1461262| Arroyo Grande|795000|       3|        3|2371|      365.3|Short Sale|\n",
      "|    1478004|   Paulo Pablo|399000|       4|        3|2818|     163.59|Short Sale|\n",
      "|    1486551|   Paulo Pablo|545000|       4|        3|3032|     179.75|Short Sale|\n",
      "|    1492832|     Santa Bay|909000|       4|        4|3540|     286.78|Short Sale|\n",
      "|    1499102|Thomas Country|109900|       3|        1|1249|      98.99|Short Sale|\n",
      "|    1489132|Thomas Country|109000|       2|        1|1129|      93.99|Short Sale|\n",
      "|    1467262|    Fort Worth|987000|       4|        3|2771|      465.3|Short Sale|\n",
      "|    1478114|   Paulo Pablo|409000|       4|        3|2918|     223.19|Short Sale|\n",
      "|    1402551|     Nashville|545000|       4|        3|2932|     169.75|Short Sale|\n",
      "|    1405832|      San Jose|980000|       4|        4|3340|     290.98|Short Sale|\n",
      "|    1493302|    Fort Worth|119900|       3|        2|2249|     198.99|Short Sale|\n",
      "|    1412332|Thomas Country|129000|       3|        2|1329|      73.99|Short Sale|\n",
      "|    1469062| Arroyo Grande|798000|       3|        4|2321|      235.9|Short Sale|\n",
      "|    1498004|     Nashville|789000|       4|        3|2419|     263.59|Short Sale|\n",
      "|    1586751|     Nashville|896000|       4|        3|3132|     199.75|Short Sale|\n",
      "|    1433232|      Glendale|987000|       4|        4|3340|     216.78|Short Sale|\n",
      "|    1495502|    Fort Worth|219900|       3|        2| 987|     200.99|Short Sale|\n",
      "|    1489100|      San Jose|107200|       1|        1| 789|      78.99|Short Sale|\n",
      "+-----------+--------------+------+--------+---------+----+-----------+----------+\n",
      "\n"
     ]
    }
   ],
   "source": [
    "#1. Read the input csv file (pipe delimited) provided as df\n",
    "from pyspark.sql import SparkSession\n",
    "\n",
    "spark = SparkSession.builder.master(\"local\").appName('Assign').getOrCreate()\n",
    "df = spark.read.option(\"delimiter\", \"|\").csv(\"input_real_estate.txt\", header=True, inferSchema=True)\n",
    "df.printSchema()\n",
    "df.show()"
   ]
  },
  {
   "cell_type": "code",
   "execution_count": 13,
   "id": "3079c7b0",
   "metadata": {},
   "outputs": [],
   "source": [
    "# 3. Calculate Final_price: Final_Price = (Size * Price_SQ_FT)\n",
    "final_df = df.withColumn(\"Final_Price\", col(\"Size\") * col(\"Price_SQ_FT\"))"
   ]
  },
  {
   "cell_type": "code",
   "execution_count": 16,
   "id": "39f1429f",
   "metadata": {},
   "outputs": [],
   "source": [
    "# 4.  save the final rdd into csv file with header as pipe delimited property_id|location|Final_Price\n",
    "final_df.select(\"property_id\", \"location\", \"Final_Price\").write.csv(\"77_final_output_1.csv\", sep=\"|\", header=True, mode=\"overwrite\")"
   ]
  },
  {
   "cell_type": "code",
   "execution_count": null,
   "id": "69559a0f",
   "metadata": {},
   "outputs": [],
   "source": []
  }
 ],
 "metadata": {
  "kernelspec": {
   "display_name": "Python 3 (ipykernel)",
   "language": "python",
   "name": "python3"
  },
  "language_info": {
   "codemirror_mode": {
    "name": "ipython",
    "version": 3
   },
   "file_extension": ".py",
   "mimetype": "text/x-python",
   "name": "python",
   "nbconvert_exporter": "python",
   "pygments_lexer": "ipython3",
   "version": "3.10.9"
  }
 },
 "nbformat": 4,
 "nbformat_minor": 5
}
