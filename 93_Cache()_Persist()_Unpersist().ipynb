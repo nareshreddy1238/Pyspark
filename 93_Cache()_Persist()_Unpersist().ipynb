{
 "cells": [
  {
   "cell_type": "markdown",
   "id": "f83fdc52",
   "metadata": {},
   "source": [
    "# Cache & Persist in RDD"
   ]
  },
  {
   "cell_type": "code",
   "execution_count": 3,
   "id": "655bc797",
   "metadata": {},
   "outputs": [],
   "source": [
    "from pyspark.sql import SparkSession\n",
    "\n",
    "spark = SparkSession.builder.master(\"local[1]\").appName('app').getOrCreate()\n",
    "sc = spark.sparkContext\n",
    "rdd = sc.textFile('customer.csv')"
   ]
  },
  {
   "cell_type": "code",
   "execution_count": 11,
   "id": "ced60c7d",
   "metadata": {},
   "outputs": [
    {
     "name": "stdout",
     "output_type": "stream",
     "text": [
      "elapsed time:5.635955899953842\n"
     ]
    }
   ],
   "source": [
    "import timeit\n",
    "start = timeit.default_timer()\n",
    "rdd.count()\n",
    "rdd.min()\n",
    "rdd.max()\n",
    "rdd.collect()\n",
    "end = timeit.default_timer()\n",
    "print(\"elapsed time:{}\".format(end-start))"
   ]
  },
  {
   "cell_type": "code",
   "execution_count": 35,
   "id": "cc46581c",
   "metadata": {},
   "outputs": [
    {
     "data": {
      "text/plain": [
       "customer.csv MapPartitionsRDD[5] at textFile at NativeMethodAccessorImpl.java:0"
      ]
     },
     "execution_count": 35,
     "metadata": {},
     "output_type": "execute_result"
    }
   ],
   "source": [
    "rdd.cache()"
   ]
  },
  {
   "cell_type": "code",
   "execution_count": 13,
   "id": "f4bc27b9",
   "metadata": {},
   "outputs": [
    {
     "name": "stdout",
     "output_type": "stream",
     "text": [
      "elapsed time:5.440546400030144\n"
     ]
    }
   ],
   "source": [
    "import timeit\n",
    "start = timeit.default_timer()\n",
    "rdd.count()\n",
    "rdd.min()\n",
    "rdd.max()\n",
    "rdd.collect()\n",
    "end = timeit.default_timer()\n",
    "print(\"elapsed time:{}\".format(end-start))"
   ]
  },
  {
   "cell_type": "code",
   "execution_count": 34,
   "id": "97a3b4c6",
   "metadata": {},
   "outputs": [
    {
     "data": {
      "text/plain": [
       "customer.csv MapPartitionsRDD[5] at textFile at NativeMethodAccessorImpl.java:0"
      ]
     },
     "execution_count": 34,
     "metadata": {},
     "output_type": "execute_result"
    }
   ],
   "source": [
    "rdd.unpersist()"
   ]
  },
  {
   "cell_type": "code",
   "execution_count": 25,
   "id": "cfa02e4d",
   "metadata": {},
   "outputs": [
    {
     "data": {
      "text/plain": [
       "customer.csv MapPartitionsRDD[5] at textFile at NativeMethodAccessorImpl.java:0"
      ]
     },
     "execution_count": 25,
     "metadata": {},
     "output_type": "execute_result"
    }
   ],
   "source": [
    "import pyspark\n",
    "rdd.unpersist()\n",
    "rdd.persist(pyspark.StorageLevel.MEMORY_AND_DISK)"
   ]
  },
  {
   "cell_type": "markdown",
   "id": "9028ebde",
   "metadata": {},
   "source": [
    "# Cache() & Persist() & unPersist() in DataFrames"
   ]
  },
  {
   "cell_type": "code",
   "execution_count": 70,
   "id": "24e77d5d",
   "metadata": {},
   "outputs": [
    {
     "name": "stdout",
     "output_type": "stream",
     "text": [
      "+----------------+------------------+\n",
      "|            City|sum(2019_estimate)|\n",
      "+----------------+------------------+\n",
      "|           Tyler|            106985|\n",
      "|           Tempe|            195805|\n",
      "|          Corona|            169868|\n",
      "|     Springfield|            114230|\n",
      "|        Thornton|            141464|\n",
      "|         Phoenix|           1680992|\n",
      "|        McKinney|            199177|\n",
      "|    Fort Collins|            170243|\n",
      "|         Anaheim|            350365|\n",
      "|        Temecula|            114761|\n",
      "|          Dallas|           1343573|\n",
      "|San Francisco[g]|            881549|\n",
      "|         Oakland|            433031|\n",
      "|          Laredo|            262491|\n",
      "|       Oceanside|            175742|\n",
      "|      Scottsdale|            258069|\n",
      "|      Naperville|            148449|\n",
      "|         Fontana|            214547|\n",
      "|     San Antonio|           1547253|\n",
      "|     Bakersfield|            384145|\n",
      "+----------------+------------------+\n",
      "only showing top 20 rows\n",
      "\n",
      "elapsed time:4.200958099914715\n"
     ]
    }
   ],
   "source": [
    "df = spark.read.options(header=True,inferSchema=True,delimiter='|').csv(\"uspopulation.csv\")\n",
    "import timeit\n",
    "start = timeit.default_timer()\n",
    "df = df.groupBy(\"City\").sum(\"2019_estimate\")\n",
    "df.collect()\n",
    "df.show()\n",
    "end = timeit.default_timer()\n",
    "print(\"elapsed time:{}\".format(end-start))"
   ]
  },
  {
   "cell_type": "code",
   "execution_count": 71,
   "id": "c8e88634",
   "metadata": {},
   "outputs": [
    {
     "data": {
      "text/plain": [
       "DataFrame[City: string, sum(2019_estimate): bigint]"
      ]
     },
     "execution_count": 71,
     "metadata": {},
     "output_type": "execute_result"
    }
   ],
   "source": [
    "df.cache()"
   ]
  },
  {
   "cell_type": "code",
   "execution_count": 81,
   "id": "7f352bff",
   "metadata": {},
   "outputs": [
    {
     "name": "stdout",
     "output_type": "stream",
     "text": [
      "+----------------+------------------+\n",
      "|            City|sum(2019_estimate)|\n",
      "+----------------+------------------+\n",
      "|           Tyler|            106985|\n",
      "|           Tempe|            195805|\n",
      "|          Corona|            169868|\n",
      "|     Springfield|            114230|\n",
      "|        Thornton|            141464|\n",
      "|         Phoenix|           1680992|\n",
      "|        McKinney|            199177|\n",
      "|    Fort Collins|            170243|\n",
      "|         Anaheim|            350365|\n",
      "|        Temecula|            114761|\n",
      "|          Dallas|           1343573|\n",
      "|San Francisco[g]|            881549|\n",
      "|         Oakland|            433031|\n",
      "|          Laredo|            262491|\n",
      "|       Oceanside|            175742|\n",
      "|      Scottsdale|            258069|\n",
      "|      Naperville|            148449|\n",
      "|         Fontana|            214547|\n",
      "|     San Antonio|           1547253|\n",
      "|     Bakersfield|            384145|\n",
      "+----------------+------------------+\n",
      "only showing top 20 rows\n",
      "\n",
      "elapsed time:1.4182319999672472\n"
     ]
    }
   ],
   "source": [
    "df = spark.read.options(header=True,inferSchema=True,delimiter='|').csv(\"uspopulation.csv\")\n",
    "import timeit\n",
    "start = timeit.default_timer()\n",
    "df = df.groupBy(\"City\").sum(\"2019_estimate\")\n",
    "df.collect()\n",
    "df.show()\n",
    "end = timeit.default_timer()\n",
    "print(\"elapsed time:{}\".format(end-start))"
   ]
  },
  {
   "cell_type": "code",
   "execution_count": 75,
   "id": "91a3fe52",
   "metadata": {},
   "outputs": [
    {
     "data": {
      "text/plain": [
       "DataFrame[City: string, sum(2019_estimate): bigint]"
      ]
     },
     "execution_count": 75,
     "metadata": {},
     "output_type": "execute_result"
    }
   ],
   "source": [
    "df.unpersist()"
   ]
  },
  {
   "cell_type": "code",
   "execution_count": 66,
   "id": "ea196c61",
   "metadata": {},
   "outputs": [
    {
     "data": {
      "text/plain": [
       "DataFrame[City: string, sum(2019_estimate): bigint]"
      ]
     },
     "execution_count": 66,
     "metadata": {},
     "output_type": "execute_result"
    }
   ],
   "source": [
    "import pyspark\n",
    "\n",
    "df.persist(pyspark.StorageLevel.MEMORY_AND_DISK)"
   ]
  },
  {
   "cell_type": "code",
   "execution_count": null,
   "id": "f03e6aec",
   "metadata": {},
   "outputs": [],
   "source": []
  }
 ],
 "metadata": {
  "kernelspec": {
   "display_name": "Python 3 (ipykernel)",
   "language": "python",
   "name": "python3"
  },
  "language_info": {
   "codemirror_mode": {
    "name": "ipython",
    "version": 3
   },
   "file_extension": ".py",
   "mimetype": "text/x-python",
   "name": "python",
   "nbconvert_exporter": "python",
   "pygments_lexer": "ipython3",
   "version": "3.10.9"
  }
 },
 "nbformat": 4,
 "nbformat_minor": 5
}
