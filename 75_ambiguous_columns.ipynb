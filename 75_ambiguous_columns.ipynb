{
 "cells": [
  {
   "cell_type": "markdown",
   "id": "6e076b0e",
   "metadata": {},
   "source": [
    "### ambiguous columns (duplicate column names) in CSV files"
   ]
  },
  {
   "cell_type": "code",
   "execution_count": 1,
   "id": "0f337c48",
   "metadata": {},
   "outputs": [
    {
     "name": "stdout",
     "output_type": "stream",
     "text": [
      "root\n",
      " |-- CustomerId0: string (nullable = true)\n",
      " |-- CustomerId1: string (nullable = true)\n",
      " |-- CustomerName: string (nullable = true)\n",
      " |-- dateTime: string (nullable = true)\n",
      "\n",
      "+-----------+-----------+------------+-------------------+\n",
      "|CustomerId0|CustomerId1|CustomerName|           dateTime|\n",
      "+-----------+-----------+------------+-------------------+\n",
      "|       1001|        101|        Arun|2020-07-15 01:01:53|\n",
      "|       1005|        102|      Barath|2020-07-13 12:15:33|\n",
      "|       1003|        103|      Charle|2020-07-18 20:10:45|\n",
      "|       1004|        104|       Gokul|2020-07-15 11:11:36|\n",
      "|       1005|        105|       Messy|2020-07-18 15:11:43|\n",
      "|       1006|        106|      Gerold|2020-07-08 14:16:53|\n",
      "+-----------+-----------+------------+-------------------+\n",
      "\n"
     ]
    }
   ],
   "source": [
    "from pyspark.sql import SparkSession\n",
    "\n",
    "spark = SparkSession.builder.appName('app').getOrCreate()\n",
    "\n",
    "df = spark.read.csv(\"trans.csv\",header=True)\n",
    "df.printSchema()\n",
    "df.show()"
   ]
  },
  {
   "cell_type": "markdown",
   "id": "3a407dcf",
   "metadata": {},
   "source": [
    "### Ambiguous Columns: Json format multiline"
   ]
  },
  {
   "cell_type": "code",
   "execution_count": 4,
   "id": "3dee74b3",
   "metadata": {},
   "outputs": [
    {
     "name": "stdout",
     "output_type": "stream",
     "text": [
      "root\n",
      " |-- Delivery: struct (nullable = true)\n",
      " |    |-- address: string (nullable = true)\n",
      " |    |-- mob: string (nullable = true)\n",
      " |    |-- name: string (nullable = true)\n",
      " |-- name: string (nullable = true)\n",
      " |-- product: string (nullable = true)\n",
      "\n",
      "+---------------------------------+-------+---------+\n",
      "|Delivery                         |name   |product  |\n",
      "+---------------------------------+-------+---------+\n",
      "|{Chennai, 1234567, Azarudeen}    |AZAR   |Headphone|\n",
      "|{Bangalore, 5738612, Bharathiraj}|Bharath|T-shirt  |\n",
      "+---------------------------------+-------+---------+\n",
      "\n"
     ]
    }
   ],
   "source": [
    "df1 = spark.read.json('input1.json',multiLine=True)\n",
    "df1.printSchema()\n",
    "df1.show(truncate=False)"
   ]
  },
  {
   "cell_type": "code",
   "execution_count": 7,
   "id": "220023fd",
   "metadata": {},
   "outputs": [
    {
     "name": "stdout",
     "output_type": "stream",
     "text": [
      "+-------+---------+---------+-------+-----------+\n",
      "|   name|  product|  address|    mob|       name|\n",
      "+-------+---------+---------+-------+-----------+\n",
      "|   AZAR|Headphone|  Chennai|1234567|  Azarudeen|\n",
      "|Bharath|  T-shirt|Bangalore|5738612|Bharathiraj|\n",
      "+-------+---------+---------+-------+-----------+\n",
      "\n"
     ]
    }
   ],
   "source": [
    "df2 = df1.select(\"*\",\"Delivery.*\").drop(\"Delivery\")\n",
    "df2.show()"
   ]
  },
  {
   "cell_type": "code",
   "execution_count": 8,
   "id": "a4bd3b9c",
   "metadata": {},
   "outputs": [
    {
     "data": {
      "text/plain": [
       "['name', 'product', 'address', 'mob', 'name']"
      ]
     },
     "execution_count": 8,
     "metadata": {},
     "output_type": "execute_result"
    }
   ],
   "source": [
    "df2.columns"
   ]
  },
  {
   "cell_type": "code",
   "execution_count": 27,
   "id": "532a0743",
   "metadata": {},
   "outputs": [
    {
     "name": "stdout",
     "output_type": "stream",
     "text": [
      "['name', 'product', 'address', 'mob', 'name1']\n"
     ]
    }
   ],
   "source": [
    "lst=[]\n",
    "x=1\n",
    "for i in df2.columns:\n",
    "    if i in lst:\n",
    "        i = i+str(x)\n",
    "        x=x+1\n",
    "    lst.append(i)\n",
    "print(lst)"
   ]
  },
  {
   "cell_type": "code",
   "execution_count": 30,
   "id": "86a663c2",
   "metadata": {},
   "outputs": [
    {
     "name": "stdout",
     "output_type": "stream",
     "text": [
      "+-------+---------+---------+-------+-----------+\n",
      "|   name|  product|  address|    mob|      name1|\n",
      "+-------+---------+---------+-------+-----------+\n",
      "|   AZAR|Headphone|  Chennai|1234567|  Azarudeen|\n",
      "|Bharath|  T-shirt|Bangalore|5738612|Bharathiraj|\n",
      "+-------+---------+---------+-------+-----------+\n",
      "\n"
     ]
    }
   ],
   "source": [
    "df = df2.toDF(*lst)\n",
    "df.show()"
   ]
  },
  {
   "cell_type": "code",
   "execution_count": null,
   "id": "2b64a7f4",
   "metadata": {},
   "outputs": [],
   "source": []
  }
 ],
 "metadata": {
  "kernelspec": {
   "display_name": "Python 3 (ipykernel)",
   "language": "python",
   "name": "python3"
  },
  "language_info": {
   "codemirror_mode": {
    "name": "ipython",
    "version": 3
   },
   "file_extension": ".py",
   "mimetype": "text/x-python",
   "name": "python",
   "nbconvert_exporter": "python",
   "pygments_lexer": "ipython3",
   "version": "3.10.9"
  }
 },
 "nbformat": 4,
 "nbformat_minor": 5
}
